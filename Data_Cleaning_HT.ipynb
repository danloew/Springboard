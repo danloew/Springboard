{
 "cells": [
  {
   "cell_type": "code",
   "execution_count": 1,
   "metadata": {},
   "outputs": [],
   "source": [
    "import csv\n",
    "import numpy as np\n",
    "import pandas as pd"
   ]
  },
  {
   "cell_type": "code",
   "execution_count": 2,
   "metadata": {},
   "outputs": [],
   "source": [
    "pd.set_option('display.max_rows', 1130)\n",
    "pd.set_option('display.max_columns', 550)\n",
    "pd.set_option('display.width', 1000)"
   ]
  },
  {
   "cell_type": "markdown",
   "metadata": {},
   "source": [
    "NYPD Complaint Data Historic\" dataset downloaded from https://data.cityofnewyork.us/Public-Safety/NYPD-Complaint-Data-Historic/qgea-i56i , and loaded into nyc_crime DataFrame below."
   ]
  },
  {
   "cell_type": "code",
   "execution_count": 3,
   "metadata": {
    "scrolled": false
   },
   "outputs": [
    {
     "name": "stderr",
     "output_type": "stream",
     "text": [
      "/Users/DanLoew/anaconda3/lib/python3.7/site-packages/IPython/core/interactiveshell.py:3049: DtypeWarning: Columns (18,20) have mixed types. Specify dtype option on import or set low_memory=False.\n",
      "  interactivity=interactivity, compiler=compiler, result=result)\n"
     ]
    }
   ],
   "source": [
    "#NYC Crime Data downloaded from https://data.cityofnewyork.us/Public-Safety/NYPD-Complaint-Data-Historic/qgea-i56i\n",
    "nyc_data_path = open('/Users/DanLoew/Documents/Academia/Springboard/NYPD_Complaint_Data_Historic.csv', 'r')\n",
    "nyc_crime = pd.read_csv(nyc_data_path)"
   ]
  },
  {
   "cell_type": "code",
   "execution_count": 4,
   "metadata": {},
   "outputs": [
    {
     "data": {
      "text/plain": [
       "'PARKS_NM'"
      ]
     },
     "execution_count": 4,
     "metadata": {},
     "output_type": "execute_result"
    }
   ],
   "source": [
    "#inspect what column 18 is as it was warned above as having mixed data types\n",
    "nyc_crime.columns[18]"
   ]
  },
  {
   "cell_type": "code",
   "execution_count": 5,
   "metadata": {},
   "outputs": [
    {
     "data": {
      "text/plain": [
       "'HOUSING_PSA'"
      ]
     },
     "execution_count": 5,
     "metadata": {},
     "output_type": "execute_result"
    }
   ],
   "source": [
    "#inspect what column 20 is as it was warned above as having mixed data types\n",
    "nyc_crime.columns[20]"
   ]
  },
  {
   "cell_type": "markdown",
   "metadata": {},
   "source": [
    "There are too many different data values for the 'PARKS_NM' and 'HOUSING _PSA' variables to be split into binary machine variable labels (e.g., with get_dummies()), they aren't well labeled, and its not at all\n",
    "clear what 'HOUSING_PSA' is describing from the data dictionary. So these two variables are dropped from the DataFrame."
   ]
  },
  {
   "cell_type": "code",
   "execution_count": 6,
   "metadata": {},
   "outputs": [],
   "source": [
    "nyc_crime = nyc_crime.drop(columns=['PARKS_NM', 'HOUSING_PSA'])"
   ]
  },
  {
   "cell_type": "markdown",
   "metadata": {},
   "source": [
    "This data cleaning run is to create a cleaned DataFrame of the entire set, and then take samples for the inferential statistics and hypothesis testing portions of the capstone project. "
   ]
  },
  {
   "cell_type": "markdown",
   "metadata": {},
   "source": [
    "A first look through the DataFrame using .head(), .tail(), .shape, .info(), .describe(), and .columns."
   ]
  },
  {
   "cell_type": "code",
   "execution_count": 7,
   "metadata": {
    "scrolled": false
   },
   "outputs": [
    {
     "data": {
      "text/html": [
       "<div>\n",
       "<style scoped>\n",
       "    .dataframe tbody tr th:only-of-type {\n",
       "        vertical-align: middle;\n",
       "    }\n",
       "\n",
       "    .dataframe tbody tr th {\n",
       "        vertical-align: top;\n",
       "    }\n",
       "\n",
       "    .dataframe thead th {\n",
       "        text-align: right;\n",
       "    }\n",
       "</style>\n",
       "<table border=\"1\" class=\"dataframe\">\n",
       "  <thead>\n",
       "    <tr style=\"text-align: right;\">\n",
       "      <th></th>\n",
       "      <th>CMPLNT_NUM</th>\n",
       "      <th>CMPLNT_FR_DT</th>\n",
       "      <th>CMPLNT_FR_TM</th>\n",
       "      <th>CMPLNT_TO_DT</th>\n",
       "      <th>CMPLNT_TO_TM</th>\n",
       "      <th>ADDR_PCT_CD</th>\n",
       "      <th>RPT_DT</th>\n",
       "      <th>KY_CD</th>\n",
       "      <th>OFNS_DESC</th>\n",
       "      <th>PD_CD</th>\n",
       "      <th>PD_DESC</th>\n",
       "      <th>CRM_ATPT_CPTD_CD</th>\n",
       "      <th>LAW_CAT_CD</th>\n",
       "      <th>BORO_NM</th>\n",
       "      <th>LOC_OF_OCCUR_DESC</th>\n",
       "      <th>PREM_TYP_DESC</th>\n",
       "      <th>JURIS_DESC</th>\n",
       "      <th>JURISDICTION_CODE</th>\n",
       "      <th>HADEVELOPT</th>\n",
       "      <th>X_COORD_CD</th>\n",
       "      <th>Y_COORD_CD</th>\n",
       "      <th>SUSP_AGE_GROUP</th>\n",
       "      <th>SUSP_RACE</th>\n",
       "      <th>SUSP_SEX</th>\n",
       "      <th>TRANSIT_DISTRICT</th>\n",
       "      <th>Latitude</th>\n",
       "      <th>Longitude</th>\n",
       "      <th>Lat_Lon</th>\n",
       "      <th>PATROL_BORO</th>\n",
       "      <th>STATION_NAME</th>\n",
       "      <th>VIC_AGE_GROUP</th>\n",
       "      <th>VIC_RACE</th>\n",
       "      <th>VIC_SEX</th>\n",
       "    </tr>\n",
       "  </thead>\n",
       "  <tbody>\n",
       "    <tr>\n",
       "      <th>0</th>\n",
       "      <td>577055921</td>\n",
       "      <td>12/31/2018</td>\n",
       "      <td>19:00:00</td>\n",
       "      <td>12/31/2018</td>\n",
       "      <td>19:35:00</td>\n",
       "      <td>75.0</td>\n",
       "      <td>12/31/2018</td>\n",
       "      <td>361</td>\n",
       "      <td>OFF. AGNST PUB ORD SENSBLTY &amp;</td>\n",
       "      <td>639.0</td>\n",
       "      <td>AGGRAVATED HARASSMENT 2</td>\n",
       "      <td>COMPLETED</td>\n",
       "      <td>MISDEMEANOR</td>\n",
       "      <td>BROOKLYN</td>\n",
       "      <td>INSIDE</td>\n",
       "      <td>RESIDENCE - PUBLIC HOUSING</td>\n",
       "      <td>N.Y. HOUSING POLICE</td>\n",
       "      <td>2.0</td>\n",
       "      <td>EAST NEW YORK CITY LINE</td>\n",
       "      <td>1019655.0</td>\n",
       "      <td>182468.0</td>\n",
       "      <td>&lt;18</td>\n",
       "      <td>BLACK</td>\n",
       "      <td>F</td>\n",
       "      <td>NaN</td>\n",
       "      <td>40.667447</td>\n",
       "      <td>-73.872377</td>\n",
       "      <td>(40.667446665, -73.872377258)</td>\n",
       "      <td>PATROL BORO BKLYN NORTH</td>\n",
       "      <td>NaN</td>\n",
       "      <td>18-24</td>\n",
       "      <td>BLACK</td>\n",
       "      <td>M</td>\n",
       "    </tr>\n",
       "    <tr>\n",
       "      <th>1</th>\n",
       "      <td>311304275</td>\n",
       "      <td>12/31/2018</td>\n",
       "      <td>15:00:00</td>\n",
       "      <td>12/31/2018</td>\n",
       "      <td>16:00:00</td>\n",
       "      <td>41.0</td>\n",
       "      <td>12/31/2018</td>\n",
       "      <td>344</td>\n",
       "      <td>ASSAULT 3 &amp; RELATED OFFENSES</td>\n",
       "      <td>101.0</td>\n",
       "      <td>ASSAULT 3</td>\n",
       "      <td>COMPLETED</td>\n",
       "      <td>MISDEMEANOR</td>\n",
       "      <td>BRONX</td>\n",
       "      <td>INSIDE</td>\n",
       "      <td>STREET</td>\n",
       "      <td>N.Y. POLICE DEPT</td>\n",
       "      <td>0.0</td>\n",
       "      <td>NaN</td>\n",
       "      <td>1015845.0</td>\n",
       "      <td>236500.0</td>\n",
       "      <td>25-44</td>\n",
       "      <td>WHITE HISPANIC</td>\n",
       "      <td>F</td>\n",
       "      <td>NaN</td>\n",
       "      <td>40.815765</td>\n",
       "      <td>-73.885857</td>\n",
       "      <td>(40.815765327, -73.885857339)</td>\n",
       "      <td>PATROL BORO BRONX</td>\n",
       "      <td>NaN</td>\n",
       "      <td>18-24</td>\n",
       "      <td>WHITE HISPANIC</td>\n",
       "      <td>F</td>\n",
       "    </tr>\n",
       "    <tr>\n",
       "      <th>2</th>\n",
       "      <td>427481098</td>\n",
       "      <td>12/31/2018</td>\n",
       "      <td>18:00:00</td>\n",
       "      <td>12/31/2018</td>\n",
       "      <td>18:30:00</td>\n",
       "      <td>14.0</td>\n",
       "      <td>12/31/2018</td>\n",
       "      <td>109</td>\n",
       "      <td>GRAND LARCENY</td>\n",
       "      <td>410.0</td>\n",
       "      <td>LARCENY,GRAND FROM RETAIL STORE, UNATTENDED</td>\n",
       "      <td>COMPLETED</td>\n",
       "      <td>FELONY</td>\n",
       "      <td>MANHATTAN</td>\n",
       "      <td>INSIDE</td>\n",
       "      <td>CLOTHING/BOUTIQUE</td>\n",
       "      <td>N.Y. POLICE DEPT</td>\n",
       "      <td>0.0</td>\n",
       "      <td>NaN</td>\n",
       "      <td>988318.0</td>\n",
       "      <td>212070.0</td>\n",
       "      <td>NaN</td>\n",
       "      <td>NaN</td>\n",
       "      <td>NaN</td>\n",
       "      <td>NaN</td>\n",
       "      <td>40.748767</td>\n",
       "      <td>-73.985320</td>\n",
       "      <td>(40.748767014, -73.985319659)</td>\n",
       "      <td>PATROL BORO MAN SOUTH</td>\n",
       "      <td>NaN</td>\n",
       "      <td>18-24</td>\n",
       "      <td>UNKNOWN</td>\n",
       "      <td>F</td>\n",
       "    </tr>\n",
       "    <tr>\n",
       "      <th>3</th>\n",
       "      <td>212387335</td>\n",
       "      <td>12/31/2018</td>\n",
       "      <td>16:50:00</td>\n",
       "      <td>12/31/2018</td>\n",
       "      <td>17:00:00</td>\n",
       "      <td>81.0</td>\n",
       "      <td>12/31/2018</td>\n",
       "      <td>106</td>\n",
       "      <td>FELONY ASSAULT</td>\n",
       "      <td>109.0</td>\n",
       "      <td>ASSAULT 2,1,UNCLASSIFIED</td>\n",
       "      <td>ATTEMPTED</td>\n",
       "      <td>FELONY</td>\n",
       "      <td>BROOKLYN</td>\n",
       "      <td>INSIDE</td>\n",
       "      <td>RESIDENCE - APT. HOUSE</td>\n",
       "      <td>N.Y. POLICE DEPT</td>\n",
       "      <td>0.0</td>\n",
       "      <td>NaN</td>\n",
       "      <td>1006734.0</td>\n",
       "      <td>188708.0</td>\n",
       "      <td>25-44</td>\n",
       "      <td>BLACK</td>\n",
       "      <td>M</td>\n",
       "      <td>NaN</td>\n",
       "      <td>40.684616</td>\n",
       "      <td>-73.918933</td>\n",
       "      <td>(40.684616294, -73.918932657)</td>\n",
       "      <td>PATROL BORO BKLYN NORTH</td>\n",
       "      <td>NaN</td>\n",
       "      <td>25-44</td>\n",
       "      <td>BLACK</td>\n",
       "      <td>M</td>\n",
       "    </tr>\n",
       "    <tr>\n",
       "      <th>4</th>\n",
       "      <td>629543587</td>\n",
       "      <td>12/31/2018</td>\n",
       "      <td>00:45:00</td>\n",
       "      <td>12/31/2018</td>\n",
       "      <td>01:00:00</td>\n",
       "      <td>26.0</td>\n",
       "      <td>12/31/2018</td>\n",
       "      <td>344</td>\n",
       "      <td>ASSAULT 3 &amp; RELATED OFFENSES</td>\n",
       "      <td>101.0</td>\n",
       "      <td>ASSAULT 3</td>\n",
       "      <td>COMPLETED</td>\n",
       "      <td>MISDEMEANOR</td>\n",
       "      <td>MANHATTAN</td>\n",
       "      <td>INSIDE</td>\n",
       "      <td>OTHER</td>\n",
       "      <td>N.Y. POLICE DEPT</td>\n",
       "      <td>0.0</td>\n",
       "      <td>NaN</td>\n",
       "      <td>994261.0</td>\n",
       "      <td>232730.0</td>\n",
       "      <td>18-24</td>\n",
       "      <td>BLACK</td>\n",
       "      <td>F</td>\n",
       "      <td>NaN</td>\n",
       "      <td>40.805469</td>\n",
       "      <td>-73.963840</td>\n",
       "      <td>(40.805468548, -73.963840045)</td>\n",
       "      <td>PATROL BORO MAN NORTH</td>\n",
       "      <td>NaN</td>\n",
       "      <td>25-44</td>\n",
       "      <td>WHITE HISPANIC</td>\n",
       "      <td>M</td>\n",
       "    </tr>\n",
       "  </tbody>\n",
       "</table>\n",
       "</div>"
      ],
      "text/plain": [
       "   CMPLNT_NUM CMPLNT_FR_DT CMPLNT_FR_TM CMPLNT_TO_DT CMPLNT_TO_TM  ADDR_PCT_CD      RPT_DT  KY_CD                      OFNS_DESC  PD_CD                                      PD_DESC CRM_ATPT_CPTD_CD   LAW_CAT_CD    BORO_NM LOC_OF_OCCUR_DESC               PREM_TYP_DESC           JURIS_DESC  JURISDICTION_CODE               HADEVELOPT  X_COORD_CD  Y_COORD_CD SUSP_AGE_GROUP       SUSP_RACE SUSP_SEX  TRANSIT_DISTRICT   Latitude  Longitude                        Lat_Lon              PATROL_BORO STATION_NAME VIC_AGE_GROUP        VIC_RACE VIC_SEX\n",
       "0   577055921   12/31/2018     19:00:00   12/31/2018     19:35:00         75.0  12/31/2018    361  OFF. AGNST PUB ORD SENSBLTY &  639.0                      AGGRAVATED HARASSMENT 2        COMPLETED  MISDEMEANOR   BROOKLYN            INSIDE  RESIDENCE - PUBLIC HOUSING  N.Y. HOUSING POLICE                2.0  EAST NEW YORK CITY LINE   1019655.0    182468.0            <18           BLACK        F               NaN  40.667447 -73.872377  (40.667446665, -73.872377258)  PATROL BORO BKLYN NORTH          NaN         18-24           BLACK       M\n",
       "1   311304275   12/31/2018     15:00:00   12/31/2018     16:00:00         41.0  12/31/2018    344   ASSAULT 3 & RELATED OFFENSES  101.0                                    ASSAULT 3        COMPLETED  MISDEMEANOR      BRONX            INSIDE                      STREET     N.Y. POLICE DEPT                0.0                      NaN   1015845.0    236500.0          25-44  WHITE HISPANIC        F               NaN  40.815765 -73.885857  (40.815765327, -73.885857339)        PATROL BORO BRONX          NaN         18-24  WHITE HISPANIC       F\n",
       "2   427481098   12/31/2018     18:00:00   12/31/2018     18:30:00         14.0  12/31/2018    109                  GRAND LARCENY  410.0  LARCENY,GRAND FROM RETAIL STORE, UNATTENDED        COMPLETED       FELONY  MANHATTAN            INSIDE           CLOTHING/BOUTIQUE     N.Y. POLICE DEPT                0.0                      NaN    988318.0    212070.0            NaN             NaN      NaN               NaN  40.748767 -73.985320  (40.748767014, -73.985319659)    PATROL BORO MAN SOUTH          NaN         18-24         UNKNOWN       F\n",
       "3   212387335   12/31/2018     16:50:00   12/31/2018     17:00:00         81.0  12/31/2018    106                 FELONY ASSAULT  109.0                     ASSAULT 2,1,UNCLASSIFIED        ATTEMPTED       FELONY   BROOKLYN            INSIDE      RESIDENCE - APT. HOUSE     N.Y. POLICE DEPT                0.0                      NaN   1006734.0    188708.0          25-44           BLACK        M               NaN  40.684616 -73.918933  (40.684616294, -73.918932657)  PATROL BORO BKLYN NORTH          NaN         25-44           BLACK       M\n",
       "4   629543587   12/31/2018     00:45:00   12/31/2018     01:00:00         26.0  12/31/2018    344   ASSAULT 3 & RELATED OFFENSES  101.0                                    ASSAULT 3        COMPLETED  MISDEMEANOR  MANHATTAN            INSIDE                       OTHER     N.Y. POLICE DEPT                0.0                      NaN    994261.0    232730.0          18-24           BLACK        F               NaN  40.805469 -73.963840  (40.805468548, -73.963840045)    PATROL BORO MAN NORTH          NaN         25-44  WHITE HISPANIC       M"
      ]
     },
     "execution_count": 7,
     "metadata": {},
     "output_type": "execute_result"
    }
   ],
   "source": [
    "nyc_crime.head()"
   ]
  },
  {
   "cell_type": "code",
   "execution_count": 8,
   "metadata": {
    "scrolled": false
   },
   "outputs": [
    {
     "data": {
      "text/html": [
       "<div>\n",
       "<style scoped>\n",
       "    .dataframe tbody tr th:only-of-type {\n",
       "        vertical-align: middle;\n",
       "    }\n",
       "\n",
       "    .dataframe tbody tr th {\n",
       "        vertical-align: top;\n",
       "    }\n",
       "\n",
       "    .dataframe thead th {\n",
       "        text-align: right;\n",
       "    }\n",
       "</style>\n",
       "<table border=\"1\" class=\"dataframe\">\n",
       "  <thead>\n",
       "    <tr style=\"text-align: right;\">\n",
       "      <th></th>\n",
       "      <th>CMPLNT_NUM</th>\n",
       "      <th>CMPLNT_FR_DT</th>\n",
       "      <th>CMPLNT_FR_TM</th>\n",
       "      <th>CMPLNT_TO_DT</th>\n",
       "      <th>CMPLNT_TO_TM</th>\n",
       "      <th>ADDR_PCT_CD</th>\n",
       "      <th>RPT_DT</th>\n",
       "      <th>KY_CD</th>\n",
       "      <th>OFNS_DESC</th>\n",
       "      <th>PD_CD</th>\n",
       "      <th>PD_DESC</th>\n",
       "      <th>CRM_ATPT_CPTD_CD</th>\n",
       "      <th>LAW_CAT_CD</th>\n",
       "      <th>BORO_NM</th>\n",
       "      <th>LOC_OF_OCCUR_DESC</th>\n",
       "      <th>PREM_TYP_DESC</th>\n",
       "      <th>JURIS_DESC</th>\n",
       "      <th>JURISDICTION_CODE</th>\n",
       "      <th>HADEVELOPT</th>\n",
       "      <th>X_COORD_CD</th>\n",
       "      <th>Y_COORD_CD</th>\n",
       "      <th>SUSP_AGE_GROUP</th>\n",
       "      <th>SUSP_RACE</th>\n",
       "      <th>SUSP_SEX</th>\n",
       "      <th>TRANSIT_DISTRICT</th>\n",
       "      <th>Latitude</th>\n",
       "      <th>Longitude</th>\n",
       "      <th>Lat_Lon</th>\n",
       "      <th>PATROL_BORO</th>\n",
       "      <th>STATION_NAME</th>\n",
       "      <th>VIC_AGE_GROUP</th>\n",
       "      <th>VIC_RACE</th>\n",
       "      <th>VIC_SEX</th>\n",
       "    </tr>\n",
       "  </thead>\n",
       "  <tbody>\n",
       "    <tr>\n",
       "      <th>6500865</th>\n",
       "      <td>608025222</td>\n",
       "      <td>NaN</td>\n",
       "      <td>18:00:00</td>\n",
       "      <td>NaN</td>\n",
       "      <td>NaN</td>\n",
       "      <td>23.0</td>\n",
       "      <td>06/06/2014</td>\n",
       "      <td>578</td>\n",
       "      <td>HARRASSMENT 2</td>\n",
       "      <td>638.0</td>\n",
       "      <td>HARASSMENT,SUBD 3,4,5</td>\n",
       "      <td>COMPLETED</td>\n",
       "      <td>VIOLATION</td>\n",
       "      <td>MANHATTAN</td>\n",
       "      <td>INSIDE</td>\n",
       "      <td>RESIDENCE - APT. HOUSE</td>\n",
       "      <td>N.Y. POLICE DEPT</td>\n",
       "      <td>0.0</td>\n",
       "      <td>NaN</td>\n",
       "      <td>1001924.0</td>\n",
       "      <td>227875.0</td>\n",
       "      <td>NaN</td>\n",
       "      <td>BLACK</td>\n",
       "      <td>F</td>\n",
       "      <td>NaN</td>\n",
       "      <td>40.792131</td>\n",
       "      <td>-73.936173</td>\n",
       "      <td>(40.792130892, -73.936172792)</td>\n",
       "      <td>PATROL BORO MAN NORTH</td>\n",
       "      <td>NaN</td>\n",
       "      <td>25-44</td>\n",
       "      <td>BLACK</td>\n",
       "      <td>M</td>\n",
       "    </tr>\n",
       "    <tr>\n",
       "      <th>6500866</th>\n",
       "      <td>347331285</td>\n",
       "      <td>NaN</td>\n",
       "      <td>23:55:00</td>\n",
       "      <td>11/21/2014</td>\n",
       "      <td>00:05:00</td>\n",
       "      <td>7.0</td>\n",
       "      <td>11/21/2014</td>\n",
       "      <td>344</td>\n",
       "      <td>ASSAULT 3 &amp; RELATED OFFENSES</td>\n",
       "      <td>101.0</td>\n",
       "      <td>ASSAULT 3</td>\n",
       "      <td>COMPLETED</td>\n",
       "      <td>MISDEMEANOR</td>\n",
       "      <td>MANHATTAN</td>\n",
       "      <td>FRONT OF</td>\n",
       "      <td>STREET</td>\n",
       "      <td>N.Y. POLICE DEPT</td>\n",
       "      <td>0.0</td>\n",
       "      <td>NaN</td>\n",
       "      <td>988082.0</td>\n",
       "      <td>200814.0</td>\n",
       "      <td>NaN</td>\n",
       "      <td>UNKNOWN</td>\n",
       "      <td>M</td>\n",
       "      <td>NaN</td>\n",
       "      <td>40.717872</td>\n",
       "      <td>-73.986178</td>\n",
       "      <td>(40.717872161, -73.986177815)</td>\n",
       "      <td>PATROL BORO MAN SOUTH</td>\n",
       "      <td>NaN</td>\n",
       "      <td>25-44</td>\n",
       "      <td>WHITE HISPANIC</td>\n",
       "      <td>M</td>\n",
       "    </tr>\n",
       "    <tr>\n",
       "      <th>6500867</th>\n",
       "      <td>129237914</td>\n",
       "      <td>NaN</td>\n",
       "      <td>17:50:00</td>\n",
       "      <td>NaN</td>\n",
       "      <td>NaN</td>\n",
       "      <td>25.0</td>\n",
       "      <td>08/22/2015</td>\n",
       "      <td>341</td>\n",
       "      <td>PETIT LARCENY</td>\n",
       "      <td>333.0</td>\n",
       "      <td>LARCENY,PETIT FROM STORE-SHOPL</td>\n",
       "      <td>COMPLETED</td>\n",
       "      <td>MISDEMEANOR</td>\n",
       "      <td>MANHATTAN</td>\n",
       "      <td>INSIDE</td>\n",
       "      <td>COMMERCIAL BUILDING</td>\n",
       "      <td>N.Y. POLICE DEPT</td>\n",
       "      <td>0.0</td>\n",
       "      <td>NaN</td>\n",
       "      <td>1001315.0</td>\n",
       "      <td>230818.0</td>\n",
       "      <td>NaN</td>\n",
       "      <td>BLACK</td>\n",
       "      <td>M</td>\n",
       "      <td>NaN</td>\n",
       "      <td>40.800210</td>\n",
       "      <td>-73.938365</td>\n",
       "      <td>(40.800209825, -73.938364683)</td>\n",
       "      <td>PATROL BORO MAN NORTH</td>\n",
       "      <td>NaN</td>\n",
       "      <td>NaN</td>\n",
       "      <td>UNKNOWN</td>\n",
       "      <td>D</td>\n",
       "    </tr>\n",
       "    <tr>\n",
       "      <th>6500868</th>\n",
       "      <td>230239029</td>\n",
       "      <td>NaN</td>\n",
       "      <td>09:25:00</td>\n",
       "      <td>02/20/2011</td>\n",
       "      <td>09:35:00</td>\n",
       "      <td>106.0</td>\n",
       "      <td>02/20/2011</td>\n",
       "      <td>351</td>\n",
       "      <td>CRIMINAL MISCHIEF &amp; RELATED OF</td>\n",
       "      <td>259.0</td>\n",
       "      <td>CRIMINAL MISCHIEF,UNCLASSIFIED 4</td>\n",
       "      <td>COMPLETED</td>\n",
       "      <td>MISDEMEANOR</td>\n",
       "      <td>QUEENS</td>\n",
       "      <td>INSIDE</td>\n",
       "      <td>RESIDENCE-HOUSE</td>\n",
       "      <td>N.Y. POLICE DEPT</td>\n",
       "      <td>0.0</td>\n",
       "      <td>NaN</td>\n",
       "      <td>1037260.0</td>\n",
       "      <td>184030.0</td>\n",
       "      <td>18-24</td>\n",
       "      <td>ASIAN / PACIFIC ISLANDER</td>\n",
       "      <td>M</td>\n",
       "      <td>NaN</td>\n",
       "      <td>40.671646</td>\n",
       "      <td>-73.808905</td>\n",
       "      <td>(40.671646094, -73.808904508)</td>\n",
       "      <td>PATROL BORO QUEENS SOUTH</td>\n",
       "      <td>NaN</td>\n",
       "      <td>45-64</td>\n",
       "      <td>ASIAN / PACIFIC ISLANDER</td>\n",
       "      <td>F</td>\n",
       "    </tr>\n",
       "    <tr>\n",
       "      <th>6500869</th>\n",
       "      <td>215287089</td>\n",
       "      <td>NaN</td>\n",
       "      <td>01:00:00</td>\n",
       "      <td>03/06/2015</td>\n",
       "      <td>14:00:00</td>\n",
       "      <td>72.0</td>\n",
       "      <td>03/06/2015</td>\n",
       "      <td>351</td>\n",
       "      <td>CRIMINAL MISCHIEF &amp; RELATED OF</td>\n",
       "      <td>254.0</td>\n",
       "      <td>MISCHIEF, CRIMINAL 4, OF MOTOR</td>\n",
       "      <td>COMPLETED</td>\n",
       "      <td>MISDEMEANOR</td>\n",
       "      <td>BROOKLYN</td>\n",
       "      <td>FRONT OF</td>\n",
       "      <td>STREET</td>\n",
       "      <td>N.Y. POLICE DEPT</td>\n",
       "      <td>0.0</td>\n",
       "      <td>NaN</td>\n",
       "      <td>979853.0</td>\n",
       "      <td>171117.0</td>\n",
       "      <td>NaN</td>\n",
       "      <td>NaN</td>\n",
       "      <td>NaN</td>\n",
       "      <td>NaN</td>\n",
       "      <td>40.636360</td>\n",
       "      <td>-74.015844</td>\n",
       "      <td>(40.636360331, -74.015843892)</td>\n",
       "      <td>PATROL BORO BKLYN SOUTH</td>\n",
       "      <td>NaN</td>\n",
       "      <td>45-64</td>\n",
       "      <td>ASIAN / PACIFIC ISLANDER</td>\n",
       "      <td>F</td>\n",
       "    </tr>\n",
       "  </tbody>\n",
       "</table>\n",
       "</div>"
      ],
      "text/plain": [
       "         CMPLNT_NUM CMPLNT_FR_DT CMPLNT_FR_TM CMPLNT_TO_DT CMPLNT_TO_TM  ADDR_PCT_CD      RPT_DT  KY_CD                       OFNS_DESC  PD_CD                           PD_DESC CRM_ATPT_CPTD_CD   LAW_CAT_CD    BORO_NM LOC_OF_OCCUR_DESC           PREM_TYP_DESC        JURIS_DESC  JURISDICTION_CODE HADEVELOPT  X_COORD_CD  Y_COORD_CD SUSP_AGE_GROUP                 SUSP_RACE SUSP_SEX  TRANSIT_DISTRICT   Latitude  Longitude                        Lat_Lon               PATROL_BORO STATION_NAME VIC_AGE_GROUP                  VIC_RACE VIC_SEX\n",
       "6500865   608025222          NaN     18:00:00          NaN          NaN         23.0  06/06/2014    578                   HARRASSMENT 2  638.0             HARASSMENT,SUBD 3,4,5        COMPLETED    VIOLATION  MANHATTAN            INSIDE  RESIDENCE - APT. HOUSE  N.Y. POLICE DEPT                0.0        NaN   1001924.0    227875.0            NaN                     BLACK        F               NaN  40.792131 -73.936173  (40.792130892, -73.936172792)     PATROL BORO MAN NORTH          NaN         25-44                     BLACK       M\n",
       "6500866   347331285          NaN     23:55:00   11/21/2014     00:05:00          7.0  11/21/2014    344    ASSAULT 3 & RELATED OFFENSES  101.0                         ASSAULT 3        COMPLETED  MISDEMEANOR  MANHATTAN          FRONT OF                  STREET  N.Y. POLICE DEPT                0.0        NaN    988082.0    200814.0            NaN                   UNKNOWN        M               NaN  40.717872 -73.986178  (40.717872161, -73.986177815)     PATROL BORO MAN SOUTH          NaN         25-44            WHITE HISPANIC       M\n",
       "6500867   129237914          NaN     17:50:00          NaN          NaN         25.0  08/22/2015    341                   PETIT LARCENY  333.0    LARCENY,PETIT FROM STORE-SHOPL        COMPLETED  MISDEMEANOR  MANHATTAN            INSIDE     COMMERCIAL BUILDING  N.Y. POLICE DEPT                0.0        NaN   1001315.0    230818.0            NaN                     BLACK        M               NaN  40.800210 -73.938365  (40.800209825, -73.938364683)     PATROL BORO MAN NORTH          NaN           NaN                   UNKNOWN       D\n",
       "6500868   230239029          NaN     09:25:00   02/20/2011     09:35:00        106.0  02/20/2011    351  CRIMINAL MISCHIEF & RELATED OF  259.0  CRIMINAL MISCHIEF,UNCLASSIFIED 4        COMPLETED  MISDEMEANOR     QUEENS            INSIDE         RESIDENCE-HOUSE  N.Y. POLICE DEPT                0.0        NaN   1037260.0    184030.0          18-24  ASIAN / PACIFIC ISLANDER        M               NaN  40.671646 -73.808905  (40.671646094, -73.808904508)  PATROL BORO QUEENS SOUTH          NaN         45-64  ASIAN / PACIFIC ISLANDER       F\n",
       "6500869   215287089          NaN     01:00:00   03/06/2015     14:00:00         72.0  03/06/2015    351  CRIMINAL MISCHIEF & RELATED OF  254.0    MISCHIEF, CRIMINAL 4, OF MOTOR        COMPLETED  MISDEMEANOR   BROOKLYN          FRONT OF                  STREET  N.Y. POLICE DEPT                0.0        NaN    979853.0    171117.0            NaN                       NaN      NaN               NaN  40.636360 -74.015844  (40.636360331, -74.015843892)   PATROL BORO BKLYN SOUTH          NaN         45-64  ASIAN / PACIFIC ISLANDER       F"
      ]
     },
     "execution_count": 8,
     "metadata": {},
     "output_type": "execute_result"
    }
   ],
   "source": [
    "nyc_crime.tail()"
   ]
  },
  {
   "cell_type": "code",
   "execution_count": 9,
   "metadata": {},
   "outputs": [
    {
     "data": {
      "text/plain": [
       "(6500870, 33)"
      ]
     },
     "execution_count": 9,
     "metadata": {},
     "output_type": "execute_result"
    }
   ],
   "source": [
    "nyc_crime.shape"
   ]
  },
  {
   "cell_type": "code",
   "execution_count": 10,
   "metadata": {
    "scrolled": true
   },
   "outputs": [
    {
     "name": "stdout",
     "output_type": "stream",
     "text": [
      "<class 'pandas.core.frame.DataFrame'>\n",
      "RangeIndex: 6500870 entries, 0 to 6500869\n",
      "Data columns (total 33 columns):\n",
      "CMPLNT_NUM           int64\n",
      "CMPLNT_FR_DT         object\n",
      "CMPLNT_FR_TM         object\n",
      "CMPLNT_TO_DT         object\n",
      "CMPLNT_TO_TM         object\n",
      "ADDR_PCT_CD          float64\n",
      "RPT_DT               object\n",
      "KY_CD                int64\n",
      "OFNS_DESC            object\n",
      "PD_CD                float64\n",
      "PD_DESC              object\n",
      "CRM_ATPT_CPTD_CD     object\n",
      "LAW_CAT_CD           object\n",
      "BORO_NM              object\n",
      "LOC_OF_OCCUR_DESC    object\n",
      "PREM_TYP_DESC        object\n",
      "JURIS_DESC           object\n",
      "JURISDICTION_CODE    float64\n",
      "HADEVELOPT           object\n",
      "X_COORD_CD           float64\n",
      "Y_COORD_CD           float64\n",
      "SUSP_AGE_GROUP       object\n",
      "SUSP_RACE            object\n",
      "SUSP_SEX             object\n",
      "TRANSIT_DISTRICT     float64\n",
      "Latitude             float64\n",
      "Longitude            float64\n",
      "Lat_Lon              object\n",
      "PATROL_BORO          object\n",
      "STATION_NAME         object\n",
      "VIC_AGE_GROUP        object\n",
      "VIC_RACE             object\n",
      "VIC_SEX              object\n",
      "dtypes: float64(8), int64(2), object(23)\n",
      "memory usage: 1.6+ GB\n"
     ]
    }
   ],
   "source": [
    "nyc_crime.info()"
   ]
  },
  {
   "cell_type": "code",
   "execution_count": 11,
   "metadata": {
    "scrolled": false
   },
   "outputs": [
    {
     "data": {
      "text/html": [
       "<div>\n",
       "<style scoped>\n",
       "    .dataframe tbody tr th:only-of-type {\n",
       "        vertical-align: middle;\n",
       "    }\n",
       "\n",
       "    .dataframe tbody tr th {\n",
       "        vertical-align: top;\n",
       "    }\n",
       "\n",
       "    .dataframe thead th {\n",
       "        text-align: right;\n",
       "    }\n",
       "</style>\n",
       "<table border=\"1\" class=\"dataframe\">\n",
       "  <thead>\n",
       "    <tr style=\"text-align: right;\">\n",
       "      <th></th>\n",
       "      <th>CMPLNT_NUM</th>\n",
       "      <th>CMPLNT_FR_DT</th>\n",
       "      <th>CMPLNT_FR_TM</th>\n",
       "      <th>CMPLNT_TO_DT</th>\n",
       "      <th>CMPLNT_TO_TM</th>\n",
       "      <th>ADDR_PCT_CD</th>\n",
       "      <th>RPT_DT</th>\n",
       "      <th>KY_CD</th>\n",
       "      <th>OFNS_DESC</th>\n",
       "      <th>PD_CD</th>\n",
       "      <th>PD_DESC</th>\n",
       "      <th>CRM_ATPT_CPTD_CD</th>\n",
       "      <th>LAW_CAT_CD</th>\n",
       "      <th>BORO_NM</th>\n",
       "      <th>LOC_OF_OCCUR_DESC</th>\n",
       "      <th>PREM_TYP_DESC</th>\n",
       "      <th>JURIS_DESC</th>\n",
       "      <th>JURISDICTION_CODE</th>\n",
       "      <th>HADEVELOPT</th>\n",
       "      <th>X_COORD_CD</th>\n",
       "      <th>Y_COORD_CD</th>\n",
       "      <th>SUSP_AGE_GROUP</th>\n",
       "      <th>SUSP_RACE</th>\n",
       "      <th>SUSP_SEX</th>\n",
       "      <th>TRANSIT_DISTRICT</th>\n",
       "      <th>Latitude</th>\n",
       "      <th>Longitude</th>\n",
       "      <th>Lat_Lon</th>\n",
       "      <th>PATROL_BORO</th>\n",
       "      <th>STATION_NAME</th>\n",
       "      <th>VIC_AGE_GROUP</th>\n",
       "      <th>VIC_RACE</th>\n",
       "      <th>VIC_SEX</th>\n",
       "    </tr>\n",
       "  </thead>\n",
       "  <tbody>\n",
       "    <tr>\n",
       "      <th>count</th>\n",
       "      <td>6.500870e+06</td>\n",
       "      <td>6500215</td>\n",
       "      <td>6500822</td>\n",
       "      <td>4893769</td>\n",
       "      <td>4898069</td>\n",
       "      <td>6.498704e+06</td>\n",
       "      <td>6500870</td>\n",
       "      <td>6.500870e+06</td>\n",
       "      <td>6482065</td>\n",
       "      <td>6.495374e+06</td>\n",
       "      <td>6495374</td>\n",
       "      <td>6500863</td>\n",
       "      <td>6500870</td>\n",
       "      <td>6490352</td>\n",
       "      <td>5106061</td>\n",
       "      <td>6463167</td>\n",
       "      <td>6500870</td>\n",
       "      <td>6.495374e+06</td>\n",
       "      <td>323664</td>\n",
       "      <td>6.483531e+06</td>\n",
       "      <td>6.483531e+06</td>\n",
       "      <td>1909907</td>\n",
       "      <td>3278448</td>\n",
       "      <td>3145134</td>\n",
       "      <td>144110.000000</td>\n",
       "      <td>6.483531e+06</td>\n",
       "      <td>6.483531e+06</td>\n",
       "      <td>6483531</td>\n",
       "      <td>6494917</td>\n",
       "      <td>144110</td>\n",
       "      <td>4862429</td>\n",
       "      <td>6500565</td>\n",
       "      <td>6500566</td>\n",
       "    </tr>\n",
       "    <tr>\n",
       "      <th>unique</th>\n",
       "      <td>NaN</td>\n",
       "      <td>7705</td>\n",
       "      <td>1441</td>\n",
       "      <td>6002</td>\n",
       "      <td>1441</td>\n",
       "      <td>NaN</td>\n",
       "      <td>4748</td>\n",
       "      <td>NaN</td>\n",
       "      <td>70</td>\n",
       "      <td>NaN</td>\n",
       "      <td>414</td>\n",
       "      <td>2</td>\n",
       "      <td>3</td>\n",
       "      <td>5</td>\n",
       "      <td>5</td>\n",
       "      <td>72</td>\n",
       "      <td>25</td>\n",
       "      <td>NaN</td>\n",
       "      <td>279</td>\n",
       "      <td>NaN</td>\n",
       "      <td>NaN</td>\n",
       "      <td>95</td>\n",
       "      <td>8</td>\n",
       "      <td>3</td>\n",
       "      <td>NaN</td>\n",
       "      <td>NaN</td>\n",
       "      <td>NaN</td>\n",
       "      <td>115631</td>\n",
       "      <td>8</td>\n",
       "      <td>371</td>\n",
       "      <td>192</td>\n",
       "      <td>8</td>\n",
       "      <td>5</td>\n",
       "    </tr>\n",
       "    <tr>\n",
       "      <th>top</th>\n",
       "      <td>NaN</td>\n",
       "      <td>01/01/2010</td>\n",
       "      <td>12:00:00</td>\n",
       "      <td>10/17/2014</td>\n",
       "      <td>12:00:00</td>\n",
       "      <td>NaN</td>\n",
       "      <td>05/29/2007</td>\n",
       "      <td>NaN</td>\n",
       "      <td>PETIT LARCENY</td>\n",
       "      <td>NaN</td>\n",
       "      <td>ASSAULT 3</td>\n",
       "      <td>COMPLETED</td>\n",
       "      <td>MISDEMEANOR</td>\n",
       "      <td>BROOKLYN</td>\n",
       "      <td>INSIDE</td>\n",
       "      <td>STREET</td>\n",
       "      <td>N.Y. POLICE DEPT</td>\n",
       "      <td>NaN</td>\n",
       "      <td>CASTLE HILL</td>\n",
       "      <td>NaN</td>\n",
       "      <td>NaN</td>\n",
       "      <td>25-44</td>\n",
       "      <td>BLACK</td>\n",
       "      <td>M</td>\n",
       "      <td>NaN</td>\n",
       "      <td>NaN</td>\n",
       "      <td>NaN</td>\n",
       "      <td>(40.750430768, -73.989282176)</td>\n",
       "      <td>PATROL BORO BRONX</td>\n",
       "      <td>125 STREET</td>\n",
       "      <td>25-44</td>\n",
       "      <td>UNKNOWN</td>\n",
       "      <td>F</td>\n",
       "    </tr>\n",
       "    <tr>\n",
       "      <th>freq</th>\n",
       "      <td>NaN</td>\n",
       "      <td>2426</td>\n",
       "      <td>173998</td>\n",
       "      <td>1369</td>\n",
       "      <td>86413</td>\n",
       "      <td>NaN</td>\n",
       "      <td>1891</td>\n",
       "      <td>NaN</td>\n",
       "      <td>1072782</td>\n",
       "      <td>NaN</td>\n",
       "      <td>564308</td>\n",
       "      <td>6389307</td>\n",
       "      <td>3683269</td>\n",
       "      <td>1935028</td>\n",
       "      <td>3278342</td>\n",
       "      <td>2100852</td>\n",
       "      <td>5774513</td>\n",
       "      <td>NaN</td>\n",
       "      <td>7081</td>\n",
       "      <td>NaN</td>\n",
       "      <td>NaN</td>\n",
       "      <td>798541</td>\n",
       "      <td>1224987</td>\n",
       "      <td>1995894</td>\n",
       "      <td>NaN</td>\n",
       "      <td>NaN</td>\n",
       "      <td>NaN</td>\n",
       "      <td>20668</td>\n",
       "      <td>1409156</td>\n",
       "      <td>7427</td>\n",
       "      <td>2110528</td>\n",
       "      <td>2186733</td>\n",
       "      <td>2539404</td>\n",
       "    </tr>\n",
       "    <tr>\n",
       "      <th>mean</th>\n",
       "      <td>5.500375e+08</td>\n",
       "      <td>NaN</td>\n",
       "      <td>NaN</td>\n",
       "      <td>NaN</td>\n",
       "      <td>NaN</td>\n",
       "      <td>6.334385e+01</td>\n",
       "      <td>NaN</td>\n",
       "      <td>2.951970e+02</td>\n",
       "      <td>NaN</td>\n",
       "      <td>4.158180e+02</td>\n",
       "      <td>NaN</td>\n",
       "      <td>NaN</td>\n",
       "      <td>NaN</td>\n",
       "      <td>NaN</td>\n",
       "      <td>NaN</td>\n",
       "      <td>NaN</td>\n",
       "      <td>NaN</td>\n",
       "      <td>7.149465e-01</td>\n",
       "      <td>NaN</td>\n",
       "      <td>1.004771e+06</td>\n",
       "      <td>2.069993e+05</td>\n",
       "      <td>NaN</td>\n",
       "      <td>NaN</td>\n",
       "      <td>NaN</td>\n",
       "      <td>13.634946</td>\n",
       "      <td>4.073480e+01</td>\n",
       "      <td>-7.392592e+01</td>\n",
       "      <td>NaN</td>\n",
       "      <td>NaN</td>\n",
       "      <td>NaN</td>\n",
       "      <td>NaN</td>\n",
       "      <td>NaN</td>\n",
       "      <td>NaN</td>\n",
       "    </tr>\n",
       "    <tr>\n",
       "      <th>std</th>\n",
       "      <td>2.597725e+08</td>\n",
       "      <td>NaN</td>\n",
       "      <td>NaN</td>\n",
       "      <td>NaN</td>\n",
       "      <td>NaN</td>\n",
       "      <td>3.446073e+01</td>\n",
       "      <td>NaN</td>\n",
       "      <td>1.494116e+02</td>\n",
       "      <td>NaN</td>\n",
       "      <td>2.181813e+02</td>\n",
       "      <td>NaN</td>\n",
       "      <td>NaN</td>\n",
       "      <td>NaN</td>\n",
       "      <td>NaN</td>\n",
       "      <td>NaN</td>\n",
       "      <td>NaN</td>\n",
       "      <td>NaN</td>\n",
       "      <td>6.629446e+00</td>\n",
       "      <td>NaN</td>\n",
       "      <td>2.178907e+04</td>\n",
       "      <td>3.164418e+04</td>\n",
       "      <td>NaN</td>\n",
       "      <td>NaN</td>\n",
       "      <td>NaN</td>\n",
       "      <td>12.485026</td>\n",
       "      <td>8.675600e-02</td>\n",
       "      <td>7.857901e-02</td>\n",
       "      <td>NaN</td>\n",
       "      <td>NaN</td>\n",
       "      <td>NaN</td>\n",
       "      <td>NaN</td>\n",
       "      <td>NaN</td>\n",
       "      <td>NaN</td>\n",
       "    </tr>\n",
       "    <tr>\n",
       "      <th>min</th>\n",
       "      <td>1.000001e+08</td>\n",
       "      <td>NaN</td>\n",
       "      <td>NaN</td>\n",
       "      <td>NaN</td>\n",
       "      <td>NaN</td>\n",
       "      <td>1.000000e+00</td>\n",
       "      <td>NaN</td>\n",
       "      <td>1.010000e+02</td>\n",
       "      <td>NaN</td>\n",
       "      <td>1.010000e+02</td>\n",
       "      <td>NaN</td>\n",
       "      <td>NaN</td>\n",
       "      <td>NaN</td>\n",
       "      <td>NaN</td>\n",
       "      <td>NaN</td>\n",
       "      <td>NaN</td>\n",
       "      <td>NaN</td>\n",
       "      <td>0.000000e+00</td>\n",
       "      <td>NaN</td>\n",
       "      <td>1.110000e+02</td>\n",
       "      <td>1.110000e+02</td>\n",
       "      <td>NaN</td>\n",
       "      <td>NaN</td>\n",
       "      <td>NaN</td>\n",
       "      <td>1.000000</td>\n",
       "      <td>4.011271e+01</td>\n",
       "      <td>-7.751921e+01</td>\n",
       "      <td>NaN</td>\n",
       "      <td>NaN</td>\n",
       "      <td>NaN</td>\n",
       "      <td>NaN</td>\n",
       "      <td>NaN</td>\n",
       "      <td>NaN</td>\n",
       "    </tr>\n",
       "    <tr>\n",
       "      <th>25%</th>\n",
       "      <td>3.251865e+08</td>\n",
       "      <td>NaN</td>\n",
       "      <td>NaN</td>\n",
       "      <td>NaN</td>\n",
       "      <td>NaN</td>\n",
       "      <td>4.000000e+01</td>\n",
       "      <td>NaN</td>\n",
       "      <td>1.170000e+02</td>\n",
       "      <td>NaN</td>\n",
       "      <td>2.540000e+02</td>\n",
       "      <td>NaN</td>\n",
       "      <td>NaN</td>\n",
       "      <td>NaN</td>\n",
       "      <td>NaN</td>\n",
       "      <td>NaN</td>\n",
       "      <td>NaN</td>\n",
       "      <td>NaN</td>\n",
       "      <td>0.000000e+00</td>\n",
       "      <td>NaN</td>\n",
       "      <td>9.916830e+05</td>\n",
       "      <td>1.842840e+05</td>\n",
       "      <td>NaN</td>\n",
       "      <td>NaN</td>\n",
       "      <td>NaN</td>\n",
       "      <td>3.000000</td>\n",
       "      <td>4.067243e+01</td>\n",
       "      <td>-7.397323e+01</td>\n",
       "      <td>NaN</td>\n",
       "      <td>NaN</td>\n",
       "      <td>NaN</td>\n",
       "      <td>NaN</td>\n",
       "      <td>NaN</td>\n",
       "      <td>NaN</td>\n",
       "    </tr>\n",
       "    <tr>\n",
       "      <th>50%</th>\n",
       "      <td>5.499805e+08</td>\n",
       "      <td>NaN</td>\n",
       "      <td>NaN</td>\n",
       "      <td>NaN</td>\n",
       "      <td>NaN</td>\n",
       "      <td>6.300000e+01</td>\n",
       "      <td>NaN</td>\n",
       "      <td>3.410000e+02</td>\n",
       "      <td>NaN</td>\n",
       "      <td>3.880000e+02</td>\n",
       "      <td>NaN</td>\n",
       "      <td>NaN</td>\n",
       "      <td>NaN</td>\n",
       "      <td>NaN</td>\n",
       "      <td>NaN</td>\n",
       "      <td>NaN</td>\n",
       "      <td>NaN</td>\n",
       "      <td>0.000000e+00</td>\n",
       "      <td>NaN</td>\n",
       "      <td>1.004369e+06</td>\n",
       "      <td>2.058520e+05</td>\n",
       "      <td>NaN</td>\n",
       "      <td>NaN</td>\n",
       "      <td>NaN</td>\n",
       "      <td>11.000000</td>\n",
       "      <td>4.073167e+01</td>\n",
       "      <td>-7.392733e+01</td>\n",
       "      <td>NaN</td>\n",
       "      <td>NaN</td>\n",
       "      <td>NaN</td>\n",
       "      <td>NaN</td>\n",
       "      <td>NaN</td>\n",
       "      <td>NaN</td>\n",
       "    </tr>\n",
       "    <tr>\n",
       "      <th>75%</th>\n",
       "      <td>7.749793e+08</td>\n",
       "      <td>NaN</td>\n",
       "      <td>NaN</td>\n",
       "      <td>NaN</td>\n",
       "      <td>NaN</td>\n",
       "      <td>9.400000e+01</td>\n",
       "      <td>NaN</td>\n",
       "      <td>3.510000e+02</td>\n",
       "      <td>NaN</td>\n",
       "      <td>6.370000e+02</td>\n",
       "      <td>NaN</td>\n",
       "      <td>NaN</td>\n",
       "      <td>NaN</td>\n",
       "      <td>NaN</td>\n",
       "      <td>NaN</td>\n",
       "      <td>NaN</td>\n",
       "      <td>NaN</td>\n",
       "      <td>0.000000e+00</td>\n",
       "      <td>NaN</td>\n",
       "      <td>1.016581e+06</td>\n",
       "      <td>2.351590e+05</td>\n",
       "      <td>NaN</td>\n",
       "      <td>NaN</td>\n",
       "      <td>NaN</td>\n",
       "      <td>30.000000</td>\n",
       "      <td>4.081212e+01</td>\n",
       "      <td>-7.388328e+01</td>\n",
       "      <td>NaN</td>\n",
       "      <td>NaN</td>\n",
       "      <td>NaN</td>\n",
       "      <td>NaN</td>\n",
       "      <td>NaN</td>\n",
       "      <td>NaN</td>\n",
       "    </tr>\n",
       "    <tr>\n",
       "      <th>max</th>\n",
       "      <td>9.999999e+08</td>\n",
       "      <td>NaN</td>\n",
       "      <td>NaN</td>\n",
       "      <td>NaN</td>\n",
       "      <td>NaN</td>\n",
       "      <td>1.230000e+02</td>\n",
       "      <td>NaN</td>\n",
       "      <td>8.810000e+02</td>\n",
       "      <td>NaN</td>\n",
       "      <td>9.750000e+02</td>\n",
       "      <td>NaN</td>\n",
       "      <td>NaN</td>\n",
       "      <td>NaN</td>\n",
       "      <td>NaN</td>\n",
       "      <td>NaN</td>\n",
       "      <td>NaN</td>\n",
       "      <td>NaN</td>\n",
       "      <td>9.700000e+01</td>\n",
       "      <td>NaN</td>\n",
       "      <td>1.067298e+06</td>\n",
       "      <td>7.250292e+06</td>\n",
       "      <td>NaN</td>\n",
       "      <td>NaN</td>\n",
       "      <td>NaN</td>\n",
       "      <td>34.000000</td>\n",
       "      <td>5.965727e+01</td>\n",
       "      <td>-7.368479e+01</td>\n",
       "      <td>NaN</td>\n",
       "      <td>NaN</td>\n",
       "      <td>NaN</td>\n",
       "      <td>NaN</td>\n",
       "      <td>NaN</td>\n",
       "      <td>NaN</td>\n",
       "    </tr>\n",
       "  </tbody>\n",
       "</table>\n",
       "</div>"
      ],
      "text/plain": [
       "          CMPLNT_NUM CMPLNT_FR_DT CMPLNT_FR_TM CMPLNT_TO_DT CMPLNT_TO_TM   ADDR_PCT_CD      RPT_DT         KY_CD      OFNS_DESC         PD_CD    PD_DESC CRM_ATPT_CPTD_CD   LAW_CAT_CD   BORO_NM LOC_OF_OCCUR_DESC PREM_TYP_DESC        JURIS_DESC  JURISDICTION_CODE   HADEVELOPT    X_COORD_CD    Y_COORD_CD SUSP_AGE_GROUP SUSP_RACE SUSP_SEX  TRANSIT_DISTRICT      Latitude     Longitude                        Lat_Lon        PATROL_BORO STATION_NAME VIC_AGE_GROUP VIC_RACE  VIC_SEX\n",
       "count   6.500870e+06      6500215      6500822      4893769      4898069  6.498704e+06     6500870  6.500870e+06        6482065  6.495374e+06    6495374          6500863      6500870   6490352           5106061       6463167           6500870       6.495374e+06       323664  6.483531e+06  6.483531e+06        1909907   3278448  3145134     144110.000000  6.483531e+06  6.483531e+06                        6483531            6494917       144110       4862429  6500565  6500566\n",
       "unique           NaN         7705         1441         6002         1441           NaN        4748           NaN             70           NaN        414                2            3         5                 5            72                25                NaN          279           NaN           NaN             95         8        3               NaN           NaN           NaN                         115631                  8          371           192        8        5\n",
       "top              NaN   01/01/2010     12:00:00   10/17/2014     12:00:00           NaN  05/29/2007           NaN  PETIT LARCENY           NaN  ASSAULT 3        COMPLETED  MISDEMEANOR  BROOKLYN            INSIDE        STREET  N.Y. POLICE DEPT                NaN  CASTLE HILL           NaN           NaN          25-44     BLACK        M               NaN           NaN           NaN  (40.750430768, -73.989282176)  PATROL BORO BRONX   125 STREET         25-44  UNKNOWN        F\n",
       "freq             NaN         2426       173998         1369        86413           NaN        1891           NaN        1072782           NaN     564308          6389307      3683269   1935028           3278342       2100852           5774513                NaN         7081           NaN           NaN         798541   1224987  1995894               NaN           NaN           NaN                          20668            1409156         7427       2110528  2186733  2539404\n",
       "mean    5.500375e+08          NaN          NaN          NaN          NaN  6.334385e+01         NaN  2.951970e+02            NaN  4.158180e+02        NaN              NaN          NaN       NaN               NaN           NaN               NaN       7.149465e-01          NaN  1.004771e+06  2.069993e+05            NaN       NaN      NaN         13.634946  4.073480e+01 -7.392592e+01                            NaN                NaN          NaN           NaN      NaN      NaN\n",
       "std     2.597725e+08          NaN          NaN          NaN          NaN  3.446073e+01         NaN  1.494116e+02            NaN  2.181813e+02        NaN              NaN          NaN       NaN               NaN           NaN               NaN       6.629446e+00          NaN  2.178907e+04  3.164418e+04            NaN       NaN      NaN         12.485026  8.675600e-02  7.857901e-02                            NaN                NaN          NaN           NaN      NaN      NaN\n",
       "min     1.000001e+08          NaN          NaN          NaN          NaN  1.000000e+00         NaN  1.010000e+02            NaN  1.010000e+02        NaN              NaN          NaN       NaN               NaN           NaN               NaN       0.000000e+00          NaN  1.110000e+02  1.110000e+02            NaN       NaN      NaN          1.000000  4.011271e+01 -7.751921e+01                            NaN                NaN          NaN           NaN      NaN      NaN\n",
       "25%     3.251865e+08          NaN          NaN          NaN          NaN  4.000000e+01         NaN  1.170000e+02            NaN  2.540000e+02        NaN              NaN          NaN       NaN               NaN           NaN               NaN       0.000000e+00          NaN  9.916830e+05  1.842840e+05            NaN       NaN      NaN          3.000000  4.067243e+01 -7.397323e+01                            NaN                NaN          NaN           NaN      NaN      NaN\n",
       "50%     5.499805e+08          NaN          NaN          NaN          NaN  6.300000e+01         NaN  3.410000e+02            NaN  3.880000e+02        NaN              NaN          NaN       NaN               NaN           NaN               NaN       0.000000e+00          NaN  1.004369e+06  2.058520e+05            NaN       NaN      NaN         11.000000  4.073167e+01 -7.392733e+01                            NaN                NaN          NaN           NaN      NaN      NaN\n",
       "75%     7.749793e+08          NaN          NaN          NaN          NaN  9.400000e+01         NaN  3.510000e+02            NaN  6.370000e+02        NaN              NaN          NaN       NaN               NaN           NaN               NaN       0.000000e+00          NaN  1.016581e+06  2.351590e+05            NaN       NaN      NaN         30.000000  4.081212e+01 -7.388328e+01                            NaN                NaN          NaN           NaN      NaN      NaN\n",
       "max     9.999999e+08          NaN          NaN          NaN          NaN  1.230000e+02         NaN  8.810000e+02            NaN  9.750000e+02        NaN              NaN          NaN       NaN               NaN           NaN               NaN       9.700000e+01          NaN  1.067298e+06  7.250292e+06            NaN       NaN      NaN         34.000000  5.965727e+01 -7.368479e+01                            NaN                NaN          NaN           NaN      NaN      NaN"
      ]
     },
     "execution_count": 11,
     "metadata": {},
     "output_type": "execute_result"
    }
   ],
   "source": [
    "nyc_crime.describe(include='all')"
   ]
  },
  {
   "cell_type": "markdown",
   "metadata": {},
   "source": [
    "The following section focuses on filling null values for those columns whose null values should not be dropped, and dropping null values for those columns whose null values do not need to be kept, in that order."
   ]
  },
  {
   "cell_type": "code",
   "execution_count": 12,
   "metadata": {
    "scrolled": true
   },
   "outputs": [
    {
     "data": {
      "text/plain": [
       "CMPLNT_NUM                 0\n",
       "CMPLNT_FR_DT             655\n",
       "CMPLNT_FR_TM              48\n",
       "CMPLNT_TO_DT         1607101\n",
       "CMPLNT_TO_TM         1602801\n",
       "ADDR_PCT_CD             2166\n",
       "RPT_DT                     0\n",
       "KY_CD                      0\n",
       "OFNS_DESC              18805\n",
       "PD_CD                   5496\n",
       "PD_DESC                 5496\n",
       "CRM_ATPT_CPTD_CD           7\n",
       "LAW_CAT_CD                 0\n",
       "BORO_NM                10518\n",
       "LOC_OF_OCCUR_DESC    1394809\n",
       "PREM_TYP_DESC          37703\n",
       "JURIS_DESC                 0\n",
       "JURISDICTION_CODE       5496\n",
       "HADEVELOPT           6177206\n",
       "X_COORD_CD             17339\n",
       "Y_COORD_CD             17339\n",
       "SUSP_AGE_GROUP       4590963\n",
       "SUSP_RACE            3222422\n",
       "SUSP_SEX             3355736\n",
       "TRANSIT_DISTRICT     6356760\n",
       "Latitude               17339\n",
       "Longitude              17339\n",
       "Lat_Lon                17339\n",
       "PATROL_BORO             5953\n",
       "STATION_NAME         6356760\n",
       "VIC_AGE_GROUP        1638441\n",
       "VIC_RACE                 305\n",
       "VIC_SEX                  304\n",
       "dtype: int64"
      ]
     },
     "execution_count": 12,
     "metadata": {},
     "output_type": "execute_result"
    }
   ],
   "source": [
    "nyc_crime.isnull().sum()"
   ]
  },
  {
   "cell_type": "code",
   "execution_count": 13,
   "metadata": {
    "scrolled": true
   },
   "outputs": [
    {
     "data": {
      "text/plain": [
       "CMPLNT_NUM                 0\n",
       "CMPLNT_FR_DT             655\n",
       "CMPLNT_FR_TM              48\n",
       "CMPLNT_TO_DT         1607101\n",
       "CMPLNT_TO_TM         1602801\n",
       "ADDR_PCT_CD             2166\n",
       "RPT_DT                     0\n",
       "KY_CD                      0\n",
       "OFNS_DESC              18805\n",
       "PD_CD                   5496\n",
       "PD_DESC                 5496\n",
       "CRM_ATPT_CPTD_CD           7\n",
       "LAW_CAT_CD                 0\n",
       "BORO_NM                10518\n",
       "LOC_OF_OCCUR_DESC    1394809\n",
       "PREM_TYP_DESC          37703\n",
       "JURIS_DESC                 0\n",
       "JURISDICTION_CODE       5496\n",
       "HADEVELOPT           6177206\n",
       "X_COORD_CD             17339\n",
       "Y_COORD_CD             17339\n",
       "SUSP_AGE_GROUP       4590963\n",
       "SUSP_RACE            3222422\n",
       "SUSP_SEX             3355736\n",
       "TRANSIT_DISTRICT     6356760\n",
       "Latitude               17339\n",
       "Longitude              17339\n",
       "Lat_Lon                17339\n",
       "PATROL_BORO             5953\n",
       "STATION_NAME         6356760\n",
       "VIC_AGE_GROUP        1638441\n",
       "VIC_RACE                 305\n",
       "VIC_SEX                  304\n",
       "dtype: int64"
      ]
     },
     "execution_count": 13,
     "metadata": {},
     "output_type": "execute_result"
    }
   ],
   "source": [
    "nyc_crime.isna().sum()"
   ]
  },
  {
   "cell_type": "markdown",
   "metadata": {},
   "source": [
    "The sum values match for both the .isnull().sum and .isna().sum() chained methods. Lists of floating data type columns that need to have their null values are identified below."
   ]
  },
  {
   "cell_type": "code",
   "execution_count": 14,
   "metadata": {
    "scrolled": true
   },
   "outputs": [],
   "source": [
    "not_float_columns = [nyc_crime[c].dtype != float for c in nyc_crime.columns]"
   ]
  },
  {
   "cell_type": "code",
   "execution_count": 15,
   "metadata": {},
   "outputs": [
    {
     "data": {
      "text/plain": [
       "['CMPLNT_FR_DT',\n",
       " 'CMPLNT_FR_TM',\n",
       " 'CMPLNT_TO_DT',\n",
       " 'CMPLNT_TO_TM',\n",
       " 'OFNS_DESC',\n",
       " 'PD_DESC',\n",
       " 'CRM_ATPT_CPTD_CD',\n",
       " 'BORO_NM',\n",
       " 'LOC_OF_OCCUR_DESC',\n",
       " 'PREM_TYP_DESC',\n",
       " 'HADEVELOPT',\n",
       " 'SUSP_AGE_GROUP',\n",
       " 'SUSP_RACE',\n",
       " 'SUSP_SEX',\n",
       " 'Lat_Lon',\n",
       " 'PATROL_BORO',\n",
       " 'STATION_NAME',\n",
       " 'VIC_AGE_GROUP',\n",
       " 'VIC_RACE',\n",
       " 'VIC_SEX']"
      ]
     },
     "execution_count": 15,
     "metadata": {},
     "output_type": "execute_result"
    }
   ],
   "source": [
    "unknown_columns = list(nyc_crime.columns[(nyc_crime.isnull().sum()>0) & (not_float_columns)])\n",
    "unknown_columns"
   ]
  },
  {
   "cell_type": "code",
   "execution_count": 16,
   "metadata": {},
   "outputs": [],
   "source": [
    "not_public_housing_related = ['HADEVELOPT']"
   ]
  },
  {
   "cell_type": "code",
   "execution_count": 17,
   "metadata": {},
   "outputs": [],
   "source": [
    "complaint_from_date = ['CMPLNT_FR_DT']"
   ]
  },
  {
   "cell_type": "code",
   "execution_count": 18,
   "metadata": {},
   "outputs": [],
   "source": [
    "complaint_from_time = ['CMPLNT_FR_TM']"
   ]
  },
  {
   "cell_type": "code",
   "execution_count": 19,
   "metadata": {},
   "outputs": [],
   "source": [
    "complaint_to_date = ['CMPLNT_TO_DT']"
   ]
  },
  {
   "cell_type": "code",
   "execution_count": 20,
   "metadata": {},
   "outputs": [],
   "source": [
    "complaint_to_time = ['CMPLNT_TO_TM']"
   ]
  },
  {
   "cell_type": "code",
   "execution_count": 21,
   "metadata": {},
   "outputs": [],
   "source": [
    "fill_na_cols_not_transit_related = ['TRANSIT_DISTRICT', 'STATION_NAME']"
   ]
  },
  {
   "cell_type": "code",
   "execution_count": 22,
   "metadata": {},
   "outputs": [],
   "source": [
    "fill_na_cols_unknown = ['ADDR_PCT_CD', 'OFNS_DESC', 'BORO_NM', 'LOC_OF_OCCUR_DESC', 'PREM_TYP_DESC', 'SUSP_AGE_GROUP', 'SUSP_RACE', \n",
    "                       'SUSP_SEX', 'PATROL_BORO', 'VIC_AGE_GROUP', 'VIC_RACE', 'VIC_SEX', 'PD_CD', 'PD_DESC', 'JURISDICTION_CODE']"
   ]
  },
  {
   "cell_type": "code",
   "execution_count": 23,
   "metadata": {},
   "outputs": [],
   "source": [
    "drop_na_cols = ['CRM_ATPT_CPTD_CD', 'X_COORD_CD', 'Y_COORD_CD', 'Latitude', 'Longitude', 'Lat_Lon']"
   ]
  },
  {
   "cell_type": "code",
   "execution_count": 24,
   "metadata": {},
   "outputs": [],
   "source": [
    "nyc_crime[complaint_from_date] = nyc_crime[complaint_from_date].fillna(value='00/00/0000', axis=1)"
   ]
  },
  {
   "cell_type": "code",
   "execution_count": 25,
   "metadata": {},
   "outputs": [],
   "source": [
    "nyc_crime[complaint_from_time] = nyc_crime[complaint_from_time].fillna(value='00:00:00', axis=1)"
   ]
  },
  {
   "cell_type": "code",
   "execution_count": 26,
   "metadata": {
    "scrolled": true
   },
   "outputs": [],
   "source": [
    "nyc_crime[complaint_to_date] = nyc_crime[complaint_to_date].fillna(value='00/00/0000', axis=1)"
   ]
  },
  {
   "cell_type": "code",
   "execution_count": 27,
   "metadata": {},
   "outputs": [],
   "source": [
    "nyc_crime[complaint_to_time] = nyc_crime[complaint_to_time].fillna(value='00:00:00', axis=1)"
   ]
  },
  {
   "cell_type": "code",
   "execution_count": 28,
   "metadata": {},
   "outputs": [],
   "source": [
    "nyc_crime[not_public_housing_related] = nyc_crime[not_public_housing_related].fillna(value='not_housing_devpt_crime', axis=1)"
   ]
  },
  {
   "cell_type": "code",
   "execution_count": 29,
   "metadata": {},
   "outputs": [],
   "source": [
    "nyc_crime[fill_na_cols_not_transit_related] = nyc_crime[fill_na_cols_not_transit_related].fillna(value='not_transit_related', axis=1)"
   ]
  },
  {
   "cell_type": "code",
   "execution_count": 30,
   "metadata": {},
   "outputs": [],
   "source": [
    "nyc_crime[fill_na_cols_unknown] = nyc_crime[fill_na_cols_unknown].fillna(value='unknown', axis=1)"
   ]
  },
  {
   "cell_type": "code",
   "execution_count": 31,
   "metadata": {},
   "outputs": [],
   "source": [
    "nyc_crime = nyc_crime.dropna(axis=0)"
   ]
  },
  {
   "cell_type": "code",
   "execution_count": 32,
   "metadata": {},
   "outputs": [
    {
     "data": {
      "text/plain": [
       "(6483524, 33)"
      ]
     },
     "execution_count": 32,
     "metadata": {},
     "output_type": "execute_result"
    }
   ],
   "source": [
    "nyc_crime.shape"
   ]
  },
  {
   "cell_type": "markdown",
   "metadata": {},
   "source": [
    "It can be seen below that there are no longer any missing values in the dataset."
   ]
  },
  {
   "cell_type": "code",
   "execution_count": 33,
   "metadata": {},
   "outputs": [
    {
     "data": {
      "text/plain": [
       "CMPLNT_NUM           0\n",
       "CMPLNT_FR_DT         0\n",
       "CMPLNT_FR_TM         0\n",
       "CMPLNT_TO_DT         0\n",
       "CMPLNT_TO_TM         0\n",
       "ADDR_PCT_CD          0\n",
       "RPT_DT               0\n",
       "KY_CD                0\n",
       "OFNS_DESC            0\n",
       "PD_CD                0\n",
       "PD_DESC              0\n",
       "CRM_ATPT_CPTD_CD     0\n",
       "LAW_CAT_CD           0\n",
       "BORO_NM              0\n",
       "LOC_OF_OCCUR_DESC    0\n",
       "PREM_TYP_DESC        0\n",
       "JURIS_DESC           0\n",
       "JURISDICTION_CODE    0\n",
       "HADEVELOPT           0\n",
       "X_COORD_CD           0\n",
       "Y_COORD_CD           0\n",
       "SUSP_AGE_GROUP       0\n",
       "SUSP_RACE            0\n",
       "SUSP_SEX             0\n",
       "TRANSIT_DISTRICT     0\n",
       "Latitude             0\n",
       "Longitude            0\n",
       "Lat_Lon              0\n",
       "PATROL_BORO          0\n",
       "STATION_NAME         0\n",
       "VIC_AGE_GROUP        0\n",
       "VIC_RACE             0\n",
       "VIC_SEX              0\n",
       "dtype: int64"
      ]
     },
     "execution_count": 33,
     "metadata": {},
     "output_type": "execute_result"
    }
   ],
   "source": [
    "nyc_crime.isna().sum()"
   ]
  },
  {
   "cell_type": "markdown",
   "metadata": {},
   "source": [
    "A variable with missing data is spot-checked below."
   ]
  },
  {
   "cell_type": "code",
   "execution_count": 34,
   "metadata": {
    "scrolled": true
   },
   "outputs": [
    {
     "data": {
      "text/plain": [
       "BROOKLYN         1929851\n",
       "MANHATTAN        1554090\n",
       "BRONX            1404794\n",
       "QUEENS           1278577\n",
       "STATEN ISLAND     306151\n",
       "unknown            10061\n",
       "Name: BORO_NM, dtype: int64"
      ]
     },
     "execution_count": 34,
     "metadata": {},
     "output_type": "execute_result"
    }
   ],
   "source": [
    "nyc_crime['BORO_NM'].value_counts()"
   ]
  },
  {
   "cell_type": "markdown",
   "metadata": {},
   "source": [
    "This section creates combined datetime variables, and duration variables, from the crime start date, crime start time, crime end date, and crime end time variables. First, the values of the respective component date and time variables are examined, and then combined into one variable of datetime format."
   ]
  },
  {
   "cell_type": "code",
   "execution_count": 35,
   "metadata": {
    "scrolled": false
   },
   "outputs": [
    {
     "data": {
      "text/plain": [
       "01/01/2010    2426\n",
       "01/01/2008    2327\n",
       "01/01/2011    2326\n",
       "01/01/2014    2321\n",
       "01/01/2016    2288\n",
       "Name: CMPLNT_FR_DT, dtype: int64"
      ]
     },
     "execution_count": 35,
     "metadata": {},
     "output_type": "execute_result"
    }
   ],
   "source": [
    "nyc_crime.CMPLNT_FR_DT.value_counts().head()"
   ]
  },
  {
   "cell_type": "code",
   "execution_count": 36,
   "metadata": {
    "scrolled": false
   },
   "outputs": [
    {
     "data": {
      "text/plain": [
       "12:00:00    173542\n",
       "15:00:00    146287\n",
       "18:00:00    140652\n",
       "20:00:00    133364\n",
       "17:00:00    130926\n",
       "Name: CMPLNT_FR_TM, dtype: int64"
      ]
     },
     "execution_count": 36,
     "metadata": {},
     "output_type": "execute_result"
    }
   ],
   "source": [
    "nyc_crime.CMPLNT_FR_TM.value_counts().head()"
   ]
  },
  {
   "cell_type": "code",
   "execution_count": 37,
   "metadata": {
    "scrolled": false
   },
   "outputs": [],
   "source": [
    "nyc_crime['date_time_start'] = pd.to_datetime(nyc_crime['CMPLNT_FR_DT'] + ' ' + nyc_crime['CMPLNT_FR_TM'], errors='coerce')"
   ]
  },
  {
   "cell_type": "code",
   "execution_count": 38,
   "metadata": {
    "scrolled": true
   },
   "outputs": [
    {
     "data": {
      "text/plain": [
       "0   2018-12-31 19:00:00\n",
       "1   2018-12-31 15:00:00\n",
       "2   2018-12-31 18:00:00\n",
       "3   2018-12-31 16:50:00\n",
       "4   2018-12-31 00:45:00\n",
       "Name: date_time_start, dtype: datetime64[ns]"
      ]
     },
     "execution_count": 38,
     "metadata": {},
     "output_type": "execute_result"
    }
   ],
   "source": [
    "#looking at the values, format and data type of this new variable\n",
    "nyc_crime.date_time_start.head()"
   ]
  },
  {
   "cell_type": "code",
   "execution_count": 39,
   "metadata": {
    "scrolled": false
   },
   "outputs": [
    {
     "data": {
      "text/plain": [
       "00/00/0000    1600599\n",
       "10/17/2014       1369\n",
       "01/01/2014       1366\n",
       "06/01/2016       1348\n",
       "07/05/2018       1347\n",
       "Name: CMPLNT_TO_DT, dtype: int64"
      ]
     },
     "execution_count": 39,
     "metadata": {},
     "output_type": "execute_result"
    }
   ],
   "source": [
    "nyc_crime.CMPLNT_TO_DT.value_counts().head()"
   ]
  },
  {
   "cell_type": "code",
   "execution_count": 40,
   "metadata": {
    "scrolled": false
   },
   "outputs": [
    {
     "data": {
      "text/plain": [
       "00:00:00    1610146\n",
       "12:00:00      86210\n",
       "15:00:00      77782\n",
       "08:00:00      75627\n",
       "09:00:00      73304\n",
       "Name: CMPLNT_TO_TM, dtype: int64"
      ]
     },
     "execution_count": 40,
     "metadata": {},
     "output_type": "execute_result"
    }
   ],
   "source": [
    "nyc_crime.CMPLNT_TO_TM.value_counts().head()"
   ]
  },
  {
   "cell_type": "code",
   "execution_count": 41,
   "metadata": {
    "scrolled": true
   },
   "outputs": [],
   "source": [
    "nyc_crime['date_time_end'] = pd.to_datetime(nyc_crime['CMPLNT_TO_DT'] + ' ' + nyc_crime['CMPLNT_TO_TM'], errors='coerce')"
   ]
  },
  {
   "cell_type": "code",
   "execution_count": 42,
   "metadata": {
    "scrolled": true
   },
   "outputs": [
    {
     "data": {
      "text/plain": [
       "0   2018-12-31 19:35:00\n",
       "1   2018-12-31 16:00:00\n",
       "2   2018-12-31 18:30:00\n",
       "3   2018-12-31 17:00:00\n",
       "4   2018-12-31 01:00:00\n",
       "Name: date_time_end, dtype: datetime64[ns]"
      ]
     },
     "execution_count": 42,
     "metadata": {},
     "output_type": "execute_result"
    }
   ],
   "source": [
    "#looking at the values, format and data type of this new variable\n",
    "nyc_crime.date_time_end.head()"
   ]
  },
  {
   "cell_type": "markdown",
   "metadata": {},
   "source": [
    "In the next section, the raw crime start time variables are used to create different time window variables that may be predictive of cannabis crimes. The start time variable 'CMPLNT_FR_TM' is used to define the time windows instead of the 'CMPLNT_TO_TM' variable, as all crimes have a start time in the data set but not necessarily an end time."
   ]
  },
  {
   "cell_type": "code",
   "execution_count": 43,
   "metadata": {},
   "outputs": [],
   "source": [
    "#to create a boolean mask for crimes that happen during the day\n",
    "day_tw = (nyc_crime.CMPLNT_FR_TM >= '06:00:00') & (nyc_crime.CMPLNT_FR_TM <= '18:00:00') "
   ]
  },
  {
   "cell_type": "code",
   "execution_count": 44,
   "metadata": {},
   "outputs": [
    {
     "data": {
      "text/plain": [
       "True     3485125\n",
       "False    2998399\n",
       "Name: CMPLNT_FR_TM, dtype: int64"
      ]
     },
     "execution_count": 44,
     "metadata": {},
     "output_type": "execute_result"
    }
   ],
   "source": [
    "day_tw.value_counts()"
   ]
  },
  {
   "cell_type": "code",
   "execution_count": 45,
   "metadata": {},
   "outputs": [],
   "source": [
    "#to create a new binary column out of the daytime window, with values of '1' for daytime and '0' for nighttime.\n",
    "nyc_crime['day_tw'] = day_tw.astype(int)"
   ]
  },
  {
   "cell_type": "code",
   "execution_count": 46,
   "metadata": {
    "scrolled": true
   },
   "outputs": [
    {
     "data": {
      "text/plain": [
       "1    3485125\n",
       "0    2998399\n",
       "Name: day_tw, dtype: int64"
      ]
     },
     "execution_count": 46,
     "metadata": {},
     "output_type": "execute_result"
    }
   ],
   "source": [
    "#to compare the values in the new column to the values in the boolean mask\n",
    "nyc_crime.day_tw.value_counts()"
   ]
  },
  {
   "cell_type": "code",
   "execution_count": 47,
   "metadata": {},
   "outputs": [],
   "source": [
    "#for crimes done during the night\n",
    "night_tw = (nyc_crime.CMPLNT_FR_TM < '06:00:00') | (nyc_crime.CMPLNT_FR_TM > '18:00:00')"
   ]
  },
  {
   "cell_type": "code",
   "execution_count": 48,
   "metadata": {},
   "outputs": [],
   "source": [
    "#to create a new binary column out of the nighttime window, with values of '1' for nighttime and '0' for daytime.\n",
    "nyc_crime['night_tw'] = night_tw.astype(int)"
   ]
  },
  {
   "cell_type": "code",
   "execution_count": 49,
   "metadata": {
    "scrolled": true
   },
   "outputs": [
    {
     "data": {
      "text/plain": [
       "0    3485125\n",
       "1    2998399\n",
       "Name: night_tw, dtype: int64"
      ]
     },
     "execution_count": 49,
     "metadata": {},
     "output_type": "execute_result"
    }
   ],
   "source": [
    "nyc_crime.night_tw.value_counts()"
   ]
  },
  {
   "cell_type": "code",
   "execution_count": 50,
   "metadata": {},
   "outputs": [],
   "source": [
    "#for crimes done during the early morning\n",
    "early_morn = (nyc_crime.CMPLNT_FR_TM >= '06:00:00') & (nyc_crime.CMPLNT_FR_TM < '07:30:00')"
   ]
  },
  {
   "cell_type": "code",
   "execution_count": 51,
   "metadata": {},
   "outputs": [],
   "source": [
    "#to create a new binary column out of the early morning window, with values of '1' for early morning and \n",
    "#'0' for not early morning.\n",
    "nyc_crime['early_morn'] = early_morn.astype(int)"
   ]
  },
  {
   "cell_type": "code",
   "execution_count": 52,
   "metadata": {
    "scrolled": true
   },
   "outputs": [
    {
     "data": {
      "text/plain": [
       "0    6314458\n",
       "1     169066\n",
       "Name: early_morn, dtype: int64"
      ]
     },
     "execution_count": 52,
     "metadata": {},
     "output_type": "execute_result"
    }
   ],
   "source": [
    "nyc_crime.early_morn.value_counts()"
   ]
  },
  {
   "cell_type": "code",
   "execution_count": 53,
   "metadata": {},
   "outputs": [],
   "source": [
    "#for crimes done during the morning rush hour\n",
    "morn_rush_hr = (nyc_crime.CMPLNT_FR_TM >= '07:30:00') & (nyc_crime.CMPLNT_FR_TM <= '09:00:00')"
   ]
  },
  {
   "cell_type": "code",
   "execution_count": 54,
   "metadata": {},
   "outputs": [],
   "source": [
    "#to create a new binary column out of the morning rush hour window, with values of '1' for morning rush hour and \n",
    "#'0' for not morning rush hour.\n",
    "nyc_crime['morn_rush_hr'] = morn_rush_hr.astype(int)"
   ]
  },
  {
   "cell_type": "code",
   "execution_count": 55,
   "metadata": {
    "scrolled": false
   },
   "outputs": [
    {
     "data": {
      "text/plain": [
       "0    6089809\n",
       "1     393715\n",
       "Name: morn_rush_hr, dtype: int64"
      ]
     },
     "execution_count": 55,
     "metadata": {},
     "output_type": "execute_result"
    }
   ],
   "source": [
    "nyc_crime.morn_rush_hr.value_counts()"
   ]
  },
  {
   "cell_type": "code",
   "execution_count": 56,
   "metadata": {},
   "outputs": [],
   "source": [
    "#for crimes done during the traditional workday\n",
    "work_day = (nyc_crime.CMPLNT_FR_TM >= '09:00:00') & (nyc_crime.CMPLNT_FR_TM <= '18:00:00')"
   ]
  },
  {
   "cell_type": "code",
   "execution_count": 57,
   "metadata": {},
   "outputs": [],
   "source": [
    "#to create a new binary column out of the work day window, with values of '1' for work day and \n",
    "#'0' for not work day.\n",
    "nyc_crime['work_day'] = work_day.astype(int)"
   ]
  },
  {
   "cell_type": "code",
   "execution_count": 58,
   "metadata": {
    "scrolled": true
   },
   "outputs": [
    {
     "data": {
      "text/plain": [
       "0    3448436\n",
       "1    3035088\n",
       "Name: work_day, dtype: int64"
      ]
     },
     "execution_count": 58,
     "metadata": {},
     "output_type": "execute_result"
    }
   ],
   "source": [
    "nyc_crime.work_day.value_counts()"
   ]
  },
  {
   "cell_type": "code",
   "execution_count": 59,
   "metadata": {},
   "outputs": [],
   "source": [
    "#for crimes done during the lunch hour\n",
    "lunch = (nyc_crime.CMPLNT_FR_TM >= '12:00:00') & (nyc_crime.CMPLNT_FR_TM <= '13:00:00')"
   ]
  },
  {
   "cell_type": "code",
   "execution_count": 60,
   "metadata": {},
   "outputs": [],
   "source": [
    "#to create a new binary column out of the lunch hour window, with values of '1' for lunch hour and \n",
    "#'0' for not lunch hour.\n",
    "nyc_crime['lunch_hr'] = lunch.astype(int)"
   ]
  },
  {
   "cell_type": "code",
   "execution_count": 61,
   "metadata": {
    "scrolled": false
   },
   "outputs": [
    {
     "data": {
      "text/plain": [
       "0    6016472\n",
       "1     467052\n",
       "Name: lunch_hr, dtype: int64"
      ]
     },
     "execution_count": 61,
     "metadata": {},
     "output_type": "execute_result"
    }
   ],
   "source": [
    "nyc_crime.lunch_hr.value_counts()"
   ]
  },
  {
   "cell_type": "code",
   "execution_count": 62,
   "metadata": {},
   "outputs": [],
   "source": [
    "#for crimes done during the evening rush hour; note the larger timespan is because this is NYC\n",
    "eve_rush_hr = (nyc_crime.CMPLNT_FR_TM >= '16:30:00') & (nyc_crime.CMPLNT_FR_TM <= '19:00:00')"
   ]
  },
  {
   "cell_type": "code",
   "execution_count": 63,
   "metadata": {},
   "outputs": [],
   "source": [
    "#to create a new binary column out of the evening rush hour window, with values of '1' for evening rush hour and \n",
    "#'0' for not evening rush hour.\n",
    "nyc_crime['eve_rush_hr'] = eve_rush_hr.astype(int)"
   ]
  },
  {
   "cell_type": "code",
   "execution_count": 64,
   "metadata": {
    "scrolled": false
   },
   "outputs": [
    {
     "data": {
      "text/plain": [
       "0    5447840\n",
       "1    1035684\n",
       "Name: eve_rush_hr, dtype: int64"
      ]
     },
     "execution_count": 64,
     "metadata": {},
     "output_type": "execute_result"
    }
   ],
   "source": [
    "nyc_crime.eve_rush_hr.value_counts()"
   ]
  },
  {
   "cell_type": "code",
   "execution_count": 65,
   "metadata": {},
   "outputs": [],
   "source": [
    "#for crimes done during the dinner hour\n",
    "dinner = (nyc_crime.CMPLNT_FR_TM >= '18:00:00') & (nyc_crime.CMPLNT_FR_TM <= '20:00:00')"
   ]
  },
  {
   "cell_type": "code",
   "execution_count": 66,
   "metadata": {},
   "outputs": [],
   "source": [
    "#to create a new binary column out of the dinner hour window, with values of '1' for dinner hour and \n",
    "#'0' for not dinner hour.\n",
    "nyc_crime['dinner'] = dinner.astype(int)"
   ]
  },
  {
   "cell_type": "code",
   "execution_count": 67,
   "metadata": {
    "scrolled": false
   },
   "outputs": [
    {
     "data": {
      "text/plain": [
       "0    5598765\n",
       "1     884759\n",
       "Name: dinner, dtype: int64"
      ]
     },
     "execution_count": 67,
     "metadata": {},
     "output_type": "execute_result"
    }
   ],
   "source": [
    "nyc_crime.dinner.value_counts()"
   ]
  },
  {
   "cell_type": "code",
   "execution_count": 68,
   "metadata": {},
   "outputs": [],
   "source": [
    "#for crimes done during the evening\n",
    "evening = (nyc_crime.CMPLNT_FR_TM >= '20:00:00') & (nyc_crime.CMPLNT_FR_TM <= '22:00:00')"
   ]
  },
  {
   "cell_type": "code",
   "execution_count": 69,
   "metadata": {},
   "outputs": [],
   "source": [
    "#to create a new binary column out of the evening window, with values of '1' for evening and \n",
    "#'0' for not evening.\n",
    "nyc_crime['evening'] = evening.astype(int)"
   ]
  },
  {
   "cell_type": "code",
   "execution_count": 70,
   "metadata": {
    "scrolled": false
   },
   "outputs": [
    {
     "data": {
      "text/plain": [
       "0    5674200\n",
       "1     809324\n",
       "Name: evening, dtype: int64"
      ]
     },
     "execution_count": 70,
     "metadata": {},
     "output_type": "execute_result"
    }
   ],
   "source": [
    "nyc_crime.evening.value_counts()"
   ]
  },
  {
   "cell_type": "code",
   "execution_count": 71,
   "metadata": {},
   "outputs": [],
   "source": [
    "#for crimes done during the late night\n",
    "late_night = (nyc_crime.CMPLNT_FR_TM > '22:00:00') | (nyc_crime.CMPLNT_FR_TM < '06:00:00')"
   ]
  },
  {
   "cell_type": "code",
   "execution_count": 72,
   "metadata": {},
   "outputs": [],
   "source": [
    "#to create a new binary column out of the late night window, with values of '1' for late night and \n",
    "#'0' for not late night.\n",
    "nyc_crime['late_night'] = late_night.astype(int)"
   ]
  },
  {
   "cell_type": "code",
   "execution_count": 73,
   "metadata": {
    "scrolled": false
   },
   "outputs": [
    {
     "data": {
      "text/plain": [
       "0    4905192\n",
       "1    1578332\n",
       "Name: late_night, dtype: int64"
      ]
     },
     "execution_count": 73,
     "metadata": {},
     "output_type": "execute_result"
    }
   ],
   "source": [
    "nyc_crime.late_night.value_counts()"
   ]
  },
  {
   "cell_type": "markdown",
   "metadata": {},
   "source": [
    "The following section encodes the distance of each cannabis crime from prominent NYC landmarks into continuous data variables. All latitudes and longitudes were found from Google searches. Both driving/walking/biking distances (\"_taxi\" variables) and shortest distances (\"_crow\" variables) are computed."
   ]
  },
  {
   "cell_type": "markdown",
   "metadata": {},
   "source": [
    "I plan on going back to create dictionary comprehensions using lists of values to code the distance from landmark data more efficiently and Pythonically."
   ]
  },
  {
   "cell_type": "code",
   "execution_count": 74,
   "metadata": {
    "scrolled": false
   },
   "outputs": [],
   "source": [
    "#World Trade Center in downtown Manhattan\n",
    "wtc_taxi = abs(nyc_crime.Latitude - 40.7127) + abs(nyc_crime.Longitude + 74.0134)#+ because the longitude is negative\n",
    "wtc_crow = ((nyc_crime.Latitude - 40.7127)**2 + (nyc_crime.Longitude + 74.0134)**2)**0.5 #sqrt, pythagorean \n",
    "#New York Stock Exchange in downtown Manhattan\n",
    "nyse_taxi = abs(nyc_crime.Latitude - 40.706877) + abs(nyc_crime.Longitude + 74.011265)\n",
    "nyse_crow = ((nyc_crime.Latitude - 40.706877)**2 + (nyc_crime.Longitude + 74.011265)**2)**0.5\n",
    "#Brooklyn Bridge\n",
    "bk_bridge_taxi = abs(nyc_crime.Latitude - 40.7061) + abs(nyc_crime.Longitude + 73.9969)\n",
    "bk_bridge_crow = ((nyc_crime.Latitude - 40.7061)**2 + (nyc_crime.Longitude + 73.9969)**2)**0.5\n",
    "#New York City Hall in Manhattan\n",
    "city_hall_taxi = abs(nyc_crime.Latitude - 40.7128) + abs(nyc_crime.Longitude + 74.0061)\n",
    "city_hall_crow = ((nyc_crime.Latitude - 40.7128)**2 + (nyc_crime.Longitude + 74.0061)**2)**0.5\n",
    "#Manhattan Bridge\n",
    "manh_bridge_taxi = abs(nyc_crime.Latitude - 40.7075) + abs(nyc_crime.Longitude + 73.9908)\n",
    "manh_bridge_crow = ((nyc_crime.Latitude - 40.7075)**2 + (nyc_crime.Longitude + 73.9908)**2)**0.5\n",
    "#Williamsburg Bridge\n",
    "will_bridge_taxi = abs(nyc_crime.Latitude - 40.7136) + abs(nyc_crime.Longitude + 73.9724)\n",
    "will_bridge_crow = ((nyc_crime.Latitude - 40.7136)**2 + (nyc_crime.Longitude + 73.9724)**2)**0.5\n",
    "#Washington Square Park in Manhattan\n",
    "wash_sq_park_taxi = abs(nyc_crime.Latitude - 40.7308) + abs(nyc_crime.Longitude + 73.9973)\n",
    "wash_sq_park_crow = ((nyc_crime.Latitude - 40.7308)**2 + (nyc_crime.Longitude + 73.9973)**2)**0.5\n",
    "#Union Square in Manhattan\n",
    "union_sq_taxi = abs(nyc_crime.Latitude - 40.7359) + abs(nyc_crime.Longitude + 73.9911)\n",
    "union_sq_crow = ((nyc_crime.Latitude - 40.7359)**2 + (nyc_crime.Longitude + 73.9911)**2)**0.5\n",
    "#Penn Station in Manhattan\n",
    "penn_station_taxi = abs(nyc_crime.Latitude - 40.7506) + abs(nyc_crime.Longitude + 73.9935)\n",
    "penn_station_crow = ((nyc_crime.Latitude - 40.7506)**2 + (nyc_crime.Longitude + 73.9935)**2)**0.5\n",
    "#Times Square in Manhattan\n",
    "times_sq_taxi = abs(nyc_crime.Latitude - 40.7590) + abs(nyc_crime.Longitude + 73.9845)\n",
    "times_sq_crow = ((nyc_crime.Latitude - 40.7590)**2 + (nyc_crime.Longitude + 73.9845)**2)**0.5\n",
    "#Rockefeller Center in Manhattan\n",
    "rock_center_taxi = abs(nyc_crime.Latitude - 40.7587) + abs(nyc_crime.Longitude + 73.9787)\n",
    "rock_center_crow = ((nyc_crime.Latitude - 40.7587)**2 + (nyc_crime.Longitude + 73.9787)**2)**0.5\n",
    "#Empire State Building in Manhattan\n",
    "empire_st_bldg_taxi = abs(nyc_crime.Latitude - 40.7484) + abs(nyc_crime.Longitude + 73.9857)\n",
    "empire_st_bldg_crow = ((nyc_crime.Latitude - 40.7484)**2 + (nyc_crime.Longitude + 73.9857)**2)**0.5\n",
    "#Lincoln Center in Manhattan\n",
    "lincoln_ctr_taxi = abs(nyc_crime.Latitude - 40.7725) + abs(nyc_crime.Longitude + 73.9835)\n",
    "lincoln_ctr_crow = ((nyc_crime.Latitude - 40.7725)**2 + (nyc_crime.Longitude + 73.9835)**2)**0.5\n",
    "#Central Park, Manhattan\n",
    "central_pk_taxi = abs(nyc_crime.Latitude - 40.7829) + abs(nyc_crime.Longitude + 73.9654)\n",
    "central_pk_crow = ((nyc_crime.Latitude - 40.7829)**2 + (nyc_crime.Longitude + 73.9654)**2)**0.5\n",
    "#Apollo Theatre, Harlem, Manhattan\n",
    "apollo_th_taxi = abs(nyc_crime.Latitude - 40.8100) + abs(nyc_crime.Longitude + 73.9501)\n",
    "apollo_th_crow = ((nyc_crime.Latitude - 40.8100)**2 + (nyc_crime.Longitude + 73.9501)**2)**0.5\n",
    "#Yankee Stadium in the Bronx\n",
    "yankee_stad_taxi = abs(nyc_crime.Latitude - 40.8296) + abs(nyc_crime.Longitude + 73.9262)\n",
    "yankee_stad_crow = ((nyc_crime.Latitude - 40.8296)**2 + (nyc_crime.Longitude + 73.9262)**2)**0.5\n",
    "#Mets Stadium in Queens\n",
    "mets_stad_taxi = abs(nyc_crime.Latitude - 40.7547) + abs(nyc_crime.Longitude + 73.8457)\n",
    "mets_stad_crow = ((nyc_crime.Latitude - 40.7547)**2 + (nyc_crime.Longitude + 73.8457)**2)**0.5\n",
    "#Center of Queens borough\n",
    "queens_taxi = abs(nyc_crime.Latitude - 40.7282) + abs(nyc_crime.Longitude + 73.7949)\n",
    "queens_crow = ((nyc_crime.Latitude - 40.7282)**2 + (nyc_crime.Longitude + 73.7949)**2)**0.5\n",
    "#Center of Prospect Park, Brooklyn\n",
    "prospect_pk_taxi = abs(nyc_crime.Latitude - 40.6602) + abs(nyc_crime.Longitude + 73.9690)\n",
    "prospect_pk_crow = ((nyc_crime.Latitude - 40.6602)**2 + (nyc_crime.Longitude + 73.9690)**2)**0.5\n",
    "#Center of downtown Brooklyn\n",
    "downtown_bk_taxi = abs(nyc_crime.Latitude - 40.6961) + abs(nyc_crime.Longitude + 73.9845)\n",
    "downtown_bk_crow = ((nyc_crime.Latitude - 40.6961)**2 + (nyc_crime.Longitude + 73.9845)**2)**0.5\n",
    "#Staten Island Ferry in Staten Island\n",
    "si_ferry_taxi = abs(nyc_crime.Latitude - 40.579021) + abs(nyc_crime.Longitude + 74.151535)\n",
    "si_ferry_crow = ((nyc_crime.Latitude - 40.579021)**2 + (nyc_crime.Longitude + 74.151535)**2)**0.5\n",
    "#Port Authority Bus Terminal in Manhattan\n",
    "port_authority_taxi = abs(nyc_crime.Latitude - 40.7572) + abs(nyc_crime.Longitude + 73.9908)\n",
    "port_authority_crow = ((nyc_crime.Latitude - 40.7572)**2 + (nyc_crime.Longitude + 73.9908)**2)**0.5\n",
    "#New York Police Department\n",
    "nypd_hq_taxi = abs(nyc_crime.Latitude - 40.7120468) + abs(nyc_crime.Longitude + 74.0026395)\n",
    "nypd_hq_crow = ((nyc_crime.Latitude - 40.7120468)**2 + (nyc_crime.Longitude + 74.0026395)**2)**0.5\n",
    "#Manhattan Detention Center in downtown Manhattan\n",
    "mdc_taxi = abs(nyc_crime.Latitude - 40.7170) + abs(nyc_crime.Longitude + 74.003)\n",
    "mdc_crow = ((nyc_crime.Latitude - 40.7170)**2 + (nyc_crime.Longitude + 74.003)**2)**0.5\n",
    "#Rikers Prison on Rikers Island\n",
    "rikers_taxi = abs(nyc_crime.Latitude - 40.7931) + abs(nyc_crime.Longitude + 73.8860)\n",
    "rikers_crow = ((nyc_crime.Latitude - 40.7931)**2 + (nyc_crime.Longitude + 73.8860)**2)**0.5\n",
    "#New York Supreme Court\n",
    "nysc_taxi = abs(nyc_crime.Latitude - 40.7144) + abs(nyc_crime.Longitude + 74.0020)\n",
    "nysc_crow = ((nyc_crime.Latitude - 40.7144)**2 + (nyc_crime.Longitude + 74.0020)**2)**0.5\n",
    "#think of prisons, homeless shelters, bail bonds offices, federal govt buildings, post offices"
   ]
  },
  {
   "cell_type": "code",
   "execution_count": 75,
   "metadata": {},
   "outputs": [],
   "source": [
    "#creation of new column variables for the distance of each crime from all of these landmarks.\n",
    "nyc_crime['wtc_taxi'] = wtc_taxi\n",
    "nyc_crime['wtc_crow'] = wtc_crow\n",
    "nyc_crime['nyse_taxi'] = nyse_taxi\n",
    "nyc_crime['nyse_crow'] = nyse_crow\n",
    "nyc_crime['bk_bridge_taxi'] = bk_bridge_taxi\n",
    "nyc_crime['bk_bridge_crow'] = bk_bridge_crow\n",
    "nyc_crime['city_hall_taxi'] = city_hall_taxi\n",
    "nyc_crime['city_hall_crow'] = city_hall_crow\n",
    "nyc_crime['manh_bridge_taxi'] = manh_bridge_taxi\n",
    "nyc_crime['manh_bridge_crow'] = manh_bridge_crow\n",
    "nyc_crime['will_bridge_taxi'] = will_bridge_taxi\n",
    "nyc_crime['will_bridge_crow'] = will_bridge_crow\n",
    "nyc_crime['wash_sq_park_taxi'] = wash_sq_park_taxi\n",
    "nyc_crime['wash_sq_park_crow'] = wash_sq_park_crow\n",
    "nyc_crime['union_sq_taxi'] = union_sq_taxi\n",
    "nyc_crime['union_sq_crow'] = union_sq_crow\n",
    "nyc_crime['penn_station_taxi'] = penn_station_taxi\n",
    "nyc_crime['penn_station_crow'] = penn_station_crow\n",
    "nyc_crime['times_sq_taxi'] = times_sq_taxi\n",
    "nyc_crime['times_sq_crow'] = times_sq_crow\n",
    "nyc_crime['rock_center_taxi'] = rock_center_taxi\n",
    "nyc_crime['rock_center_crow'] = rock_center_crow\n",
    "nyc_crime['empire_st_bldg_taxi'] = empire_st_bldg_taxi\n",
    "nyc_crime['empire_st_bldg_crow'] = empire_st_bldg_crow\n",
    "nyc_crime['lincoln_ctr_taxi'] = lincoln_ctr_taxi\n",
    "nyc_crime['lincoln_ctr_crow'] = lincoln_ctr_crow\n",
    "nyc_crime['central_pk_taxi'] = central_pk_taxi\n",
    "nyc_crime['central_pk_crow'] = central_pk_crow\n",
    "nyc_crime['apollo_th_taxi'] = apollo_th_taxi\n",
    "nyc_crime['apollo_th_crow'] = apollo_th_crow\n",
    "nyc_crime['yankee_stad_taxi'] = yankee_stad_taxi\n",
    "nyc_crime['yankee_stad_crow'] = yankee_stad_crow\n",
    "nyc_crime['mets_stad_taxi'] = mets_stad_taxi\n",
    "nyc_crime['mets_stad_crow'] = mets_stad_crow\n",
    "nyc_crime['queens_taxi'] = queens_taxi\n",
    "nyc_crime['queens_crow'] = queens_crow\n",
    "nyc_crime['prospect_pk_taxi'] = prospect_pk_taxi\n",
    "nyc_crime['prospect_pk_crow'] = prospect_pk_crow\n",
    "nyc_crime['downtown_bk_taxi'] = downtown_bk_taxi\n",
    "nyc_crime['downtown_bk_crow'] = downtown_bk_crow\n",
    "nyc_crime['si_ferry_taxi'] = si_ferry_taxi\n",
    "nyc_crime['si_ferry_crow'] = si_ferry_crow\n",
    "nyc_crime['port_authority_taxi'] = port_authority_taxi\n",
    "nyc_crime['port_authority_crow'] = port_authority_crow\n",
    "nyc_crime['nypd_hq_taxi'] = nypd_hq_taxi\n",
    "nyc_crime['nypd_hq_crow'] = nypd_hq_crow\n",
    "nyc_crime['mdc_taxi'] = mdc_taxi\n",
    "nyc_crime['mdc_crow'] = mdc_crow\n",
    "nyc_crime['rikers_taxi'] = rikers_taxi\n",
    "nyc_crime['rikers_crow'] = rikers_crow\n",
    "nyc_crime['nysc_taxi'] = nysc_taxi\n",
    "nyc_crime['nysc_crow'] = nysc_crow"
   ]
  },
  {
   "cell_type": "code",
   "execution_count": 76,
   "metadata": {},
   "outputs": [],
   "source": [
    "#created a duration variable for crimes that have separate start datetimes and end datetimes\n",
    "nyc_crime['duration'] = nyc_crime.date_time_end - nyc_crime.date_time_start"
   ]
  },
  {
   "cell_type": "code",
   "execution_count": 77,
   "metadata": {},
   "outputs": [],
   "source": [
    "duration_fill = ['duration']"
   ]
  },
  {
   "cell_type": "code",
   "execution_count": 78,
   "metadata": {},
   "outputs": [],
   "source": [
    "nyc_crime[duration_fill] = nyc_crime[duration_fill].fillna('0 days 00:00:00', axis=1)"
   ]
  },
  {
   "cell_type": "code",
   "execution_count": 79,
   "metadata": {},
   "outputs": [
    {
     "data": {
      "text/plain": [
       "0 days 00:00:00        1602547\n",
       "0 days 00:05:00         661399\n",
       "0 days 00:10:00         462280\n",
       "0 days 00:15:00         288461\n",
       "0 days 00:30:00         264974\n",
       "0 days 00:00:00         256498\n",
       "0 days 00:20:00         148771\n",
       "0 days 01:00:00         134123\n",
       "0 days 00:02:00         100016\n",
       "0 days 00:01:00          84472\n",
       "0 days 00:03:00          76714\n",
       "0 days 00:04:00          62574\n",
       "0 days 00:06:00          57338\n",
       "0 days 00:07:00          55666\n",
       "0 days 00:08:00          52269\n",
       "0 days 02:00:00          50679\n",
       "0 days 00:25:00          48776\n",
       "0 days 00:09:00          40494\n",
       "0 days 00:45:00          35003\n",
       "0 days 01:30:00          33101\n",
       "0 days 03:00:00          32420\n",
       "0 days 00:11:00          29916\n",
       "0 days 00:12:00          29658\n",
       "0 days 00:40:00          29464\n",
       "0 days 12:00:00          26693\n",
       "0 days 00:13:00          26543\n",
       "0 days 04:00:00          25072\n",
       "0 days 00:14:00          24917\n",
       "0 days 10:00:00          23178\n",
       "0 days 08:00:00          23143\n",
       "0 days 00:35:00          22824\n",
       "0 days 11:00:00          22470\n",
       "0 days 09:00:00          22161\n",
       "0 days 05:00:00          20787\n",
       "0 days 00:16:00          20038\n",
       "0 days 13:00:00          19969\n",
       "0 days 06:00:00          19256\n",
       "0 days 00:17:00          19249\n",
       "0 days 02:30:00          18934\n",
       "0 days 00:18:00          18919\n",
       "0 days 07:00:00          18748\n",
       "0 days 14:00:00          17945\n",
       "0 days 00:50:00          17362\n",
       "0 days 00:19:00          16748\n",
       "0 days 15:00:00          15248\n",
       "1 days 00:00:00          13905\n",
       "0 days 00:22:00          13694\n",
       "0 days 00:21:00          13508\n",
       "0 days 03:30:00          13474\n",
       "0 days 10:30:00          13137\n",
       "0 days 01:15:00          13047\n",
       "0 days 00:23:00          12885\n",
       "0 days 11:30:00          12863\n",
       "0 days 16:00:00          12735\n",
       "0 days 09:30:00          12655\n",
       "0 days 08:30:00          12376\n",
       "0 days 12:30:00          12150\n",
       "0 days 00:24:00          11842\n",
       "0 days 04:30:00          10851\n",
       "0 days 07:30:00          10545\n",
       "0 days 13:30:00          10532\n",
       "0 days 00:29:00          10381\n",
       "0 days 00:26:00          10322\n",
       "0 days 00:28:00          10003\n",
       "0 days 05:30:00           9876\n",
       "0 days 00:27:00           9824\n",
       "0 days 06:30:00           9595\n",
       "0 days 17:00:00           9377\n",
       "0 days 14:30:00           9008\n",
       "0 days 01:10:00           8760\n",
       "0 days 00:31:00           8060\n",
       "0 days 00:55:00           8000\n",
       "0 days 18:00:00           7911\n",
       "0 days 00:32:00           7534\n",
       "0 days 15:30:00           7431\n",
       "0 days 01:45:00           7382\n",
       "0 days 00:33:00           7282\n",
       "0 days 01:20:00           7152\n",
       "0 days 19:00:00           6734\n",
       "0 days 01:05:00           6700\n",
       "0 days 00:34:00           6639\n",
       "0 days 20:00:00           6135\n",
       "0 days 00:36:00           6004\n",
       "0 days 02:15:00           5956\n",
       "2 days 00:00:00           5925\n",
       "0 days 00:37:00           5806\n",
       "0 days 00:38:00           5795\n",
       "0 days 21:00:00           5605\n",
       "0 days 16:30:00           5587\n",
       "1 days 01:00:00           5311\n",
       "0 days 22:00:00           5285\n",
       "0 days 00:39:00           5176\n",
       "0 days 23:00:00           4786\n",
       "0 days 01:40:00           4774\n",
       "0 days 23:58:00           4698\n",
       "0 days 02:45:00           4635\n",
       "0 days 17:30:00           4506\n",
       "0 days 00:41:00           4435\n",
       "0 days 01:50:00           4347\n",
       "0 days 00:42:00           4313\n",
       "3 days 00:00:00           4094\n",
       "0 days 00:44:00           4034\n",
       "0 days 00:43:00           4026\n",
       "0 days 03:15:00           3798\n",
       "1 days 00:30:00           3788\n",
       "0 days 18:30:00           3741\n",
       "1 days 02:00:00           3651\n",
       "0 days 00:59:00           3616\n",
       "0 days 02:10:00           3545\n",
       "0 days 00:48:00           3465\n",
       "0 days 00:47:00           3449\n",
       "0 days 01:25:00           3374\n",
       "0 days 00:46:00           3360\n",
       "0 days 02:20:00           3318\n",
       "0 days 19:30:00           3240\n",
       "0 days 03:45:00           3194\n",
       "0 days 10:15:00           3163\n",
       "0 days 09:45:00           3114\n",
       "0 days 00:49:00           3081\n",
       "0 days 08:45:00           3054\n",
       "0 days 09:15:00           3035\n",
       "0 days 10:45:00           3030\n",
       "4 days 00:00:00           3022\n",
       "0 days 11:45:00           3022\n",
       "0 days 20:30:00           2972\n",
       "0 days 01:35:00           2925\n",
       "1 days 03:00:00           2912\n",
       "0 days 00:52:00           2797\n",
       "0 days 11:15:00           2794\n",
       "7 days 00:00:00           2789\n",
       "0 days 04:15:00           2785\n",
       "0 days 12:15:00           2751\n",
       "0 days 08:15:00           2746\n",
       "0 days 00:51:00           2666\n",
       "0 days 00:53:00           2658\n",
       "0 days 21:30:00           2657\n",
       "0 days 12:45:00           2633\n",
       "0 days 07:45:00           2631\n",
       "0 days 04:45:00           2600\n",
       "0 days 02:50:00           2574\n",
       "0 days 01:01:00           2568\n",
       "0 days 23:30:00           2541\n",
       "0 days 00:54:00           2540\n",
       "0 days 22:30:00           2506\n",
       "0 days 02:40:00           2474\n",
       "1 days 04:00:00           2460\n",
       "0 days 07:15:00           2444\n",
       "0 days 05:15:00           2433\n",
       "0 days 00:58:00           2430\n",
       "0 days 02:05:00           2416\n",
       "0 days 05:45:00           2392\n",
       "5 days 00:00:00           2386\n",
       "0 days 00:57:00           2376\n",
       "0 days 06:45:00           2367\n",
       "0 days 13:45:00           2322\n",
       "0 days 00:56:00           2306\n",
       "0 days 06:15:00           2271\n",
       "0 days 01:55:00           2248\n",
       "0 days 13:15:00           2242\n",
       "0 days 03:10:00           2109\n",
       "0 days 03:20:00           2098\n",
       "1 days 05:00:00           2074\n",
       "2 days 01:00:00           2048\n",
       "6 days 00:00:00           2027\n",
       "1 days 15:00:00           2026\n",
       "1 days 12:00:00           1990\n",
       "1 days 06:00:00           1988\n",
       "0 days 01:02:00           1963\n",
       "0 days 14:15:00           1961\n",
       "1 days 14:00:00           1948\n",
       "1 days 16:00:00           1941\n",
       "1 days 08:00:00           1933\n",
       "0 days 01:03:00           1888\n",
       "1 days 13:00:00           1831\n",
       "0 days 01:04:00           1816\n",
       "1 days 01:30:00           1812\n",
       "0 days 14:45:00           1791\n",
       "1 days 17:00:00           1758\n",
       "1 days 07:00:00           1754\n",
       "0 days 01:06:00           1729\n",
       "0 days 03:50:00           1709\n",
       "1 days 10:00:00           1699\n",
       "1 days 23:00:00           1695\n",
       "0 days 03:40:00           1685\n",
       "0 days 01:08:00           1683\n",
       "1 days 11:00:00           1664\n",
       "2 days 02:00:00           1647\n",
       "0 days 01:07:00           1644\n",
       "1 days 18:00:00           1638\n",
       "0 days 09:20:00           1622\n",
       "1 days 19:00:00           1615\n",
       "1 days 22:00:00           1605\n",
       "1 days 09:00:00           1599\n",
       "1 days 00:05:00           1597\n",
       "1 days 20:00:00           1596\n",
       "0 days 08:50:00           1583\n",
       "0 days 10:20:00           1549\n",
       "0 days 15:15:00           1547\n",
       "1 days 21:00:00           1541\n",
       "2 days 16:00:00           1531\n",
       "2 days 15:00:00           1528\n",
       "0 days 10:10:00           1514\n",
       "0 days 11:50:00           1506\n",
       "0 days 08:20:00           1498\n",
       "0 days 02:25:00           1493\n",
       "0 days 04:20:00           1490\n",
       "0 days 04:10:00           1479\n",
       "0 days 09:50:00           1476\n",
       "0 days 10:50:00           1476\n",
       "8 days 00:00:00           1462\n",
       "0 days 11:20:00           1461\n",
       "0 days 01:12:00           1452\n",
       "0 days 15:45:00           1430\n",
       "0 days 08:40:00           1420\n",
       "0 days 01:09:00           1410\n",
       "1 days 00:10:00           1409\n",
       "0 days 12:20:00           1399\n",
       "0 days 09:10:00           1397\n",
       "0 days 09:40:00           1391\n",
       "1 days 02:30:00           1388\n",
       "0 days 10:40:00           1384\n",
       "0 days 23:59:00           1376\n",
       "1 days 00:15:00           1373\n",
       "0 days 02:35:00           1364\n",
       "0 days 07:50:00           1359\n",
       "0 days 12:50:00           1357\n",
       "0 days 03:05:00           1334\n",
       "2 days 00:30:00           1333\n",
       "2 days 03:00:00           1332\n",
       "0 days 01:11:00           1332\n",
       "3 days 01:00:00           1328\n",
       "0 days 08:10:00           1325\n",
       "0 days 04:50:00           1320\n",
       "0 days 04:40:00           1318\n",
       "0 days 01:13:00           1315\n",
       "0 days 05:10:00           1311\n",
       "14 days 00:00:00          1310\n",
       "0 days 06:20:00           1309\n",
       "0 days 05:20:00           1301\n",
       "0 days 11:40:00           1286\n",
       "2 days 14:00:00           1274\n",
       "0 days 07:20:00           1272\n",
       "0 days 01:14:00           1271\n",
       "0 days 07:40:00           1257\n",
       "10 days 00:00:00          1248\n",
       "0 days 07:59:00           1243\n",
       "0 days 05:40:00           1237\n",
       "0 days 05:50:00           1226\n",
       "0 days 16:15:00           1220\n",
       "0 days 12:10:00           1200\n",
       "0 days 11:10:00           1200\n",
       "0 days 13:20:00           1198\n",
       "0 days 06:50:00           1194\n",
       "0 days 02:55:00           1192\n",
       "0 days 12:40:00           1184\n",
       "0 days 06:40:00           1180\n",
       "9 days 00:00:00           1177\n",
       "0 days 01:59:00           1170\n",
       "0 days 01:17:00           1156\n",
       "0 days 01:16:00           1151\n",
       "0 days 01:18:00           1150\n",
       "2 days 17:00:00           1144\n",
       "0 days 07:10:00           1138\n",
       "2 days 04:00:00           1125\n",
       "0 days 13:50:00           1120\n",
       "31 days 00:00:00          1120\n",
       "0 days 01:19:00           1108\n",
       "0 days 06:10:00           1108\n",
       "0 days 06:59:00           1099\n",
       "0 days 01:29:00           1088\n",
       "0 days 01:22:00           1088\n",
       "30 days 00:00:00          1086\n",
       "2 days 13:00:00           1081\n",
       "1 days 03:30:00           1074\n",
       "2 days 18:00:00           1072\n",
       "2 days 12:00:00           1063\n",
       "0 days 16:45:00           1051\n",
       "11 days 00:00:00          1019\n",
       "30 days 23:58:00          1017\n",
       "0 days 14:20:00           1011\n",
       "0 days 03:25:00            992\n",
       "0 days 01:21:00            986\n",
       "2 days 05:00:00            983\n",
       "0 days 01:24:00            980\n",
       "2 days 20:00:00            979\n",
       "2 days 22:00:00            978\n",
       "2 days 23:00:00            973\n",
       "0 days 13:40:00            967\n",
       "0 days 01:23:00            953\n",
       "0 days 05:59:00            951\n",
       "3 days 02:00:00            940\n",
       "1 days 15:30:00            940\n",
       "1 days 14:30:00            938\n",
       "2 days 08:00:00            930\n",
       "1 days 23:58:00            925\n",
       "13 days 00:00:00           913\n",
       "0 days 10:05:00            912\n",
       "0 days 13:10:00            911\n",
       "0 days 05:05:00            911\n",
       "2 days 06:00:00            909\n",
       "1 days 16:30:00            904\n",
       "2 days 19:00:00            901\n",
       "2 days 21:00:00            899\n",
       "1 days 12:30:00            892\n",
       "0 days 03:35:00            892\n",
       "0 days 03:55:00            890\n",
       "2 days 15:30:00            887\n",
       "1 days 04:30:00            881\n",
       "0 days 14:50:00            878\n",
       "1 days 13:30:00            877\n",
       "0 days 01:27:00            877\n",
       "0 days 01:28:00            875\n",
       "1 days 17:30:00            868\n",
       "0 days 17:45:00            863\n",
       "1 days 23:30:00            861\n",
       "1 days 11:30:00            856\n",
       "0 days 08:35:00            847\n",
       "12 days 00:00:00           846\n",
       "3 days 03:00:00            846\n",
       "0 days 02:01:00            841\n",
       "0 days 14:10:00            841\n",
       "0 days 01:26:00            838\n",
       "0 days 17:15:00            837\n",
       "2 days 07:00:00            835\n",
       "0 days 08:59:00            835\n",
       "3 days 00:30:00            829\n",
       "0 days 04:05:00            822\n",
       "0 days 01:31:00            819\n",
       "2 days 10:00:00            818\n",
       "4 days 01:00:00            817\n",
       "0 days 01:32:00            811\n",
       "0 days 14:40:00            809\n",
       "0 days 07:55:00            807\n",
       "1 days 05:30:00            806\n",
       "15 days 00:00:00           796\n",
       "1 days 06:30:00            790\n",
       "2 days 11:00:00            788\n",
       "1 days 18:30:00            783\n",
       "0 days 02:59:00            774\n",
       "0 days 15:20:00            771\n",
       "0 days 01:33:00            764\n",
       "1 days 22:30:00            756\n",
       "1 days 19:30:00            748\n",
       "2 days 09:00:00            746\n",
       "0 days 01:38:00            743\n",
       "1 days 07:30:00            740\n",
       "1 days 10:30:00            736\n",
       "1 days 21:30:00            735\n",
       "2 days 14:30:00            733\n",
       "1 days 08:30:00            731\n",
       "0 days 08:55:00            731\n",
       "0 days 18:15:00            720\n",
       "0 days 09:59:00            719\n",
       "0 days 03:59:00            719\n",
       "0 days 01:34:00            718\n",
       "1 days 09:30:00            717\n",
       "1 days 00:20:00            717\n",
       "3 days 04:00:00            713\n",
       "0 days 15:50:00            713\n",
       "0 days 01:37:00            703\n",
       "1 days 20:30:00            702\n",
       "2 days 01:30:00            698\n",
       "29 days 00:00:00           695\n",
       "0 days 04:25:00            690\n",
       "2 days 16:30:00            690\n",
       "0 days 01:36:00            689\n",
       "0 days 18:45:00            688\n",
       "0 days 08:05:00            687\n",
       "0 days 11:59:00            686\n",
       "0 days 08:25:00            684\n",
       "0 days 15:40:00            678\n",
       "0 days 09:25:00            673\n",
       "0 days 01:42:00            673\n",
       "0 days 09:55:00            672\n",
       "0 days 01:39:00            670\n",
       "21 days 00:00:00           668\n",
       "0 days 06:05:00            666\n",
       "3 days 16:00:00            664\n",
       "4 days 02:00:00            662\n",
       "0 days 19:15:00            661\n",
       "0 days 09:05:00            659\n",
       "0 days 04:55:00            656\n",
       "16 days 00:00:00           645\n",
       "0 days 10:55:00            643\n",
       "3 days 05:00:00            642\n",
       "0 days 05:55:00            638\n",
       "0 days 15:10:00            638\n",
       "0 days 09:35:00            633\n",
       "3 days 08:00:00            632\n",
       "3 days 22:00:00            627\n",
       "0 days 11:55:00            626\n",
       "0 days 06:55:00            623\n",
       "0 days 01:43:00            622\n",
       "29 days 23:58:00           619\n",
       "0 days 01:47:00            619\n",
       "0 days 16:20:00            614\n",
       "0 days 10:35:00            614\n",
       "0 days 04:35:00            613\n",
       "28 days 00:00:00           612\n",
       "0 days 10:25:00            606\n",
       "0 days 19:45:00            603\n",
       "5 days 01:00:00            603\n",
       "0 days 01:44:00            600\n",
       "0 days 06:25:00            600\n",
       "0 days 12:05:00            600\n",
       "0 days 11:25:00            599\n",
       "0 days 01:41:00            599\n",
       "3 days 06:00:00            597\n",
       "20 days 00:00:00           593\n",
       "18 days 00:00:00           593\n",
       "0 days 01:48:00            592\n",
       "3 days 23:00:00            592\n",
       "0 days 05:25:00            591\n",
       "0 days 07:05:00            587\n",
       "0 days 07:25:00            584\n",
       "17 days 00:00:00           582\n",
       "7 days 01:00:00            582\n",
       "2 days 02:30:00            581\n",
       "2 days 13:30:00            579\n",
       "3 days 21:00:00            578\n",
       "0 days 01:46:00            571\n",
       "0 days 01:54:00            569\n",
       "6 days 01:00:00            567\n",
       "0 days 04:59:00            566\n",
       "0 days 01:49:00            564\n",
       "4 days 03:00:00            564\n",
       "3 days 15:00:00            563\n",
       "0 days 20:15:00            555\n",
       "0 days 05:35:00            550\n",
       "0 days 20:45:00            549\n",
       "2 days 23:58:00            548\n",
       "0 days 23:45:00            547\n",
       "0 days 01:58:00            546\n",
       "1 days 00:45:00            546\n",
       "0 days 11:05:00            545\n",
       "0 days 11:35:00            542\n",
       "0 days 06:35:00            539\n",
       "2 days 17:30:00            539\n",
       "0 days 07:35:00            539\n",
       "2 days 00:05:00            536\n",
       "19 days 00:00:00           528\n",
       "0 days 02:02:00            524\n",
       "3 days 20:00:00            524\n",
       "61 days 00:00:00           523\n",
       "0 days 01:57:00            520\n",
       "4 days 04:00:00            520\n",
       "3 days 14:00:00            519\n",
       "0 days 12:25:00            515\n",
       "5 days 02:00:00            514\n",
       "365 days 00:00:00          514\n",
       "0 days 12:35:00            511\n",
       "0 days 12:55:00            510\n",
       "3 days 07:00:00            510\n",
       "0 days 16:50:00            510\n",
       "2 days 23:30:00            504\n",
       "3 days 12:00:00            503\n",
       "4 days 00:30:00            503\n",
       "0 days 21:15:00            502\n",
       "0 days 01:53:00            500\n",
       "0 days 01:52:00            500\n",
       "3 days 17:00:00            500\n",
       "0 days 10:59:00            499\n",
       "2 days 03:30:00            498\n",
       "0 days 16:10:00            496\n",
       "0 days 02:03:00            494\n",
       "3 days 18:00:00            493\n",
       "3 days 09:00:00            493\n",
       "0 days 22:45:00            486\n",
       "0 days 22:15:00            484\n",
       "0 days 16:40:00            482\n",
       "22 days 00:00:00           479\n",
       "0 days 13:05:00            477\n",
       "2 days 12:30:00            477\n",
       "0 days 21:45:00            476\n",
       "0 days 02:08:00            474\n",
       "0 days 13:55:00            470\n",
       "0 days 23:15:00            467\n",
       "0 days 02:29:00            467\n",
       "23 days 00:00:00           466\n",
       "0 days 17:50:00            465\n",
       "3 days 19:00:00            464\n",
       "0 days 01:51:00            463\n",
       "27 days 00:00:00           461\n",
       "2 days 00:15:00            460\n",
       "2 days 20:30:00            458\n",
       "0 days 17:20:00            456\n",
       "0 days 15:59:00            453\n",
       "25 days 00:00:00           453\n",
       "2 days 22:30:00            450\n",
       "0 days 02:07:00            450\n",
       "4 days 23:00:00            448\n",
       "5 days 03:00:00            447\n",
       "2 days 21:30:00            446\n",
       "0 days 14:05:00            446\n",
       "24 days 00:00:00           445\n",
       "0 days 01:56:00            444\n",
       "0 days 13:25:00            444\n",
       "0 days 03:01:00            442\n",
       "0 days 02:06:00            440\n",
       "2 days 04:30:00            437\n",
       "0 days 02:09:00            435\n",
       "3 days 01:30:00            435\n",
       "2 days 11:30:00            433\n",
       "0 days 02:11:00            432\n",
       "2 days 00:10:00            430\n",
       "0 days 02:12:00            428\n",
       "3 days 10:00:00            427\n",
       "0 days 07:29:00            427\n",
       "3 days 13:00:00            426\n",
       "7 days 02:00:00            426\n",
       "7 days 03:00:00            422\n",
       "0 days 02:14:00            422\n",
       "0 days 18:20:00            420\n",
       "2 days 18:30:00            420\n",
       "2 days 19:30:00            419\n",
       "0 days 02:04:00            418\n",
       "0 days 02:18:00            418\n",
       "6 days 02:00:00            418\n",
       "0 days 13:35:00            416\n",
       "4 days 08:00:00            415\n",
       "4 days 23:58:00            413\n",
       "4 days 06:00:00            411\n",
       "4 days 05:00:00            406\n",
       "5 days 00:30:00            402\n",
       "4 days 22:00:00            402\n",
       "6 days 23:00:00            398\n",
       "3 days 00:05:00            397\n",
       "0 days 14:25:00            396\n",
       "26 days 00:00:00           394\n",
       "3 days 11:00:00            394\n",
       "3 days 23:58:00            391\n",
       "6 days 03:00:00            388\n",
       "2 days 05:30:00            387\n",
       "4 days 21:00:00            385\n",
       "0 days 18:50:00            384\n",
       "1 days 01:15:00            381\n",
       "0 days 17:40:00            377\n",
       "0 days 17:10:00            372\n",
       "0 days 13:59:00            372\n",
       "0 days 02:19:00            372\n",
       "10 days 01:00:00           371\n",
       "0 days 02:17:00            369\n",
       "0 days 02:13:00            365\n",
       "0 days 06:29:00            365\n",
       "0 days 02:22:00            365\n",
       "2 days 10:30:00            364\n",
       "0 days 23:50:00            361\n",
       "0 days 02:16:00            357\n",
       "2 days 06:30:00            357\n",
       "0 days 14:55:00            357\n",
       "5 days 04:00:00            357\n",
       "0 days 19:20:00            356\n",
       "0 days 02:23:00            355\n",
       "0 days 08:29:00            355\n",
       "0 days 12:59:00            355\n",
       "5 days 23:00:00            353\n",
       "0 days 18:40:00            353\n",
       "0 days 04:01:00            347\n",
       "5 days 22:00:00            346\n",
       "4 days 07:00:00            346\n",
       "0 days 14:35:00            346\n",
       "3 days 02:30:00            345\n",
       "4 days 18:00:00            344\n",
       "2 days 07:30:00            344\n",
       "0 days 19:50:00            340\n",
       "                        ...   \n",
       "54 days 21:58:00             1\n",
       "521 days 02:30:00            1\n",
       "734 days 22:30:00            1\n",
       "22 days 02:48:00             1\n",
       "706 days 00:08:00            1\n",
       "290 days 20:00:00            1\n",
       "4202 days 10:15:00           1\n",
       "5506 days 00:00:00           1\n",
       "228 days 09:29:00            1\n",
       "248 days 22:59:00            1\n",
       "228 days 06:30:00            1\n",
       "194 days 18:00:00            1\n",
       "24 days 10:29:00             1\n",
       "26 days 21:50:00             1\n",
       "49 days 07:02:00             1\n",
       "1396 days 02:50:00           1\n",
       "392 days 09:30:00            1\n",
       "341 days 20:39:00            1\n",
       "82 days 01:07:00             1\n",
       "290 days 01:30:00            1\n",
       "166 days 23:14:00            1\n",
       "86 days 07:25:00             1\n",
       "147 days 07:15:00            1\n",
       "33 days 17:50:00             1\n",
       "107 days 05:20:00            1\n",
       "58 days 15:40:00             1\n",
       "69 days 16:13:00             1\n",
       "1463 days 01:00:00           1\n",
       "2190 days 11:30:00           1\n",
       "80 days 01:15:00             1\n",
       "230 days 02:10:00            1\n",
       "88 days 21:11:00             1\n",
       "350 days 05:50:00            1\n",
       "210 days 02:45:00            1\n",
       "134 days 04:14:00            1\n",
       "388 days 01:35:00            1\n",
       "202 days 09:45:00            1\n",
       "31 days 20:34:00             1\n",
       "15 days 04:16:00             1\n",
       "258 days 04:12:00            1\n",
       "2556 days 03:00:00           1\n",
       "134 days 17:15:00            1\n",
       "24 days 04:01:00             1\n",
       "212 days 14:15:00            1\n",
       "28 days 00:57:00             1\n",
       "152 days 01:58:00            1\n",
       "2192 days 08:30:00           1\n",
       "2628 days 23:00:00           1\n",
       "7400 days 00:00:00           1\n",
       "93 days 23:52:00             1\n",
       "120 days 14:30:00            1\n",
       "13 days 07:09:00             1\n",
       "1095 days 15:45:00           1\n",
       "58 days 20:44:00             1\n",
       "464 days 22:00:00            1\n",
       "174 days 02:10:00            1\n",
       "9132 days 01:00:00           1\n",
       "214 days 14:59:00            1\n",
       "96 days 22:20:00             1\n",
       "14 days 02:54:00             1\n",
       "13 days 04:35:00             1\n",
       "90 days 23:42:00             1\n",
       "9 days 10:01:00              1\n",
       "29 days 09:40:00             1\n",
       "8 days 15:13:00              1\n",
       "16 days 22:54:00             1\n",
       "36 days 00:27:00             1\n",
       "65 days 02:19:00             1\n",
       "714 days 05:00:00            1\n",
       "88 days 13:20:00             1\n",
       "573 days 08:30:00            1\n",
       "60 days 23:56:00             1\n",
       "1434 days 09:50:00           1\n",
       "820 days 04:00:00            1\n",
       "151 days 00:20:00            1\n",
       "664 days 09:59:00            1\n",
       "243 days 00:06:00            1\n",
       "10 days 15:17:00             1\n",
       "22 days 04:02:00             1\n",
       "89 days 11:46:00             1\n",
       "20 days 16:06:00             1\n",
       "2556 days 14:49:00           1\n",
       "1974 days 00:00:00           1\n",
       "94 days 11:59:00             1\n",
       "305 days 23:30:00            1\n",
       "248 days 03:30:00            1\n",
       "22 days 16:16:00             1\n",
       "82 days 00:40:00             1\n",
       "354 days 09:00:00            1\n",
       "110 days 10:24:00            1\n",
       "985 days 00:00:00            1\n",
       "376 days 10:01:00            1\n",
       "21 days 02:49:00             1\n",
       "3 days 11:46:00              1\n",
       "2128 days 20:15:00           1\n",
       "383 days 16:43:00            1\n",
       "195 days 16:57:00            1\n",
       "400 days 19:00:00            1\n",
       "230 days 03:55:00            1\n",
       "600 days 00:42:00            1\n",
       "335 days 10:41:00            1\n",
       "23 days 21:02:00             1\n",
       "193 days 20:00:00            1\n",
       "92 days 06:45:00             1\n",
       "620 days 17:01:00            1\n",
       "301 days 16:59:00            1\n",
       "84 days 01:48:00             1\n",
       "1368 days 22:50:00           1\n",
       "19 days 23:46:00             1\n",
       "446 days 04:00:00            1\n",
       "108 days 19:12:00            1\n",
       "38 days 03:33:00             1\n",
       "2191 days 17:00:00           1\n",
       "106 days 01:01:00            1\n",
       "7 days 16:11:00              1\n",
       "578 days 10:00:00            1\n",
       "30 days 20:21:00             1\n",
       "127 days 18:40:00            1\n",
       "19 days 14:39:00             1\n",
       "578 days 23:00:00            1\n",
       "37 days 23:15:00             1\n",
       "53 days 10:19:00             1\n",
       "195 days 21:30:00            1\n",
       "108 days 04:18:00            1\n",
       "847 days 22:30:00            1\n",
       "346 days 08:56:00            1\n",
       "161 days 06:39:00            1\n",
       "14 days 10:44:00             1\n",
       "17 days 08:42:00             1\n",
       "107 days 20:15:00            1\n",
       "418 days 17:55:00            1\n",
       "12 days 05:38:00             1\n",
       "41 days 05:53:00             1\n",
       "299 days 20:56:00            1\n",
       "83 days 13:10:00             1\n",
       "5 days 16:31:00              1\n",
       "13 days 00:14:00             1\n",
       "96 days 16:49:00             1\n",
       "280 days 17:59:00            1\n",
       "271 days 22:30:00            1\n",
       "1176 days 23:00:00           1\n",
       "40 days 21:25:00             1\n",
       "64 days 06:46:00             1\n",
       "8 days 18:06:00              1\n",
       "92 days 19:34:00             1\n",
       "36 days 14:47:00             1\n",
       "171 days 14:30:00            1\n",
       "186 days 23:50:00            1\n",
       "81 days 01:20:00             1\n",
       "786 days 12:00:00            1\n",
       "89 days 05:43:00             1\n",
       "539 days 02:00:00            1\n",
       "429 days 19:30:00            1\n",
       "216 days 11:54:00            1\n",
       "88 days 20:56:00             1\n",
       "153 days 03:45:00            1\n",
       "158 days 00:49:00            1\n",
       "16 days 09:05:00             1\n",
       "114 days 14:50:00            1\n",
       "5692 days 15:00:00           1\n",
       "5 days 13:32:00              1\n",
       "6 days 05:44:00              1\n",
       "312 days 08:00:00            1\n",
       "545 days 09:00:00            1\n",
       "12 days 22:31:00             1\n",
       "22 days 19:23:00             1\n",
       "257 days 06:54:00            1\n",
       "143 days 13:31:00            1\n",
       "133 days 01:30:00            1\n",
       "104 days 00:50:00            1\n",
       "99 days 20:10:00             1\n",
       "593 days 01:30:00            1\n",
       "271 days 16:01:00            1\n",
       "61 days 09:14:00             1\n",
       "1464 days 04:35:00           1\n",
       "1861 days 00:00:00           1\n",
       "18263 days 00:15:00          1\n",
       "258 days 07:00:00            1\n",
       "1505 days 02:00:00           1\n",
       "44 days 01:14:00             1\n",
       "415 days 04:20:00            1\n",
       "28 days 08:09:00             1\n",
       "1254 days 06:00:00           1\n",
       "24 days 02:54:00             1\n",
       "13 days 10:39:00             1\n",
       "15 days 11:02:00             1\n",
       "556 days 16:30:00            1\n",
       "8 days 20:09:00              1\n",
       "1856 days 16:59:00           1\n",
       "60 days 13:09:00             1\n",
       "377 days 02:30:00            1\n",
       "3 days 14:18:00              1\n",
       "84 days 08:50:00             1\n",
       "51 days 00:40:00             1\n",
       "843 days 19:01:00            1\n",
       "5 days 14:12:00              1\n",
       "1459 days 00:00:00           1\n",
       "250 days 23:00:00            1\n",
       "46 days 14:54:00             1\n",
       "23 days 17:41:00             1\n",
       "114 days 23:30:00            1\n",
       "341 days 19:25:00            1\n",
       "106 days 15:20:00            1\n",
       "3287 days 03:50:00           1\n",
       "1820 days 01:00:00           1\n",
       "106 days 21:07:00            1\n",
       "44 days 01:28:00             1\n",
       "319 days 04:37:00            1\n",
       "14 days 04:56:00             1\n",
       "1094 days 12:30:00           1\n",
       "83 days 19:46:00             1\n",
       "3 days 11:51:00              1\n",
       "218 days 16:26:00            1\n",
       "559 days 05:00:00            1\n",
       "56 days 17:29:00             1\n",
       "50 days 00:07:00             1\n",
       "70 days 23:20:00             1\n",
       "31 days 14:13:00             1\n",
       "3 days 19:11:00              1\n",
       "610 days 12:59:00            1\n",
       "204 days 08:15:00            1\n",
       "261 days 00:25:00            1\n",
       "120 days 19:50:00            1\n",
       "41 days 19:06:00             1\n",
       "6178 days 23:58:00           1\n",
       "88 days 00:33:00             1\n",
       "9 days 21:16:00              1\n",
       "2025 days 01:30:00           1\n",
       "249 days 15:00:00            1\n",
       "62 days 09:02:00             1\n",
       "874 days 10:29:00            1\n",
       "901 days 00:00:00            1\n",
       "13 days 09:44:00             1\n",
       "1556 days 07:50:00           1\n",
       "159 days 02:35:00            1\n",
       "70 days 22:29:00             1\n",
       "594 days 10:00:00            1\n",
       "92 days 03:05:00             1\n",
       "21 days 01:34:00             1\n",
       "17 days 06:38:00             1\n",
       "5 days 10:52:00              1\n",
       "23 days 19:12:00             1\n",
       "460 days 11:09:00            1\n",
       "19 days 21:12:00             1\n",
       "315 days 04:20:00            1\n",
       "45 days 03:05:00             1\n",
       "466 days 09:00:00            1\n",
       "96 days 08:15:00             1\n",
       "375 days 00:05:00            1\n",
       "2159 days 01:00:00           1\n",
       "30 days 07:52:00             1\n",
       "48 days 00:59:00             1\n",
       "326 days 01:59:00            1\n",
       "15 days 00:13:00             1\n",
       "89 days 08:40:00             1\n",
       "1349 days 10:59:00           1\n",
       "55 days 22:08:00             1\n",
       "2780 days 01:30:00           1\n",
       "7 days 05:56:00              1\n",
       "538 days 14:00:00            1\n",
       "682 days 18:00:00            1\n",
       "1092 days 14:00:00           1\n",
       "41 days 00:27:00             1\n",
       "91 days 18:50:00             1\n",
       "223 days 14:00:00            1\n",
       "100 days 21:51:00            1\n",
       "29 days 19:12:00             1\n",
       "152 days 22:15:00            1\n",
       "210 days 13:59:00            1\n",
       "705 days 04:40:00            1\n",
       "44 days 18:03:00             1\n",
       "3476 days 07:40:00           1\n",
       "34 days 06:36:00             1\n",
       "9 days 07:53:00              1\n",
       "730 days 00:50:00            1\n",
       "38 days 20:32:00             1\n",
       "64 days 10:30:00             1\n",
       "377 days 23:00:00            1\n",
       "363 days 12:33:00            1\n",
       "44 days 12:50:00             1\n",
       "73 days 04:09:00             1\n",
       "17 days 10:18:00             1\n",
       "252 days 02:37:00            1\n",
       "616 days 02:45:00            1\n",
       "100 days 02:52:00            1\n",
       "1841 days 00:00:00           1\n",
       "333 days 03:04:00            1\n",
       "262 days 00:06:00            1\n",
       "307 days 08:30:00            1\n",
       "165 days 01:30:00            1\n",
       "360 days 07:30:00            1\n",
       "164 days 08:15:00            1\n",
       "170 days 04:10:00            1\n",
       "44 days 05:40:00             1\n",
       "31 days 07:46:00             1\n",
       "270 days 06:00:00            1\n",
       "25 days 11:05:00             1\n",
       "7 days 18:04:00              1\n",
       "226 days 21:30:00            1\n",
       "126 days 08:03:00            1\n",
       "220 days 15:07:00            1\n",
       "2770 days 00:00:00           1\n",
       "75 days 11:58:00             1\n",
       "33 days 19:40:00             1\n",
       "52 days 15:32:00             1\n",
       "1925 days 23:58:00           1\n",
       "155 days 19:04:00            1\n",
       "28 days 21:10:00             1\n",
       "256 days 23:01:00            1\n",
       "15 days 05:13:00             1\n",
       "112 days 19:37:00            1\n",
       "732 days 09:00:00            1\n",
       "11 days 15:38:00             1\n",
       "618 days 00:30:00            1\n",
       "14 days 19:23:00             1\n",
       "2415 days 19:59:00           1\n",
       "244 days 21:47:00            1\n",
       "131 days 01:31:00            1\n",
       "71 days 05:45:00             1\n",
       "135 days 16:59:00            1\n",
       "39 days 05:25:00             1\n",
       "10 days 19:01:00             1\n",
       "528 days 10:00:00            1\n",
       "179 days 21:44:00            1\n",
       "261 days 09:50:00            1\n",
       "211 days 00:30:00            1\n",
       "88 days 17:59:00             1\n",
       "112 days 04:03:00            1\n",
       "273 days 05:03:00            1\n",
       "174 days 12:59:00            1\n",
       "82 days 14:50:00             1\n",
       "202 days 22:14:00            1\n",
       "181 days 11:30:00            1\n",
       "758 days 09:30:00            1\n",
       "15 days 16:14:00             1\n",
       "68 days 19:40:00             1\n",
       "812 days 10:00:00            1\n",
       "10 days 06:07:00             1\n",
       "153 days 10:50:00            1\n",
       "7 days 12:04:00              1\n",
       "239 days 19:05:00            1\n",
       "89 days 05:07:00             1\n",
       "18 days 12:29:00             1\n",
       "8 days 15:56:00              1\n",
       "6 days 16:11:00              1\n",
       "133 days 08:09:00            1\n",
       "3857 days 10:00:00           1\n",
       "266 days 00:25:00            1\n",
       "475 days 15:00:00            1\n",
       "40 days 17:46:00             1\n",
       "40 days 08:12:00             1\n",
       "122 days 01:41:00            1\n",
       "150 days 06:12:00            1\n",
       "222 days 16:00:00            1\n",
       "50 days 12:59:00             1\n",
       "1481 days 19:35:00           1\n",
       "2503 days 22:00:00           1\n",
       "8 days 04:41:00              1\n",
       "73 days 20:04:00             1\n",
       "98 days 06:30:00             1\n",
       "21 days 14:45:00             1\n",
       "7 days 17:18:00              1\n",
       "94 days 13:59:00             1\n",
       "63 days 16:15:00             1\n",
       "90 days 10:49:00             1\n",
       "53 days 11:04:00             1\n",
       "104 days 01:52:00            1\n",
       "188 days 00:30:00            1\n",
       "378 days 13:29:00            1\n",
       "29 days 16:39:00             1\n",
       "428 days 13:59:00            1\n",
       "262 days 16:30:00            1\n",
       "84 days 14:40:00             1\n",
       "147 days 15:15:00            1\n",
       "29 days 02:41:00             1\n",
       "130 days 04:37:00            1\n",
       "85 days 07:30:00             1\n",
       "43 days 19:38:00             1\n",
       "378 days 02:38:00            1\n",
       "19 days 11:15:00             1\n",
       "262 days 07:05:00            1\n",
       "178 days 23:00:00            1\n",
       "23 days 22:11:00             1\n",
       "38 days 13:42:00             1\n",
       "5 days 13:42:00              1\n",
       "28 days 11:34:00             1\n",
       "550 days 09:15:00            1\n",
       "445 days 00:58:00            1\n",
       "45 days 21:38:00             1\n",
       "167 days 23:31:00            1\n",
       "16436 days 00:30:00          1\n",
       "55 days 19:40:00             1\n",
       "2875 days 00:24:00           1\n",
       "14 days 08:54:00             1\n",
       "287 days 14:59:00            1\n",
       "772 days 04:00:00            1\n",
       "110 days 07:30:00            1\n",
       "34 days 11:43:00             1\n",
       "1370 days 01:45:00           1\n",
       "39 days 14:15:00             1\n",
       "100 days 18:49:00            1\n",
       "35 days 04:01:00             1\n",
       "140 days 12:40:00            1\n",
       "484 days 22:30:00            1\n",
       "23 days 05:12:00             1\n",
       "34 days 04:21:00             1\n",
       "83 days 19:40:00             1\n",
       "612 days 07:10:00            1\n",
       "47 days 20:01:00             1\n",
       "6 days 18:14:00              1\n",
       "115 days 14:29:00            1\n",
       "506 days 16:03:00            1\n",
       "167 days 23:06:00            1\n",
       "599 days 02:22:00            1\n",
       "73 days 02:47:00             1\n",
       "123 days 11:59:00            1\n",
       "32 days 16:02:00             1\n",
       "62 days 03:15:00             1\n",
       "696 days 20:00:00            1\n",
       "4561 days 12:05:00           1\n",
       "329 days 14:00:00            1\n",
       "178 days 07:59:00            1\n",
       "304 days 09:20:00            1\n",
       "936 days 09:00:00            1\n",
       "33 days 12:03:00             1\n",
       "1871 days 13:00:00           1\n",
       "134 days 15:59:00            1\n",
       "191 days 15:30:00            1\n",
       "156 days 16:50:00            1\n",
       "82 days 18:40:00             1\n",
       "11 days 11:44:00             1\n",
       "17 days 04:16:00             1\n",
       "13 days 14:49:00             1\n",
       "13 days 11:50:00             1\n",
       "2 days 08:11:00              1\n",
       "65 days 04:05:00             1\n",
       "365 days 03:39:00            1\n",
       "95 days 02:55:00             1\n",
       "328 days 22:30:00            1\n",
       "278 days 05:05:00            1\n",
       "58 days 06:04:00             1\n",
       "177 days 14:59:00            1\n",
       "2275 days 01:30:00           1\n",
       "794 days 09:58:00            1\n",
       "1338 days 10:59:00           1\n",
       "1163 days 23:58:00           1\n",
       "49 days 08:40:00             1\n",
       "30 days 01:52:00             1\n",
       "1102 days 01:00:00           1\n",
       "57 days 06:02:00             1\n",
       "78 days 06:02:00             1\n",
       "837 days 07:45:00            1\n",
       "73 days 23:33:00             1\n",
       "113 days 06:43:00            1\n",
       "17 days 20:22:00             1\n",
       "686 days 07:30:00            1\n",
       "896 days 13:59:00            1\n",
       "168 days 11:48:00            1\n",
       "2496 days 23:00:00           1\n",
       "61 days 08:31:00             1\n",
       "41 days 03:27:00             1\n",
       "212 days 07:40:00            1\n",
       "550 days 02:50:00            1\n",
       "314 days 03:35:00            1\n",
       "17 days 14:10:00             1\n",
       "824 days 00:10:00            1\n",
       "123 days 12:45:00            1\n",
       "23 days 10:33:00             1\n",
       "16 days 07:36:00             1\n",
       "59 days 17:40:00             1\n",
       "197 days 16:00:00            1\n",
       "19 days 21:04:00             1\n",
       "1458 days 04:50:00           1\n",
       "70 days 19:34:00             1\n",
       "1827 days 07:30:00           1\n",
       "181 days 14:29:00            1\n",
       "172 days 01:19:00            1\n",
       "42 days 20:16:00             1\n",
       "168 days 08:40:00            1\n",
       "131 days 17:12:00            1\n",
       "390 days 02:15:00            1\n",
       "173 days 14:28:00            1\n",
       "373 days 12:00:00            1\n",
       "20 days 21:57:00             1\n",
       "205 days 12:35:00            1\n",
       "14 days 22:24:00             1\n",
       "41 days 20:45:00             1\n",
       "38 days 20:08:00             1\n",
       "25 days 00:16:00             1\n",
       "197 days 04:15:00            1\n",
       "222 days 10:30:00            1\n",
       "4576 days 02:00:00           1\n",
       "182 days 10:29:00            1\n",
       "1133 days 05:45:00           1\n",
       "315 days 01:50:00            1\n",
       "8 days 13:58:00              1\n",
       "1747 days 10:59:00           1\n",
       "153 days 00:04:00            1\n",
       "379 days 05:43:00            1\n",
       "91 days 03:36:00             1\n",
       "43 days 23:52:00             1\n",
       "2237 days 00:00:00           1\n",
       "365 days 17:01:00            1\n",
       "7 days 23:26:00              1\n",
       "47 days 19:38:00             1\n",
       "22 days 14:44:00             1\n",
       "218 days 08:00:00            1\n",
       "182 days 16:00:00            1\n",
       "181 days 00:08:00            1\n",
       "178 days 00:09:00            1\n",
       "11 days 10:25:00             1\n",
       "886 days 20:15:00            1\n",
       "54 days 12:50:00             1\n",
       "136 days 18:43:00            1\n",
       "126 days 09:18:00            1\n",
       "31 days 00:26:00             1\n",
       "21 days 06:37:00             1\n",
       "46 days 13:54:00             1\n",
       "352 days 08:32:00            1\n",
       "39 days 08:41:00             1\n",
       "35 days 22:31:00             1\n",
       "167 days 18:25:00            1\n",
       "486 days 23:58:00            1\n",
       "6 days 04:31:00              1\n",
       "28 days 09:55:00             1\n",
       "253 days 10:01:00            1\n",
       "2192 days 11:00:00           1\n",
       "1366 days 14:29:00           1\n",
       "643 days 14:59:00            1\n",
       "87 days 21:11:00             1\n",
       "244 days 03:46:00            1\n",
       "13 days 04:28:00             1\n",
       "38 days 20:43:00             1\n",
       "436 days 21:00:00            1\n",
       "2 days 14:16:00              1\n",
       "947 days 22:30:00            1\n",
       "926 days 00:00:00            1\n",
       "46 days 22:58:00             1\n",
       "138 days 13:02:00            1\n",
       "31 days 03:17:00             1\n",
       "79 days 17:30:00             1\n",
       "52 days 19:27:00             1\n",
       "87 days 06:59:00             1\n",
       "41 days 23:15:00             1\n",
       "2042 days 00:00:00           1\n",
       "72 days 01:29:00             1\n",
       "71 days 16:48:00             1\n",
       "117 days 21:54:00            1\n",
       "68 days 12:49:00             1\n",
       "641 days 20:00:00            1\n",
       "1202 days 02:00:00           1\n",
       "88 days 14:55:00             1\n",
       "172 days 19:29:00            1\n",
       "312 days 07:29:00            1\n",
       "43 days 08:35:00             1\n",
       "661 days 08:10:00            1\n",
       "434 days 22:10:00            1\n",
       "2249 days 03:00:00           1\n",
       "13 days 18:12:00             1\n",
       "187 days 16:48:00            1\n",
       "91 days 17:56:00             1\n",
       "414 days 02:14:00            1\n",
       "365 days 13:50:00            1\n",
       "335 days 21:30:00            1\n",
       "72 days 18:44:00             1\n",
       "Name: duration, Length: 78033, dtype: int64"
      ]
     },
     "execution_count": 79,
     "metadata": {},
     "output_type": "execute_result"
    }
   ],
   "source": [
    "nyc_crime['duration'].value_counts()"
   ]
  },
  {
   "cell_type": "code",
   "execution_count": 80,
   "metadata": {},
   "outputs": [
    {
     "data": {
      "text/plain": [
       "0"
      ]
     },
     "execution_count": 80,
     "metadata": {},
     "output_type": "execute_result"
    }
   ],
   "source": [
    "nyc_crime['duration'].isna().sum()"
   ]
  },
  {
   "cell_type": "markdown",
   "metadata": {},
   "source": [
    "The next section extracts year, month, and date from the 'date_time_start' datetime variable into seperate column variables."
   ]
  },
  {
   "cell_type": "code",
   "execution_count": 81,
   "metadata": {},
   "outputs": [],
   "source": [
    "nyc_crime['start_year'] = nyc_crime.date_time_start.dt.year"
   ]
  },
  {
   "cell_type": "markdown",
   "metadata": {},
   "source": [
    "The following command checks the year range in the data. Note that there are many cases that fall outside of the dataset's stated year range of 2006-2018. There are also obvious entry errors, so they will be coded to 'unknown' a little bit further down in the notebook."
   ]
  },
  {
   "cell_type": "code",
   "execution_count": 82,
   "metadata": {
    "scrolled": true
   },
   "outputs": [
    {
     "data": {
      "text/plain": [
       "2007.0    535094\n",
       "2008.0    528715\n",
       "2006.0    512620\n",
       "2009.0    511044\n",
       "2010.0    510070\n",
       "2012.0    504652\n",
       "2011.0    498586\n",
       "2013.0    495704\n",
       "2014.0    491842\n",
       "2015.0    478333\n",
       "2016.0    477599\n",
       "2017.0    466664\n",
       "2018.0    452958\n",
       "2005.0     10476\n",
       "2004.0      2092\n",
       "2003.0      1554\n",
       "2002.0      1073\n",
       "2001.0      1051\n",
       "2000.0       911\n",
       "1999.0       358\n",
       "1998.0       241\n",
       "1997.0       140\n",
       "1996.0       132\n",
       "1995.0        88\n",
       "1994.0        77\n",
       "1993.0        64\n",
       "1992.0        49\n",
       "1986.0        38\n",
       "1990.0        37\n",
       "1991.0        36\n",
       "1989.0        32\n",
       "1985.0        28\n",
       "1966.0        26\n",
       "1987.0        22\n",
       "1988.0        20\n",
       "1980.0        16\n",
       "1979.0        16\n",
       "1984.0        14\n",
       "1968.0        14\n",
       "1981.0        14\n",
       "1977.0        14\n",
       "1967.0        14\n",
       "1975.0        13\n",
       "1973.0        13\n",
       "1914.0        11\n",
       "1912.0        11\n",
       "1971.0        11\n",
       "1978.0        11\n",
       "1983.0        11\n",
       "1974.0        10\n",
       "1982.0        10\n",
       "1910.0         9\n",
       "1913.0         9\n",
       "1960.0         9\n",
       "1915.0         9\n",
       "1972.0         8\n",
       "1969.0         7\n",
       "1976.0         7\n",
       "1911.0         7\n",
       "1916.0         7\n",
       "1970.0         6\n",
       "1920.0         6\n",
       "1917.0         5\n",
       "1900.0         5\n",
       "1965.0         5\n",
       "1918.0         4\n",
       "1908.0         3\n",
       "1950.0         3\n",
       "1955.0         3\n",
       "1962.0         3\n",
       "1954.0         3\n",
       "1909.0         3\n",
       "1959.0         2\n",
       "1942.0         2\n",
       "1941.0         2\n",
       "1945.0         2\n",
       "1946.0         2\n",
       "1905.0         2\n",
       "1948.0         2\n",
       "1957.0         2\n",
       "1906.0         1\n",
       "1964.0         1\n",
       "1961.0         1\n",
       "1951.0         1\n",
       "1958.0         1\n",
       "1956.0         1\n",
       "1922.0         1\n",
       "1928.0         1\n",
       "1929.0         1\n",
       "1930.0         1\n",
       "1938.0         1\n",
       "1940.0         1\n",
       "1947.0         1\n",
       "1919.0         1\n",
       "Name: start_year, dtype: int64"
      ]
     },
     "execution_count": 82,
     "metadata": {},
     "output_type": "execute_result"
    }
   ],
   "source": [
    "nyc_crime.start_year.value_counts()"
   ]
  },
  {
   "cell_type": "code",
   "execution_count": 83,
   "metadata": {},
   "outputs": [],
   "source": [
    "nyc_crime['start_month'] = nyc_crime.date_time_start.dt.month"
   ]
  },
  {
   "cell_type": "code",
   "execution_count": 84,
   "metadata": {
    "scrolled": true
   },
   "outputs": [
    {
     "data": {
      "text/plain": [
       "8.0     581561\n",
       "7.0     581020\n",
       "5.0     570201\n",
       "10.0    567465\n",
       "6.0     561203\n",
       "9.0     557365\n",
       "3.0     533059\n",
       "1.0     529720\n",
       "11.0    515708\n",
       "4.0     513951\n",
       "12.0    507464\n",
       "2.0     464063\n",
       "Name: start_month, dtype: int64"
      ]
     },
     "execution_count": 84,
     "metadata": {},
     "output_type": "execute_result"
    }
   ],
   "source": [
    "#checking that every month of the calendar is represented.\n",
    "nyc_crime.start_month.value_counts()"
   ]
  },
  {
   "cell_type": "code",
   "execution_count": 85,
   "metadata": {},
   "outputs": [],
   "source": [
    "nyc_crime['start_day'] = nyc_crime.date_time_start.dt.day"
   ]
  },
  {
   "cell_type": "code",
   "execution_count": 86,
   "metadata": {},
   "outputs": [
    {
     "data": {
      "text/plain": [
       "1.0     272396\n",
       "15.0    221832\n",
       "20.0    220120\n",
       "10.0    217382\n",
       "5.0     215105\n",
       "12.0    213971\n",
       "17.0    212920\n",
       "2.0     211727\n",
       "18.0    211644\n",
       "14.0    211459\n",
       "21.0    211420\n",
       "13.0    211177\n",
       "3.0     210944\n",
       "11.0    210784\n",
       "16.0    210733\n",
       "9.0     210643\n",
       "6.0     210476\n",
       "7.0     210426\n",
       "4.0     210323\n",
       "8.0     210010\n",
       "22.0    209930\n",
       "23.0    209747\n",
       "28.0    209108\n",
       "19.0    207713\n",
       "27.0    207154\n",
       "24.0    206742\n",
       "25.0    205817\n",
       "26.0    204558\n",
       "29.0    193034\n",
       "30.0    192667\n",
       "31.0    120818\n",
       "Name: start_day, dtype: int64"
      ]
     },
     "execution_count": 86,
     "metadata": {},
     "output_type": "execute_result"
    }
   ],
   "source": [
    "#checking that every day of a month is represented.\n",
    "nyc_crime.start_day.value_counts()"
   ]
  },
  {
   "cell_type": "code",
   "execution_count": 87,
   "metadata": {},
   "outputs": [],
   "source": [
    "nyc_crime['start_hour'] = nyc_crime.date_time_start.dt.hour"
   ]
  },
  {
   "cell_type": "code",
   "execution_count": 88,
   "metadata": {},
   "outputs": [
    {
     "data": {
      "text/plain": [
       "15.0    389903\n",
       "18.0    382541\n",
       "17.0    373686\n",
       "16.0    372208\n",
       "19.0    368784\n",
       "20.0    364958\n",
       "12.0    359040\n",
       "14.0    345344\n",
       "21.0    331419\n",
       "22.0    313615\n",
       "0.0     311550\n",
       "13.0    305541\n",
       "23.0    289632\n",
       "11.0    256442\n",
       "10.0    250499\n",
       "9.0     241392\n",
       "1.0     222021\n",
       "8.0     219398\n",
       "2.0     179035\n",
       "3.0     150528\n",
       "7.0     135449\n",
       "4.0     131854\n",
       "6.0      95137\n",
       "5.0      92804\n",
       "Name: start_hour, dtype: int64"
      ]
     },
     "execution_count": 88,
     "metadata": {},
     "output_type": "execute_result"
    }
   ],
   "source": [
    "nyc_crime['start_hour'].value_counts()"
   ]
  },
  {
   "cell_type": "code",
   "execution_count": 89,
   "metadata": {},
   "outputs": [],
   "source": [
    "nyc_crime['start_minute'] = nyc_crime.date_time_start.dt.minute"
   ]
  },
  {
   "cell_type": "code",
   "execution_count": 90,
   "metadata": {},
   "outputs": [
    {
     "data": {
      "text/plain": [
       "0.0     2308464\n",
       "30.0    1103397\n",
       "45.0     332567\n",
       "15.0     330375\n",
       "20.0     286944\n",
       "50.0     281632\n",
       "40.0     268848\n",
       "10.0     227397\n",
       "25.0     142180\n",
       "5.0      130487\n",
       "35.0     128143\n",
       "55.0     126584\n",
       "1.0       96618\n",
       "18.0      20833\n",
       "48.0      19732\n",
       "8.0       19675\n",
       "38.0      19371\n",
       "58.0      19309\n",
       "28.0      19033\n",
       "12.0      17999\n",
       "23.0      16606\n",
       "43.0      16212\n",
       "13.0      16124\n",
       "22.0      15924\n",
       "17.0      15886\n",
       "14.0      15789\n",
       "42.0      15723\n",
       "24.0      15641\n",
       "47.0      15541\n",
       "7.0       15470\n",
       "59.0      15454\n",
       "2.0       15429\n",
       "3.0       15389\n",
       "27.0      15341\n",
       "37.0      15165\n",
       "9.0       15144\n",
       "53.0      15030\n",
       "19.0      14905\n",
       "57.0      14902\n",
       "44.0      14873\n",
       "33.0      14771\n",
       "52.0      14744\n",
       "6.0       14519\n",
       "32.0      14517\n",
       "36.0      14470\n",
       "39.0      14403\n",
       "34.0      14245\n",
       "26.0      14204\n",
       "49.0      14203\n",
       "4.0       14099\n",
       "54.0      13960\n",
       "16.0      13932\n",
       "29.0      13924\n",
       "11.0      13647\n",
       "46.0      13422\n",
       "56.0      13400\n",
       "21.0      12457\n",
       "41.0      11770\n",
       "51.0      11474\n",
       "31.0      10483\n",
       "Name: start_minute, dtype: int64"
      ]
     },
     "execution_count": 90,
     "metadata": {},
     "output_type": "execute_result"
    }
   ],
   "source": [
    "nyc_crime['start_minute'].value_counts()"
   ]
  },
  {
   "cell_type": "markdown",
   "metadata": {},
   "source": [
    "The following section uses boolean masks and variable assignment to create new binary columns for major holidays that always fall on the same day of the year."
   ]
  },
  {
   "cell_type": "code",
   "execution_count": 91,
   "metadata": {
    "scrolled": true
   },
   "outputs": [],
   "source": [
    "new_years_day = (nyc_crime.start_month == 1) & (nyc_crime.start_day == 1)"
   ]
  },
  {
   "cell_type": "code",
   "execution_count": 92,
   "metadata": {},
   "outputs": [
    {
     "data": {
      "text/plain": [
       "0    6453141\n",
       "1      30383\n",
       "Name: new_years_day, dtype: int64"
      ]
     },
     "execution_count": 92,
     "metadata": {},
     "output_type": "execute_result"
    }
   ],
   "source": [
    "nyc_crime['new_years_day'] = new_years_day.astype(int)\n",
    "nyc_crime.new_years_day.value_counts()"
   ]
  },
  {
   "cell_type": "code",
   "execution_count": 93,
   "metadata": {
    "scrolled": true
   },
   "outputs": [],
   "source": [
    "new_years_eve = (nyc_crime.start_month == 12) & (nyc_crime.start_day == 31)"
   ]
  },
  {
   "cell_type": "code",
   "execution_count": 94,
   "metadata": {
    "scrolled": true
   },
   "outputs": [
    {
     "data": {
      "text/plain": [
       "0    6468721\n",
       "1      14803\n",
       "Name: new_years_eve, dtype: int64"
      ]
     },
     "execution_count": 94,
     "metadata": {},
     "output_type": "execute_result"
    }
   ],
   "source": [
    "nyc_crime['new_years_eve'] = new_years_eve.astype(int)\n",
    "nyc_crime.new_years_eve.value_counts()"
   ]
  },
  {
   "cell_type": "code",
   "execution_count": 95,
   "metadata": {
    "scrolled": true
   },
   "outputs": [],
   "source": [
    "christmas_eve = (nyc_crime.start_month == 12) & (nyc_crime.start_day == 24)"
   ]
  },
  {
   "cell_type": "code",
   "execution_count": 96,
   "metadata": {},
   "outputs": [
    {
     "data": {
      "text/plain": [
       "0    6469323\n",
       "1      14201\n",
       "Name: christmas_eve, dtype: int64"
      ]
     },
     "execution_count": 96,
     "metadata": {},
     "output_type": "execute_result"
    }
   ],
   "source": [
    "nyc_crime['christmas_eve'] = christmas_eve.astype(int)\n",
    "nyc_crime.christmas_eve.value_counts()"
   ]
  },
  {
   "cell_type": "code",
   "execution_count": 97,
   "metadata": {},
   "outputs": [],
   "source": [
    "christmas = (nyc_crime.start_month == 12) & (nyc_crime.start_day == 25)"
   ]
  },
  {
   "cell_type": "code",
   "execution_count": 98,
   "metadata": {},
   "outputs": [],
   "source": [
    "nyc_crime['christmas'] = christmas.astype(int)"
   ]
  },
  {
   "cell_type": "code",
   "execution_count": 99,
   "metadata": {},
   "outputs": [],
   "source": [
    "july_4th = (nyc_crime.start_month == 7) & (nyc_crime.start_day == 4)"
   ]
  },
  {
   "cell_type": "code",
   "execution_count": 100,
   "metadata": {},
   "outputs": [],
   "source": [
    "nyc_crime['july_4th'] = july_4th.astype(int)"
   ]
  },
  {
   "cell_type": "code",
   "execution_count": 101,
   "metadata": {},
   "outputs": [],
   "source": [
    "valentines = (nyc_crime.start_month == 2) & (nyc_crime.start_day == 14)"
   ]
  },
  {
   "cell_type": "code",
   "execution_count": 102,
   "metadata": {},
   "outputs": [],
   "source": [
    "nyc_crime['valentines'] = valentines.astype(int)"
   ]
  },
  {
   "cell_type": "code",
   "execution_count": 103,
   "metadata": {},
   "outputs": [],
   "source": [
    "halloween = (nyc_crime.start_month == 10) & (nyc_crime.start_day == 31)"
   ]
  },
  {
   "cell_type": "code",
   "execution_count": 104,
   "metadata": {},
   "outputs": [],
   "source": [
    "nyc_crime['halloween'] = halloween.astype(int)"
   ]
  },
  {
   "cell_type": "code",
   "execution_count": 105,
   "metadata": {},
   "outputs": [],
   "source": [
    "st_patricks = (nyc_crime.start_month == 3) & (nyc_crime.start_day == 17)"
   ]
  },
  {
   "cell_type": "code",
   "execution_count": 106,
   "metadata": {},
   "outputs": [],
   "source": [
    "nyc_crime['st_patricks'] = st_patricks.astype(int)"
   ]
  },
  {
   "cell_type": "markdown",
   "metadata": {},
   "source": [
    "The following section uses boolean masks and variable assignment to create new binary columns for major holidays that do not fall on the same day every year. The first step creates separate boolean masks for the date of the holiday in question for each year, then a boolean mask is created for all years based on the boolean masks for each individual year, and then the holiday's column variable is created. To keep the dataset tidy, the variables for each holiday's year are then deleted from the DataFrame."
   ]
  },
  {
   "cell_type": "markdown",
   "metadata": {},
   "source": [
    "For this section, I plan on going back to create dictionary comprehensions using lists of values to code the irregularly dated holidays more efficiently and Pythonically."
   ]
  },
  {
   "cell_type": "code",
   "execution_count": 107,
   "metadata": {},
   "outputs": [],
   "source": [
    "#Martin Luther King Day\n",
    "mlk06 = (nyc_crime.start_month == 1) & (nyc_crime.start_day == 16) & (nyc_crime.start_year == 2006) \n",
    "mlk07 = (nyc_crime.start_month == 1) & (nyc_crime.start_day == 15) & (nyc_crime.start_year == 2007)\n",
    "mlk08 = (nyc_crime.start_month == 1) & (nyc_crime.start_day == 21) & (nyc_crime.start_year == 2008)\n",
    "mlk09 = (nyc_crime.start_month == 1) & (nyc_crime.start_day == 19) & (nyc_crime.start_year == 2009)\n",
    "mlk10 = (nyc_crime.start_month == 1) & (nyc_crime.start_day == 18) & (nyc_crime.start_year == 2010)\n",
    "mlk11 = (nyc_crime.start_month == 1) & (nyc_crime.start_day == 17) & (nyc_crime.start_year == 2011)\n",
    "mlk12 = (nyc_crime.start_month == 1) & (nyc_crime.start_day == 16) & (nyc_crime.start_year == 2012)\n",
    "mlk13 = (nyc_crime.start_month == 1) & (nyc_crime.start_day == 21) & (nyc_crime.start_year == 2013)\n",
    "mlk14 = (nyc_crime.start_month == 1) & (nyc_crime.start_day == 20) & (nyc_crime.start_year == 2014)\n",
    "mlk15 = (nyc_crime.start_month == 1) & (nyc_crime.start_day == 19) & (nyc_crime.start_year == 2015)\n",
    "mlk16 = (nyc_crime.start_month == 1) & (nyc_crime.start_day == 18) & (nyc_crime.start_year == 2016)\n",
    "mlk17 = (nyc_crime.start_month == 1) & (nyc_crime.start_day == 16) & (nyc_crime.start_year == 2017)\n",
    "mlk18 = (nyc_crime.start_month == 1) & (nyc_crime.start_day == 15) & (nyc_crime.start_year == 2018)"
   ]
  },
  {
   "cell_type": "code",
   "execution_count": 108,
   "metadata": {},
   "outputs": [],
   "source": [
    "nyc_crime['mlk06'] = mlk06.astype(int)\n",
    "nyc_crime['mlk07'] = mlk07.astype(int)\n",
    "nyc_crime['mlk08'] = mlk08.astype(int)\n",
    "nyc_crime['mlk09'] = mlk09.astype(int)\n",
    "nyc_crime['mlk10'] = mlk10.astype(int)\n",
    "nyc_crime['mlk11'] = mlk11.astype(int)\n",
    "nyc_crime['mlk12'] = mlk12.astype(int)\n",
    "nyc_crime['mlk13'] = mlk13.astype(int)\n",
    "nyc_crime['mlk14'] = mlk14.astype(int)\n",
    "nyc_crime['mlk15'] = mlk15.astype(int)\n",
    "nyc_crime['mlk16'] = mlk16.astype(int)\n",
    "nyc_crime['mlk17'] = mlk17.astype(int)\n",
    "nyc_crime['mlk18'] = mlk18.astype(int)"
   ]
  },
  {
   "cell_type": "code",
   "execution_count": 109,
   "metadata": {},
   "outputs": [],
   "source": [
    "mlk = (nyc_crime.mlk06 == 1) | (nyc_crime.mlk07 == 1) | (nyc_crime.mlk08 == 1) | (nyc_crime.mlk09 == 1) | (nyc_crime.mlk10 == 1) | (nyc_crime.mlk11 == 1) | (nyc_crime.mlk12 == 1) | (nyc_crime.mlk13 == 1) | (nyc_crime.mlk14 == 1) | (nyc_crime.mlk15 == 1) | (nyc_crime.mlk16 == 1) | (nyc_crime.mlk17 == 1) | (nyc_crime.mlk18 == 1)"
   ]
  },
  {
   "cell_type": "code",
   "execution_count": 110,
   "metadata": {},
   "outputs": [],
   "source": [
    "nyc_crime['mlk'] = mlk.astype(int)"
   ]
  },
  {
   "cell_type": "code",
   "execution_count": 111,
   "metadata": {
    "scrolled": true
   },
   "outputs": [
    {
     "data": {
      "text/plain": [
       "0    6468837\n",
       "1      14687\n",
       "Name: mlk, dtype: int64"
      ]
     },
     "execution_count": 111,
     "metadata": {},
     "output_type": "execute_result"
    }
   ],
   "source": [
    "nyc_crime.mlk.value_counts()"
   ]
  },
  {
   "cell_type": "code",
   "execution_count": 112,
   "metadata": {},
   "outputs": [],
   "source": [
    "nyc_crime = nyc_crime.drop(columns=['mlk06', 'mlk07', 'mlk08', 'mlk09', 'mlk10', 'mlk11', 'mlk12', 'mlk13', 'mlk14', 'mlk15', 'mlk16', 'mlk17', 'mlk18'])"
   ]
  },
  {
   "cell_type": "code",
   "execution_count": 113,
   "metadata": {},
   "outputs": [],
   "source": [
    "#President's Day\n",
    "pres06 = (nyc_crime.start_month == 2) & (nyc_crime.start_day == 22) & (nyc_crime.start_year == 2006)\n",
    "pres07 = (nyc_crime.start_month == 2) & (nyc_crime.start_day == 19) & (nyc_crime.start_year == 2007)\n",
    "pres08 = (nyc_crime.start_month == 2) & (nyc_crime.start_day == 18) & (nyc_crime.start_year == 2008)\n",
    "pres09 = (nyc_crime.start_month == 2) & (nyc_crime.start_day == 16) & (nyc_crime.start_year == 2009)\n",
    "pres10 = (nyc_crime.start_month == 2) & (nyc_crime.start_day == 15) & (nyc_crime.start_year == 2010)\n",
    "pres11 = (nyc_crime.start_month == 2) & (nyc_crime.start_day == 21) & (nyc_crime.start_year == 2011)\n",
    "pres12 = (nyc_crime.start_month == 2) & (nyc_crime.start_day == 20) & (nyc_crime.start_year == 2012)\n",
    "pres13 = (nyc_crime.start_month == 2) & (nyc_crime.start_day == 18) & (nyc_crime.start_year == 2013)\n",
    "pres14 = (nyc_crime.start_month == 2) & (nyc_crime.start_day == 17) & (nyc_crime.start_year == 2014)\n",
    "pres15 = (nyc_crime.start_month == 2) & (nyc_crime.start_day == 16) & (nyc_crime.start_year == 2015)\n",
    "pres16 = (nyc_crime.start_month == 2) & (nyc_crime.start_day == 15) & (nyc_crime.start_year == 2016)\n",
    "pres17 = (nyc_crime.start_month == 2) & (nyc_crime.start_day == 20) & (nyc_crime.start_year == 2017)\n",
    "pres18 = (nyc_crime.start_month == 2) & (nyc_crime.start_day == 19) & (nyc_crime.start_year == 2018)"
   ]
  },
  {
   "cell_type": "code",
   "execution_count": 114,
   "metadata": {},
   "outputs": [],
   "source": [
    "nyc_crime['pres06'] = pres06.astype(int)\n",
    "nyc_crime['pres07'] = pres07.astype(int)\n",
    "nyc_crime['pres08'] = pres08.astype(int)\n",
    "nyc_crime['pres09'] = pres09.astype(int)\n",
    "nyc_crime['pres10'] = pres10.astype(int)\n",
    "nyc_crime['pres11'] = pres11.astype(int)\n",
    "nyc_crime['pres12'] = pres12.astype(int)\n",
    "nyc_crime['pres13'] = pres13.astype(int)\n",
    "nyc_crime['pres14'] = pres14.astype(int)\n",
    "nyc_crime['pres15'] = pres15.astype(int)\n",
    "nyc_crime['pres16'] = pres16.astype(int)\n",
    "nyc_crime['pres17'] = pres17.astype(int)\n",
    "nyc_crime['pres18'] = pres18.astype(int)"
   ]
  },
  {
   "cell_type": "code",
   "execution_count": 115,
   "metadata": {},
   "outputs": [],
   "source": [
    "pres = (nyc_crime.pres06 == 1) | (nyc_crime.pres07 == 1) | (nyc_crime.pres08 == 1) | (nyc_crime.pres09 == 1) | (nyc_crime.pres10 == 1) | (nyc_crime.pres11 == 1) | (nyc_crime.pres12 == 1) | (nyc_crime.pres13 == 1) | (nyc_crime.pres14 == 1) | (nyc_crime.pres15 == 1) | (nyc_crime.pres16 == 1) | (nyc_crime.pres17 == 1) | (nyc_crime.pres18 == 1)"
   ]
  },
  {
   "cell_type": "code",
   "execution_count": 116,
   "metadata": {},
   "outputs": [],
   "source": [
    "nyc_crime['pres'] = pres.astype(int)"
   ]
  },
  {
   "cell_type": "code",
   "execution_count": 117,
   "metadata": {
    "scrolled": true
   },
   "outputs": [
    {
     "data": {
      "text/plain": [
       "0    6469189\n",
       "1      14335\n",
       "Name: pres, dtype: int64"
      ]
     },
     "execution_count": 117,
     "metadata": {},
     "output_type": "execute_result"
    }
   ],
   "source": [
    "nyc_crime.pres.value_counts()"
   ]
  },
  {
   "cell_type": "code",
   "execution_count": 118,
   "metadata": {},
   "outputs": [],
   "source": [
    "nyc_crime = nyc_crime.drop(columns = ['pres06', 'pres07', 'pres08', 'pres09', 'pres10', 'pres11', 'pres12', 'pres13', 'pres14', 'pres15', 'pres16', 'pres17', 'pres18'])"
   ]
  },
  {
   "cell_type": "code",
   "execution_count": 119,
   "metadata": {},
   "outputs": [],
   "source": [
    "#Easter\n",
    "easter06 = (nyc_crime.start_month == 4) & (nyc_crime.start_day == 16) & (nyc_crime.start_year == 2006)\n",
    "easter07 = (nyc_crime.start_month == 4) & (nyc_crime.start_day == 8) & (nyc_crime.start_year == 2007)\n",
    "easter08 = (nyc_crime.start_month == 3) & (nyc_crime.start_day == 23) & (nyc_crime.start_year == 2008)\n",
    "easter09 = (nyc_crime.start_month == 4) & (nyc_crime.start_day == 12) & (nyc_crime.start_year == 2009)\n",
    "easter10 = (nyc_crime.start_month == 4) & (nyc_crime.start_day == 4) & (nyc_crime.start_year == 2010)\n",
    "easter11 = (nyc_crime.start_month == 4) & (nyc_crime.start_day == 24) & (nyc_crime.start_year == 2011)\n",
    "easter12 = (nyc_crime.start_month == 4) & (nyc_crime.start_day == 8) & (nyc_crime.start_year == 2012)\n",
    "easter13 = (nyc_crime.start_month == 3) & (nyc_crime.start_day == 31) & (nyc_crime.start_year == 2013)\n",
    "easter14 = (nyc_crime.start_month == 4) & (nyc_crime.start_day == 20) & (nyc_crime.start_year == 2014)\n",
    "easter15 = (nyc_crime.start_month == 4) & (nyc_crime.start_day == 5) & (nyc_crime.start_year == 2015)\n",
    "easter16 = (nyc_crime.start_month == 3) & (nyc_crime.start_day == 27) & (nyc_crime.start_year == 2016)\n",
    "easter17 = (nyc_crime.start_month == 4) & (nyc_crime.start_day == 16) & (nyc_crime.start_year == 2017)\n",
    "easter18 = (nyc_crime.start_month == 4) & (nyc_crime.start_day == 1) & (nyc_crime.start_year == 2018)"
   ]
  },
  {
   "cell_type": "code",
   "execution_count": 120,
   "metadata": {},
   "outputs": [],
   "source": [
    "nyc_crime['easter06'] = easter06.astype(int)\n",
    "nyc_crime['easter07'] = easter07.astype(int)\n",
    "nyc_crime['easter08'] = easter08.astype(int)\n",
    "nyc_crime['easter09'] = easter09.astype(int)\n",
    "nyc_crime['easter10'] = easter10.astype(int)\n",
    "nyc_crime['easter11'] = easter11.astype(int)\n",
    "nyc_crime['easter12'] = easter12.astype(int)\n",
    "nyc_crime['easter13'] = easter13.astype(int)\n",
    "nyc_crime['easter14'] = easter14.astype(int)\n",
    "nyc_crime['easter15'] = easter15.astype(int)\n",
    "nyc_crime['easter16'] = easter16.astype(int)\n",
    "nyc_crime['easter17'] = easter17.astype(int)\n",
    "nyc_crime['easter18'] = easter18.astype(int)"
   ]
  },
  {
   "cell_type": "code",
   "execution_count": 121,
   "metadata": {},
   "outputs": [],
   "source": [
    "easter = (nyc_crime.easter06 == 1) | (nyc_crime.easter07 == 1) | (nyc_crime.easter08 == 1) | (nyc_crime.easter09 == 1) | (nyc_crime.easter10 == 1) | (nyc_crime.easter11 == 1) | (nyc_crime.easter12 == 1) | (nyc_crime.easter13 == 1) | (nyc_crime.easter14 == 1) | (nyc_crime.easter15 == 1) | (nyc_crime.easter16 == 1) | (nyc_crime.easter17 == 1) | (nyc_crime.easter18 == 1)"
   ]
  },
  {
   "cell_type": "code",
   "execution_count": 122,
   "metadata": {},
   "outputs": [],
   "source": [
    "nyc_crime['easter'] = easter.astype(int)"
   ]
  },
  {
   "cell_type": "code",
   "execution_count": 123,
   "metadata": {},
   "outputs": [
    {
     "data": {
      "text/plain": [
       "0    6469307\n",
       "1      14217\n",
       "Name: easter, dtype: int64"
      ]
     },
     "execution_count": 123,
     "metadata": {},
     "output_type": "execute_result"
    }
   ],
   "source": [
    "nyc_crime.easter.value_counts()"
   ]
  },
  {
   "cell_type": "code",
   "execution_count": 124,
   "metadata": {},
   "outputs": [],
   "source": [
    "nyc_crime = nyc_crime.drop(columns = ['easter06', 'easter07', 'easter08', 'easter09', 'easter10', 'easter11', 'easter12', 'easter13', 'easter14', 'easter15', 'easter16', 'easter17', 'easter18'])"
   ]
  },
  {
   "cell_type": "code",
   "execution_count": 125,
   "metadata": {},
   "outputs": [],
   "source": [
    "#Diwali\n",
    "diwali06 = (nyc_crime.start_month == 10) & (nyc_crime.start_day == 21) & (nyc_crime.start_year == 2006)\n",
    "diwali07 = (nyc_crime.start_month == 11) & (nyc_crime.start_day == 9) & (nyc_crime.start_year == 2007)\n",
    "diwali08 = (nyc_crime.start_month == 10) & (nyc_crime.start_day == 28) & (nyc_crime.start_year == 2008)\n",
    "diwali09 = (nyc_crime.start_month == 10) & (nyc_crime.start_day == 17) & (nyc_crime.start_year == 2009)\n",
    "diwali10 = (nyc_crime.start_month == 11) & (nyc_crime.start_day == 5) & (nyc_crime.start_year == 2010)\n",
    "diwali11 = (nyc_crime.start_month == 10) & (nyc_crime.start_day == 26) & (nyc_crime.start_year == 2011)\n",
    "diwali12 = (nyc_crime.start_month == 11) & (nyc_crime.start_day == 13) & (nyc_crime.start_year == 2012)\n",
    "diwali13 = (nyc_crime.start_month == 11) & (nyc_crime.start_day == 3) & (nyc_crime.start_year == 2013)\n",
    "diwali14 = (nyc_crime.start_month == 10) & (nyc_crime.start_day == 23) & (nyc_crime.start_year == 2014)\n",
    "diwali15 = (nyc_crime.start_month == 11) & (nyc_crime.start_day == 11) & (nyc_crime.start_year == 2015)\n",
    "diwali16 = (nyc_crime.start_month == 10) & (nyc_crime.start_day == 30) & (nyc_crime.start_year == 2016)\n",
    "diwali17 = (nyc_crime.start_month == 10) & (nyc_crime.start_day == 19) & (nyc_crime.start_year == 2017)\n",
    "diwali18 = (nyc_crime.start_month == 11) & (nyc_crime.start_day == 7) & (nyc_crime.start_year == 2018)"
   ]
  },
  {
   "cell_type": "code",
   "execution_count": 126,
   "metadata": {},
   "outputs": [],
   "source": [
    "nyc_crime['diwali06'] = diwali06.astype(int)\n",
    "nyc_crime['diwali07'] = diwali07.astype(int)\n",
    "nyc_crime['diwali08'] = diwali08.astype(int)\n",
    "nyc_crime['diwali09'] = diwali09.astype(int)\n",
    "nyc_crime['diwali10'] = diwali10.astype(int)\n",
    "nyc_crime['diwali11'] = diwali11.astype(int)\n",
    "nyc_crime['diwali12'] = diwali12.astype(int)\n",
    "nyc_crime['diwali13'] = diwali13.astype(int)\n",
    "nyc_crime['diwali14'] = diwali14.astype(int)\n",
    "nyc_crime['diwali15'] = diwali15.astype(int)\n",
    "nyc_crime['diwali16'] = diwali16.astype(int)\n",
    "nyc_crime['diwali17'] = diwali17.astype(int)\n",
    "nyc_crime['diwali18'] = diwali18.astype(int)"
   ]
  },
  {
   "cell_type": "code",
   "execution_count": 127,
   "metadata": {},
   "outputs": [],
   "source": [
    "diwali = (nyc_crime.diwali06 == 1) | (nyc_crime.diwali07 == 1) | (nyc_crime.diwali08 == 1) | (nyc_crime.diwali09 == 1) | (nyc_crime.diwali10 == 1) | (nyc_crime.diwali11 == 1) | (nyc_crime.diwali12 == 1) | (nyc_crime.diwali13 == 1) | (nyc_crime.diwali14 == 1) | (nyc_crime.diwali15 == 1) | (nyc_crime.diwali16 == 1) | (nyc_crime.diwali17 == 1) | (nyc_crime.diwali18 == 1)"
   ]
  },
  {
   "cell_type": "code",
   "execution_count": 128,
   "metadata": {},
   "outputs": [],
   "source": [
    "nyc_crime['diwali'] = diwali.astype(int)"
   ]
  },
  {
   "cell_type": "code",
   "execution_count": 129,
   "metadata": {},
   "outputs": [
    {
     "data": {
      "text/plain": [
       "0    6465951\n",
       "1      17573\n",
       "Name: diwali, dtype: int64"
      ]
     },
     "execution_count": 129,
     "metadata": {},
     "output_type": "execute_result"
    }
   ],
   "source": [
    "nyc_crime.diwali.value_counts()"
   ]
  },
  {
   "cell_type": "code",
   "execution_count": 130,
   "metadata": {},
   "outputs": [],
   "source": [
    "nyc_crime = nyc_crime.drop(columns = ['diwali06', 'diwali07', 'diwali08', 'diwali09', 'diwali10', 'diwali11', 'diwali12', 'diwali13', 'diwali14', 'diwali15', 'diwali16', 'diwali17', 'diwali18'])"
   ]
  },
  {
   "cell_type": "code",
   "execution_count": 131,
   "metadata": {},
   "outputs": [],
   "source": [
    "#Puerto Rican Day Parade\n",
    "pr_parade06 = (nyc_crime.start_month == 6) & (nyc_crime.start_day == 11) & (nyc_crime.start_year == 2006)\n",
    "pr_parade07 = (nyc_crime.start_month == 6) & (nyc_crime.start_day == 10) & (nyc_crime.start_year == 2007)\n",
    "pr_parade08 = (nyc_crime.start_month == 6) & (nyc_crime.start_day == 8) & (nyc_crime.start_year == 2008)\n",
    "pr_parade09 = (nyc_crime.start_month == 6) & (nyc_crime.start_day == 14) & (nyc_crime.start_year == 2009)\n",
    "pr_parade10 = (nyc_crime.start_month == 6) & (nyc_crime.start_day == 13) & (nyc_crime.start_year == 2010)\n",
    "pr_parade11 = (nyc_crime.start_month == 6) & (nyc_crime.start_day == 12) & (nyc_crime.start_year == 2011)\n",
    "pr_parade12 = (nyc_crime.start_month == 6) & (nyc_crime.start_day == 10) & (nyc_crime.start_year == 2012)\n",
    "pr_parade13 = (nyc_crime.start_month == 6) & (nyc_crime.start_day == 9) & (nyc_crime.start_year == 2013)\n",
    "pr_parade14 = (nyc_crime.start_month == 6) & (nyc_crime.start_day == 8) & (nyc_crime.start_year == 2014)\n",
    "pr_parade15 = (nyc_crime.start_month == 6) & (nyc_crime.start_day == 14) & (nyc_crime.start_year == 2015)\n",
    "pr_parade16 = (nyc_crime.start_month == 6) & (nyc_crime.start_day == 12) & (nyc_crime.start_year == 2016)\n",
    "pr_parade17 = (nyc_crime.start_month == 6) & (nyc_crime.start_day == 11) & (nyc_crime.start_year == 2017)\n",
    "pr_parade18 = (nyc_crime.start_month == 6) & (nyc_crime.start_day == 10) & (nyc_crime.start_year == 2018)"
   ]
  },
  {
   "cell_type": "code",
   "execution_count": 132,
   "metadata": {},
   "outputs": [],
   "source": [
    "nyc_crime['pr_parade06'] = pr_parade06.astype(int)\n",
    "nyc_crime['pr_parade07'] = pr_parade07.astype(int)\n",
    "nyc_crime['pr_parade08'] = pr_parade08.astype(int)\n",
    "nyc_crime['pr_parade09'] = pr_parade09.astype(int)\n",
    "nyc_crime['pr_parade10'] = pr_parade10.astype(int)\n",
    "nyc_crime['pr_parade11'] = pr_parade11.astype(int)\n",
    "nyc_crime['pr_parade12'] = pr_parade12.astype(int)\n",
    "nyc_crime['pr_parade13'] = pr_parade13.astype(int)\n",
    "nyc_crime['pr_parade14'] = pr_parade14.astype(int)\n",
    "nyc_crime['pr_parade15'] = pr_parade15.astype(int)\n",
    "nyc_crime['pr_parade16'] = pr_parade16.astype(int)\n",
    "nyc_crime['pr_parade17'] = pr_parade17.astype(int)\n",
    "nyc_crime['pr_parade18'] = pr_parade18.astype(int)"
   ]
  },
  {
   "cell_type": "code",
   "execution_count": 133,
   "metadata": {},
   "outputs": [],
   "source": [
    "pr_parade = (nyc_crime.pr_parade06 == 1) | (nyc_crime.pr_parade07 == 1) | (nyc_crime.pr_parade08 == 1) | (nyc_crime.pr_parade09 == 1) | (nyc_crime.pr_parade10 == 1) | (nyc_crime.pr_parade11 == 1) | (nyc_crime.pr_parade12 == 1) | (nyc_crime.pr_parade13 == 1) | (nyc_crime.pr_parade14 == 1) | (nyc_crime.pr_parade15 == 1) | (nyc_crime.pr_parade16 == 1) | (nyc_crime.pr_parade17 == 1) | (nyc_crime.pr_parade18 == 1)"
   ]
  },
  {
   "cell_type": "code",
   "execution_count": 134,
   "metadata": {},
   "outputs": [],
   "source": [
    "nyc_crime['pr_parade'] = pr_parade.astype(int)"
   ]
  },
  {
   "cell_type": "code",
   "execution_count": 135,
   "metadata": {},
   "outputs": [
    {
     "data": {
      "text/plain": [
       "0    6466451\n",
       "1      17073\n",
       "Name: pr_parade, dtype: int64"
      ]
     },
     "execution_count": 135,
     "metadata": {},
     "output_type": "execute_result"
    }
   ],
   "source": [
    "nyc_crime.pr_parade.value_counts()"
   ]
  },
  {
   "cell_type": "code",
   "execution_count": 136,
   "metadata": {},
   "outputs": [],
   "source": [
    "nyc_crime = nyc_crime.drop(columns = ['pr_parade06', 'pr_parade07', 'pr_parade08', 'pr_parade09', 'pr_parade10', 'pr_parade11', 'pr_parade12', 'pr_parade13', 'pr_parade14', 'pr_parade15', 'pr_parade16', 'pr_parade17', 'pr_parade18'])"
   ]
  },
  {
   "cell_type": "code",
   "execution_count": 137,
   "metadata": {},
   "outputs": [],
   "source": [
    "#Yom Kippur\n",
    "yomkippur06 = (nyc_crime.start_month == 10) & (nyc_crime.start_day == 2) & (nyc_crime.start_year == 2006)\n",
    "yomkippur07 = (nyc_crime.start_month == 9) & (nyc_crime.start_day == 22) & (nyc_crime.start_year == 2007)\n",
    "yomkippur08 = (nyc_crime.start_month == 10) & (nyc_crime.start_day == 9) & (nyc_crime.start_year == 2008)\n",
    "yomkippur09 = (nyc_crime.start_month == 9) & (nyc_crime.start_day == 28) & (nyc_crime.start_year == 2009)\n",
    "yomkippur10 = (nyc_crime.start_month == 9) & (nyc_crime.start_day == 18) & (nyc_crime.start_year == 2010)\n",
    "yomkippur11 = (nyc_crime.start_month == 10) & (nyc_crime.start_day == 8) & (nyc_crime.start_year == 2011)\n",
    "yomkippur12 = (nyc_crime.start_month == 9) & (nyc_crime.start_day == 26) & (nyc_crime.start_year == 2012)\n",
    "yomkippur13 = (nyc_crime.start_month == 9) & (nyc_crime.start_day == 14) & (nyc_crime.start_year == 2013)\n",
    "yomkippur14 = (nyc_crime.start_month == 10) & (nyc_crime.start_day == 4) & (nyc_crime.start_year == 2014)\n",
    "yomkippur15 = (nyc_crime.start_month == 9) & (nyc_crime.start_day == 23) & (nyc_crime.start_year == 2015)\n",
    "yomkippur16 = (nyc_crime.start_month == 10) & (nyc_crime.start_day == 12) & (nyc_crime.start_year == 2016)\n",
    "yomkippur17 = (nyc_crime.start_month == 9) & (nyc_crime.start_day == 30) & (nyc_crime.start_year == 2017)\n",
    "yomkippur18 = (nyc_crime.start_month == 9) & (nyc_crime.start_day == 19) & (nyc_crime.start_year == 2018)"
   ]
  },
  {
   "cell_type": "code",
   "execution_count": 138,
   "metadata": {},
   "outputs": [],
   "source": [
    "nyc_crime['yomkippur06'] = yomkippur06.astype(int)\n",
    "nyc_crime['yomkippur07'] = yomkippur07.astype(int)\n",
    "nyc_crime['yomkippur08'] = yomkippur08.astype(int)\n",
    "nyc_crime['yomkippur09'] = yomkippur09.astype(int)\n",
    "nyc_crime['yomkippur10'] = yomkippur10.astype(int)\n",
    "nyc_crime['yomkippur11'] = yomkippur11.astype(int)\n",
    "nyc_crime['yomkippur12'] = yomkippur12.astype(int)\n",
    "nyc_crime['yomkippur13'] = yomkippur13.astype(int)\n",
    "nyc_crime['yomkippur14'] = yomkippur14.astype(int)\n",
    "nyc_crime['yomkippur15'] = yomkippur15.astype(int)\n",
    "nyc_crime['yomkippur16'] = yomkippur16.astype(int)\n",
    "nyc_crime['yomkippur17'] = yomkippur17.astype(int)\n",
    "nyc_crime['yomkippur18'] = yomkippur18.astype(int)"
   ]
  },
  {
   "cell_type": "code",
   "execution_count": 139,
   "metadata": {},
   "outputs": [],
   "source": [
    "yomkippur = (nyc_crime.yomkippur06 == 1) | (nyc_crime.yomkippur07 == 1) | (nyc_crime.yomkippur08 == 1) | (nyc_crime.yomkippur09 == 1) | (nyc_crime.yomkippur10 == 1) | (nyc_crime.yomkippur11 == 1) | (nyc_crime.yomkippur12 == 1) | (nyc_crime.yomkippur13 == 1) | (nyc_crime.yomkippur14 == 1) | (nyc_crime.yomkippur15 == 1) | (nyc_crime.yomkippur16 == 1) | (nyc_crime.yomkippur17 == 1) | (nyc_crime.yomkippur18 == 1)"
   ]
  },
  {
   "cell_type": "code",
   "execution_count": 140,
   "metadata": {},
   "outputs": [],
   "source": [
    "nyc_crime['yomkippur'] = yomkippur.astype(int)"
   ]
  },
  {
   "cell_type": "code",
   "execution_count": 141,
   "metadata": {},
   "outputs": [
    {
     "data": {
      "text/plain": [
       "0    6465319\n",
       "1      18205\n",
       "Name: yomkippur, dtype: int64"
      ]
     },
     "execution_count": 141,
     "metadata": {},
     "output_type": "execute_result"
    }
   ],
   "source": [
    "nyc_crime.yomkippur.value_counts()"
   ]
  },
  {
   "cell_type": "code",
   "execution_count": 142,
   "metadata": {},
   "outputs": [],
   "source": [
    "nyc_crime = nyc_crime.drop(columns = ['yomkippur06', 'yomkippur07', 'yomkippur08', 'yomkippur09', 'yomkippur10', 'yomkippur11', 'yomkippur12', 'yomkippur13', 'yomkippur14', 'yomkippur15', 'yomkippur16', 'yomkippur17', 'yomkippur18'])"
   ]
  },
  {
   "cell_type": "code",
   "execution_count": 143,
   "metadata": {},
   "outputs": [],
   "source": [
    "#Rosh Hashanah\n",
    "rosh_hashanah06 = (nyc_crime.start_month == 9) & (nyc_crime.start_day == 24) & (nyc_crime.start_year == 2006)\n",
    "rosh_hashanah07 = (nyc_crime.start_month == 9) & (nyc_crime.start_day == 14) & (nyc_crime.start_year == 2007)\n",
    "rosh_hashanah08 = (nyc_crime.start_month == 10) & (nyc_crime.start_day == 1) & (nyc_crime.start_year == 2008)\n",
    "rosh_hashanah09 = (nyc_crime.start_month == 9) & (nyc_crime.start_day == 20) & (nyc_crime.start_year == 2009)\n",
    "rosh_hashanah10 = (nyc_crime.start_month == 9) & (nyc_crime.start_day == 10) & (nyc_crime.start_year == 2010)\n",
    "rosh_hashanah11 = (nyc_crime.start_month == 9) & (nyc_crime.start_day == 30) & (nyc_crime.start_year == 2011)\n",
    "rosh_hashanah12 = (nyc_crime.start_month == 9) & (nyc_crime.start_day == 18) & (nyc_crime.start_year == 2012)\n",
    "rosh_hashanah13 = (nyc_crime.start_month == 9) & (nyc_crime.start_day == 6) & (nyc_crime.start_year == 2013)\n",
    "rosh_hashanah14 = (nyc_crime.start_month == 9) & (nyc_crime.start_day == 26) & (nyc_crime.start_year == 2014)\n",
    "rosh_hashanah15 = (nyc_crime.start_month == 9) & (nyc_crime.start_day == 15) & (nyc_crime.start_year == 2015)\n",
    "rosh_hashanah16 = (nyc_crime.start_month == 10) & (nyc_crime.start_day == 4) & (nyc_crime.start_year == 2016)\n",
    "rosh_hashanah17 = (nyc_crime.start_month == 9) & (nyc_crime.start_day == 22) & (nyc_crime.start_year == 2017)\n",
    "rosh_hashanah18 = (nyc_crime.start_month == 9) & (nyc_crime.start_day == 11) & (nyc_crime.start_year == 2018)"
   ]
  },
  {
   "cell_type": "code",
   "execution_count": 144,
   "metadata": {},
   "outputs": [],
   "source": [
    "nyc_crime['rosh_hashanah06'] = rosh_hashanah06.astype(int)\n",
    "nyc_crime['rosh_hashanah07'] = rosh_hashanah07.astype(int)\n",
    "nyc_crime['rosh_hashanah08'] = rosh_hashanah08.astype(int)\n",
    "nyc_crime['rosh_hashanah09'] = rosh_hashanah09.astype(int)\n",
    "nyc_crime['rosh_hashanah10'] = rosh_hashanah10.astype(int)\n",
    "nyc_crime['rosh_hashanah11'] = rosh_hashanah11.astype(int)\n",
    "nyc_crime['rosh_hashanah12'] = rosh_hashanah12.astype(int)\n",
    "nyc_crime['rosh_hashanah13'] = rosh_hashanah13.astype(int)\n",
    "nyc_crime['rosh_hashanah14'] = rosh_hashanah14.astype(int)\n",
    "nyc_crime['rosh_hashanah15'] = rosh_hashanah15.astype(int)\n",
    "nyc_crime['rosh_hashanah16'] = rosh_hashanah16.astype(int)\n",
    "nyc_crime['rosh_hashanah17'] = rosh_hashanah17.astype(int)\n",
    "nyc_crime['rosh_hashanah18'] = rosh_hashanah18.astype(int)"
   ]
  },
  {
   "cell_type": "code",
   "execution_count": 145,
   "metadata": {},
   "outputs": [],
   "source": [
    "rosh_hashanah = (nyc_crime.rosh_hashanah06 == 1) | (nyc_crime.rosh_hashanah07 == 1) | (nyc_crime.rosh_hashanah08 == 1) | (nyc_crime.rosh_hashanah09 == 1) | (nyc_crime.rosh_hashanah10 == 1) | (nyc_crime.rosh_hashanah11 == 1) | (nyc_crime.rosh_hashanah12 == 1) | (nyc_crime.rosh_hashanah13 == 1) | (nyc_crime.rosh_hashanah14 == 1) | (nyc_crime.rosh_hashanah15 == 1) | (nyc_crime.rosh_hashanah16 == 1) | (nyc_crime.rosh_hashanah17 == 1) | (nyc_crime.rosh_hashanah18 == 1)"
   ]
  },
  {
   "cell_type": "code",
   "execution_count": 146,
   "metadata": {},
   "outputs": [],
   "source": [
    "nyc_crime['rosh_hashanah'] = rosh_hashanah.astype(int)"
   ]
  },
  {
   "cell_type": "code",
   "execution_count": 147,
   "metadata": {},
   "outputs": [
    {
     "data": {
      "text/plain": [
       "0    6464763\n",
       "1      18761\n",
       "Name: rosh_hashanah, dtype: int64"
      ]
     },
     "execution_count": 147,
     "metadata": {},
     "output_type": "execute_result"
    }
   ],
   "source": [
    "nyc_crime.rosh_hashanah.value_counts()"
   ]
  },
  {
   "cell_type": "code",
   "execution_count": 148,
   "metadata": {},
   "outputs": [],
   "source": [
    "nyc_crime = nyc_crime.drop(columns = ['rosh_hashanah06', 'rosh_hashanah07', 'rosh_hashanah08', 'rosh_hashanah09', 'rosh_hashanah10', 'rosh_hashanah11', 'rosh_hashanah12', 'rosh_hashanah13', 'rosh_hashanah14', 'rosh_hashanah15', 'rosh_hashanah16', 'rosh_hashanah17', 'rosh_hashanah18'])"
   ]
  },
  {
   "cell_type": "code",
   "execution_count": 149,
   "metadata": {},
   "outputs": [],
   "source": [
    "#Eid al-Fitr\n",
    "eid_al_fitr06 = (nyc_crime.start_month == 10) & (nyc_crime.start_day == 24) & (nyc_crime.start_year == 2006)\n",
    "eid_al_fitr07 = (nyc_crime.start_month == 10) & (nyc_crime.start_day == 13) & (nyc_crime.start_year == 2007)\n",
    "eid_al_fitr08 = (nyc_crime.start_month == 10) & (nyc_crime.start_day == 2) & (nyc_crime.start_year == 2008)\n",
    "eid_al_fitr09 = (nyc_crime.start_month == 9) & (nyc_crime.start_day == 21) & (nyc_crime.start_year == 2009)\n",
    "eid_al_fitr10 = (nyc_crime.start_month == 9) & (nyc_crime.start_day == 10) & (nyc_crime.start_year == 2010)\n",
    "eid_al_fitr11 = (nyc_crime.start_month == 8) & (nyc_crime.start_day == 31) & (nyc_crime.start_year == 2011)\n",
    "eid_al_fitr12 = (nyc_crime.start_month == 8) & (nyc_crime.start_day == 19) & (nyc_crime.start_year == 2012)\n",
    "eid_al_fitr13 = (nyc_crime.start_month == 8) & (nyc_crime.start_day == 8) & (nyc_crime.start_year == 2013)\n",
    "eid_al_fitr14 = (nyc_crime.start_month == 7) & (nyc_crime.start_day == 29) & (nyc_crime.start_year == 2014)\n",
    "eid_al_fitr15 = (nyc_crime.start_month == 7) & (nyc_crime.start_day == 17) & (nyc_crime.start_year == 2015)\n",
    "eid_al_fitr16 = (nyc_crime.start_month == 7) & (nyc_crime.start_day == 6) & (nyc_crime.start_year == 2016)\n",
    "eid_al_fitr17 = (nyc_crime.start_month == 6) & (nyc_crime.start_day == 25) & (nyc_crime.start_year == 2017)\n",
    "eid_al_fitr18 = (nyc_crime.start_month == 6) & (nyc_crime.start_day == 15) & (nyc_crime.start_year == 2018)"
   ]
  },
  {
   "cell_type": "code",
   "execution_count": 150,
   "metadata": {},
   "outputs": [],
   "source": [
    "nyc_crime['eid_al_fitr06'] = eid_al_fitr06.astype(int)\n",
    "nyc_crime['eid_al_fitr07'] = eid_al_fitr07.astype(int)\n",
    "nyc_crime['eid_al_fitr08'] = eid_al_fitr08.astype(int)\n",
    "nyc_crime['eid_al_fitr09'] = eid_al_fitr09.astype(int)\n",
    "nyc_crime['eid_al_fitr10'] = eid_al_fitr10.astype(int)\n",
    "nyc_crime['eid_al_fitr11'] = eid_al_fitr11.astype(int)\n",
    "nyc_crime['eid_al_fitr12'] = eid_al_fitr12.astype(int)\n",
    "nyc_crime['eid_al_fitr13'] = eid_al_fitr13.astype(int)\n",
    "nyc_crime['eid_al_fitr14'] = eid_al_fitr14.astype(int)\n",
    "nyc_crime['eid_al_fitr15'] = eid_al_fitr15.astype(int)\n",
    "nyc_crime['eid_al_fitr16'] = eid_al_fitr16.astype(int)\n",
    "nyc_crime['eid_al_fitr17'] = eid_al_fitr17.astype(int)\n",
    "nyc_crime['eid_al_fitr18'] = eid_al_fitr18.astype(int)"
   ]
  },
  {
   "cell_type": "code",
   "execution_count": 151,
   "metadata": {},
   "outputs": [],
   "source": [
    "eid_al_fitr = (nyc_crime.eid_al_fitr06 == 1) | (nyc_crime.eid_al_fitr07 == 1) | (nyc_crime.eid_al_fitr08 == 1) | (nyc_crime.eid_al_fitr09 == 1) | (nyc_crime.eid_al_fitr10 == 1) | (nyc_crime.eid_al_fitr11 == 1) | (nyc_crime.eid_al_fitr12 == 1) | (nyc_crime.eid_al_fitr13 == 1) | (nyc_crime.eid_al_fitr14 == 1) | (nyc_crime.eid_al_fitr15 == 1) | (nyc_crime.eid_al_fitr16 == 1) | (nyc_crime.eid_al_fitr17 == 1) | (nyc_crime.eid_al_fitr18 == 1)"
   ]
  },
  {
   "cell_type": "code",
   "execution_count": 152,
   "metadata": {},
   "outputs": [],
   "source": [
    "nyc_crime['eid_al_fitr'] = eid_al_fitr.astype(int)"
   ]
  },
  {
   "cell_type": "code",
   "execution_count": 153,
   "metadata": {
    "scrolled": true
   },
   "outputs": [
    {
     "data": {
      "text/plain": [
       "0    6464902\n",
       "1      18622\n",
       "Name: eid_al_fitr, dtype: int64"
      ]
     },
     "execution_count": 153,
     "metadata": {},
     "output_type": "execute_result"
    }
   ],
   "source": [
    "nyc_crime.eid_al_fitr.value_counts()"
   ]
  },
  {
   "cell_type": "code",
   "execution_count": 154,
   "metadata": {},
   "outputs": [],
   "source": [
    "nyc_crime = nyc_crime.drop(columns = ['eid_al_fitr06', 'eid_al_fitr07', 'eid_al_fitr08', 'eid_al_fitr09', 'eid_al_fitr10', 'eid_al_fitr11', 'eid_al_fitr12', 'eid_al_fitr13', 'eid_al_fitr14', 'eid_al_fitr15', 'eid_al_fitr16', 'eid_al_fitr17', 'eid_al_fitr18'])"
   ]
  },
  {
   "cell_type": "code",
   "execution_count": 155,
   "metadata": {},
   "outputs": [],
   "source": [
    "#Eid al-Adha\n",
    "eid_al_adha06 = (nyc_crime.start_month == 12) & (nyc_crime.start_day == 31) & (nyc_crime.start_year == 2006)\n",
    "eid_al_adha07 = (nyc_crime.start_month == 12) & (nyc_crime.start_day == 19) & (nyc_crime.start_year == 2007)\n",
    "eid_al_adha08 = (nyc_crime.start_month == 11) & (nyc_crime.start_day == 9) & (nyc_crime.start_year == 2008)\n",
    "eid_al_adha09 = (nyc_crime.start_month == 11) & (nyc_crime.start_day == 27) & (nyc_crime.start_year == 2009)\n",
    "eid_al_adha10 = (nyc_crime.start_month == 11) & (nyc_crime.start_day == 16) & (nyc_crime.start_year == 2010)\n",
    "eid_al_adha11 = (nyc_crime.start_month == 11) & (nyc_crime.start_day == 6) & (nyc_crime.start_year == 2011)\n",
    "eid_al_adha12 = (nyc_crime.start_month == 10) & (nyc_crime.start_day == 26) & (nyc_crime.start_year == 2012)\n",
    "eid_al_adha13 = (nyc_crime.start_month == 10) & (nyc_crime.start_day == 15) & (nyc_crime.start_year == 2013)\n",
    "eid_al_adha14 = (nyc_crime.start_month == 10) & (nyc_crime.start_day == 4) & (nyc_crime.start_year == 2014)\n",
    "eid_al_adha15 = (nyc_crime.start_month == 9) & (nyc_crime.start_day == 24) & (nyc_crime.start_year == 2015)\n",
    "eid_al_adha16 = (nyc_crime.start_month == 9) & (nyc_crime.start_day == 12) & (nyc_crime.start_year == 2016)\n",
    "eid_al_adha17 = (nyc_crime.start_month == 9) & (nyc_crime.start_day == 1) & (nyc_crime.start_year == 2017)\n",
    "eid_al_adha18 = (nyc_crime.start_month == 8) & (nyc_crime.start_day == 22) & (nyc_crime.start_year == 2018)"
   ]
  },
  {
   "cell_type": "code",
   "execution_count": 156,
   "metadata": {},
   "outputs": [],
   "source": [
    "nyc_crime['eid_al_adha06'] = eid_al_adha06.astype(int)\n",
    "nyc_crime['eid_al_adha07'] = eid_al_adha07.astype(int)\n",
    "nyc_crime['eid_al_adha08'] = eid_al_adha08.astype(int)\n",
    "nyc_crime['eid_al_adha09'] = eid_al_adha09.astype(int)\n",
    "nyc_crime['eid_al_adha10'] = eid_al_adha10.astype(int)\n",
    "nyc_crime['eid_al_adha11'] = eid_al_adha11.astype(int)\n",
    "nyc_crime['eid_al_adha12'] = eid_al_adha12.astype(int)\n",
    "nyc_crime['eid_al_adha13'] = eid_al_adha13.astype(int)\n",
    "nyc_crime['eid_al_adha14'] = eid_al_adha14.astype(int)\n",
    "nyc_crime['eid_al_adha15'] = eid_al_adha15.astype(int)\n",
    "nyc_crime['eid_al_adha16'] = eid_al_adha16.astype(int)\n",
    "nyc_crime['eid_al_adha17'] = eid_al_adha17.astype(int)\n",
    "nyc_crime['eid_al_adha18'] = eid_al_adha18.astype(int)"
   ]
  },
  {
   "cell_type": "code",
   "execution_count": 157,
   "metadata": {},
   "outputs": [],
   "source": [
    "eid_al_adha = (nyc_crime.eid_al_adha06 == 1) | (nyc_crime.eid_al_adha07 == 1) | (nyc_crime.eid_al_adha08 == 1) | (nyc_crime.eid_al_adha09 == 1) | (nyc_crime.eid_al_adha10 == 1) | (nyc_crime.eid_al_adha11 == 1) | (nyc_crime.eid_al_adha12 == 1) | (nyc_crime.eid_al_adha13 == 1) | (nyc_crime.eid_al_adha14 == 1) | (nyc_crime.eid_al_adha15 == 1) | (nyc_crime.eid_al_adha16 == 1) | (nyc_crime.eid_al_adha17 == 1) | (nyc_crime.eid_al_adha18 == 1)"
   ]
  },
  {
   "cell_type": "code",
   "execution_count": 158,
   "metadata": {},
   "outputs": [],
   "source": [
    "nyc_crime['eid_al_adha'] = eid_al_adha.astype(int)"
   ]
  },
  {
   "cell_type": "code",
   "execution_count": 159,
   "metadata": {},
   "outputs": [
    {
     "data": {
      "text/plain": [
       "0    6466098\n",
       "1      17426\n",
       "Name: eid_al_adha, dtype: int64"
      ]
     },
     "execution_count": 159,
     "metadata": {},
     "output_type": "execute_result"
    }
   ],
   "source": [
    "nyc_crime.eid_al_adha.value_counts()"
   ]
  },
  {
   "cell_type": "code",
   "execution_count": 160,
   "metadata": {},
   "outputs": [],
   "source": [
    "nyc_crime = nyc_crime.drop(columns = ['eid_al_adha06', 'eid_al_adha07', 'eid_al_adha08', 'eid_al_adha09', 'eid_al_adha10', 'eid_al_adha11', 'eid_al_adha12', 'eid_al_adha13', 'eid_al_adha14', 'eid_al_adha15', 'eid_al_adha16', 'eid_al_adha17', 'eid_al_adha18'])"
   ]
  },
  {
   "cell_type": "code",
   "execution_count": 161,
   "metadata": {},
   "outputs": [],
   "source": [
    "#Hannukkah\n",
    "hannukkah06 = (nyc_crime.start_month == 12) & (nyc_crime.start_day == 23) & (nyc_crime.start_year == 2006)\n",
    "hannukkah07 = (nyc_crime.start_month == 12) & (nyc_crime.start_day == 12) & (nyc_crime.start_year == 2007)\n",
    "hannukkah08 = (nyc_crime.start_month == 12) & (nyc_crime.start_day == 29) & (nyc_crime.start_year == 2008)\n",
    "hannukkah09 = (nyc_crime.start_month == 12) & (nyc_crime.start_day == 19) & (nyc_crime.start_year == 2009)\n",
    "hannukkah10 = (nyc_crime.start_month == 12) & (nyc_crime.start_day == 9) & (nyc_crime.start_year == 2010)\n",
    "hannukkah11 = (nyc_crime.start_month == 12) & (nyc_crime.start_day == 28) & (nyc_crime.start_year == 2011)\n",
    "hannukkah12 = (nyc_crime.start_month == 12) & (nyc_crime.start_day == 16) & (nyc_crime.start_year == 2012)\n",
    "hannukkah13 = (nyc_crime.start_month == 12) & (nyc_crime.start_day == 5) & (nyc_crime.start_year == 2013)\n",
    "hannukkah14 = (nyc_crime.start_month == 12) & (nyc_crime.start_day == 24) & (nyc_crime.start_year == 2014)\n",
    "hannukkah15 = (nyc_crime.start_month == 12) & (nyc_crime.start_day == 14) & (nyc_crime.start_year == 2015)\n",
    "hannukkah16 = (nyc_crime.start_month == 12) & (nyc_crime.start_day == 31) & (nyc_crime.start_year == 2016)\n",
    "hannukkah17 = (nyc_crime.start_month == 12) & (nyc_crime.start_day == 20) & (nyc_crime.start_year == 2017)\n",
    "hannukkah18 = (nyc_crime.start_month == 12) & (nyc_crime.start_day == 10) & (nyc_crime.start_year == 2018)"
   ]
  },
  {
   "cell_type": "code",
   "execution_count": 162,
   "metadata": {},
   "outputs": [],
   "source": [
    "nyc_crime['hannukkah06'] = hannukkah06.astype(int)\n",
    "nyc_crime['hannukkah07'] = hannukkah07.astype(int)\n",
    "nyc_crime['hannukkah08'] = hannukkah08.astype(int)\n",
    "nyc_crime['hannukkah09'] = hannukkah09.astype(int)\n",
    "nyc_crime['hannukkah10'] = hannukkah10.astype(int)\n",
    "nyc_crime['hannukkah11'] = hannukkah11.astype(int)\n",
    "nyc_crime['hannukkah12'] = hannukkah12.astype(int)\n",
    "nyc_crime['hannukkah13'] = hannukkah13.astype(int)\n",
    "nyc_crime['hannukkah14'] = hannukkah14.astype(int)\n",
    "nyc_crime['hannukkah15'] = hannukkah15.astype(int)\n",
    "nyc_crime['hannukkah16'] = hannukkah16.astype(int)\n",
    "nyc_crime['hannukkah17'] = hannukkah17.astype(int)\n",
    "nyc_crime['hannukkah18'] = hannukkah18.astype(int)"
   ]
  },
  {
   "cell_type": "code",
   "execution_count": 163,
   "metadata": {},
   "outputs": [],
   "source": [
    "hannukkah = (nyc_crime.hannukkah06 == 1) | (nyc_crime.hannukkah07 == 1) | (nyc_crime.hannukkah08 == 1) | (nyc_crime.hannukkah09 == 1) | (nyc_crime.hannukkah10 == 1) | (nyc_crime.hannukkah11 == 1) | (nyc_crime.hannukkah12 == 1) | (nyc_crime.hannukkah13 == 1) | (nyc_crime.hannukkah14 == 1) | (nyc_crime.hannukkah15 == 1) | (nyc_crime.hannukkah16 == 1) | (nyc_crime.hannukkah17 == 1) | (nyc_crime.hannukkah18 == 1)"
   ]
  },
  {
   "cell_type": "code",
   "execution_count": 164,
   "metadata": {},
   "outputs": [],
   "source": [
    "nyc_crime['hannukkah'] = hannukkah.astype(int)"
   ]
  },
  {
   "cell_type": "code",
   "execution_count": 165,
   "metadata": {},
   "outputs": [
    {
     "data": {
      "text/plain": [
       "0    6467429\n",
       "1      16095\n",
       "Name: hannukkah, dtype: int64"
      ]
     },
     "execution_count": 165,
     "metadata": {},
     "output_type": "execute_result"
    }
   ],
   "source": [
    "nyc_crime.hannukkah.value_counts()"
   ]
  },
  {
   "cell_type": "code",
   "execution_count": 166,
   "metadata": {},
   "outputs": [],
   "source": [
    "nyc_crime = nyc_crime.drop(columns = ['hannukkah06', 'hannukkah07', 'hannukkah08', 'hannukkah09', 'hannukkah10', 'hannukkah11', 'hannukkah12', 'hannukkah13', 'hannukkah14', 'hannukkah15', 'hannukkah16', 'hannukkah17', 'hannukkah18'])"
   ]
  },
  {
   "cell_type": "code",
   "execution_count": 167,
   "metadata": {},
   "outputs": [],
   "source": [
    "#Memorial Day\n",
    "memorial_day06 = (nyc_crime.start_month == 5) & (nyc_crime.start_day == 29) & (nyc_crime.start_year == 2006)\n",
    "memorial_day07 = (nyc_crime.start_month == 5) & (nyc_crime.start_day == 28) & (nyc_crime.start_year == 2007)\n",
    "memorial_day08 = (nyc_crime.start_month == 5) & (nyc_crime.start_day == 26) & (nyc_crime.start_year == 2008)\n",
    "memorial_day09 = (nyc_crime.start_month == 5) & (nyc_crime.start_day == 25) & (nyc_crime.start_year == 2009)\n",
    "memorial_day10 = (nyc_crime.start_month == 5) & (nyc_crime.start_day == 31) & (nyc_crime.start_year == 2010)\n",
    "memorial_day11 = (nyc_crime.start_month == 5) & (nyc_crime.start_day == 30) & (nyc_crime.start_year == 2011)\n",
    "memorial_day12 = (nyc_crime.start_month == 5) & (nyc_crime.start_day == 28) & (nyc_crime.start_year == 2012)\n",
    "memorial_day13 = (nyc_crime.start_month == 5) & (nyc_crime.start_day == 27) & (nyc_crime.start_year == 2013)\n",
    "memorial_day14 = (nyc_crime.start_month == 5) & (nyc_crime.start_day == 26) & (nyc_crime.start_year == 2014)\n",
    "memorial_day15 = (nyc_crime.start_month == 5) & (nyc_crime.start_day == 25) & (nyc_crime.start_year == 2015)\n",
    "memorial_day16 = (nyc_crime.start_month == 5) & (nyc_crime.start_day == 30) & (nyc_crime.start_year == 2016)\n",
    "memorial_day17 = (nyc_crime.start_month == 5) & (nyc_crime.start_day == 29) & (nyc_crime.start_year == 2017)\n",
    "memorial_day18 = (nyc_crime.start_month == 5) & (nyc_crime.start_day == 28) & (nyc_crime.start_year == 2018)"
   ]
  },
  {
   "cell_type": "code",
   "execution_count": 168,
   "metadata": {},
   "outputs": [],
   "source": [
    "nyc_crime['memorial_day06'] = memorial_day06.astype(int)\n",
    "nyc_crime['memorial_day07'] = memorial_day07.astype(int)\n",
    "nyc_crime['memorial_day08'] = memorial_day08.astype(int)\n",
    "nyc_crime['memorial_day09'] = memorial_day09.astype(int)\n",
    "nyc_crime['memorial_day10'] = memorial_day10.astype(int)\n",
    "nyc_crime['memorial_day11'] = memorial_day11.astype(int)\n",
    "nyc_crime['memorial_day12'] = memorial_day12.astype(int)\n",
    "nyc_crime['memorial_day13'] = memorial_day13.astype(int)\n",
    "nyc_crime['memorial_day14'] = memorial_day14.astype(int)\n",
    "nyc_crime['memorial_day15'] = memorial_day15.astype(int)\n",
    "nyc_crime['memorial_day16'] = memorial_day16.astype(int)\n",
    "nyc_crime['memorial_day17'] = memorial_day17.astype(int)\n",
    "nyc_crime['memorial_day18'] = memorial_day18.astype(int)"
   ]
  },
  {
   "cell_type": "code",
   "execution_count": 169,
   "metadata": {},
   "outputs": [],
   "source": [
    "memorial_day = (nyc_crime.memorial_day06 == 1) | (nyc_crime.memorial_day07 == 1) | (nyc_crime.memorial_day08 == 1) | (nyc_crime.memorial_day09 == 1) | (nyc_crime.memorial_day10 == 1) | (nyc_crime.memorial_day11 == 1) | (nyc_crime.memorial_day12 == 1) | (nyc_crime.memorial_day13 == 1) | (nyc_crime.memorial_day14 == 1) | (nyc_crime.memorial_day15 == 1) | (nyc_crime.memorial_day16 == 1) | (nyc_crime.memorial_day17 == 1) | (nyc_crime.memorial_day18 == 1)"
   ]
  },
  {
   "cell_type": "code",
   "execution_count": 170,
   "metadata": {},
   "outputs": [],
   "source": [
    "nyc_crime['memorial_day'] = memorial_day.astype(int)"
   ]
  },
  {
   "cell_type": "code",
   "execution_count": 171,
   "metadata": {},
   "outputs": [
    {
     "data": {
      "text/plain": [
       "0    6467488\n",
       "1      16036\n",
       "Name: memorial_day, dtype: int64"
      ]
     },
     "execution_count": 171,
     "metadata": {},
     "output_type": "execute_result"
    }
   ],
   "source": [
    "nyc_crime.memorial_day.value_counts()"
   ]
  },
  {
   "cell_type": "code",
   "execution_count": 172,
   "metadata": {},
   "outputs": [],
   "source": [
    "nyc_crime = nyc_crime.drop(columns = ['memorial_day06', 'memorial_day07', 'memorial_day08', 'memorial_day09', 'memorial_day10', 'memorial_day11', 'memorial_day12', 'memorial_day13', 'memorial_day14', 'memorial_day15', 'memorial_day16', 'memorial_day17', 'memorial_day18'])"
   ]
  },
  {
   "cell_type": "code",
   "execution_count": 173,
   "metadata": {},
   "outputs": [],
   "source": [
    "labor_day06 = (nyc_crime.start_month == 9) & (nyc_crime.start_day == 4) & (nyc_crime.start_year == 2006)\n",
    "labor_day07 = (nyc_crime.start_month == 9) & (nyc_crime.start_day == 3) & (nyc_crime.start_year == 2007)\n",
    "labor_day08 = (nyc_crime.start_month == 9) & (nyc_crime.start_day == 1) & (nyc_crime.start_year == 2008)\n",
    "labor_day09 = (nyc_crime.start_month == 9) & (nyc_crime.start_day == 7) & (nyc_crime.start_year == 2009)\n",
    "labor_day10 = (nyc_crime.start_month == 9) & (nyc_crime.start_day == 6) & (nyc_crime.start_year == 2010)\n",
    "labor_day11 = (nyc_crime.start_month == 9) & (nyc_crime.start_day == 5) & (nyc_crime.start_year == 2011)\n",
    "labor_day12 = (nyc_crime.start_month == 9) & (nyc_crime.start_day == 3) & (nyc_crime.start_year == 2012)\n",
    "labor_day13 = (nyc_crime.start_month == 9) & (nyc_crime.start_day == 2) & (nyc_crime.start_year == 2013)\n",
    "labor_day14 = (nyc_crime.start_month == 9) & (nyc_crime.start_day == 1) & (nyc_crime.start_year == 2014)\n",
    "labor_day15 = (nyc_crime.start_month == 9) & (nyc_crime.start_day == 7) & (nyc_crime.start_year == 2015)\n",
    "labor_day16 = (nyc_crime.start_month == 9) & (nyc_crime.start_day == 5) & (nyc_crime.start_year == 2016)\n",
    "labor_day17 = (nyc_crime.start_month == 9) & (nyc_crime.start_day == 4) & (nyc_crime.start_year == 2017)\n",
    "labor_day18 = (nyc_crime.start_month == 9) & (nyc_crime.start_day == 3) & (nyc_crime.start_year == 2018)"
   ]
  },
  {
   "cell_type": "code",
   "execution_count": 174,
   "metadata": {},
   "outputs": [],
   "source": [
    "nyc_crime['labor_day06'] = labor_day06.astype(int)\n",
    "nyc_crime['labor_day07'] = labor_day07.astype(int)\n",
    "nyc_crime['labor_day08'] = labor_day08.astype(int)\n",
    "nyc_crime['labor_day09'] = labor_day09.astype(int)\n",
    "nyc_crime['labor_day10'] = labor_day10.astype(int)\n",
    "nyc_crime['labor_day11'] = labor_day11.astype(int)\n",
    "nyc_crime['labor_day12'] = labor_day12.astype(int)\n",
    "nyc_crime['labor_day13'] = labor_day13.astype(int)\n",
    "nyc_crime['labor_day14'] = labor_day14.astype(int)\n",
    "nyc_crime['labor_day15'] = labor_day15.astype(int)\n",
    "nyc_crime['labor_day16'] = labor_day16.astype(int)\n",
    "nyc_crime['labor_day17'] = labor_day17.astype(int)\n",
    "nyc_crime['labor_day18'] = labor_day18.astype(int)"
   ]
  },
  {
   "cell_type": "code",
   "execution_count": 175,
   "metadata": {},
   "outputs": [],
   "source": [
    "labor_day = (nyc_crime.labor_day06 == 1) | (nyc_crime.labor_day07 == 1) | (nyc_crime.labor_day08 == 1) | (nyc_crime.labor_day09 == 1) | (nyc_crime.labor_day10 == 1) | (nyc_crime.labor_day11 == 1) | (nyc_crime.labor_day12 == 1) | (nyc_crime.labor_day13 == 1) | (nyc_crime.labor_day14 == 1) | (nyc_crime.labor_day15 == 1) | (nyc_crime.labor_day16 == 1) | (nyc_crime.labor_day17 == 1) | (nyc_crime.labor_day18 == 1)"
   ]
  },
  {
   "cell_type": "code",
   "execution_count": 176,
   "metadata": {},
   "outputs": [],
   "source": [
    "nyc_crime['labor_day'] = labor_day.astype(int)"
   ]
  },
  {
   "cell_type": "code",
   "execution_count": 177,
   "metadata": {},
   "outputs": [
    {
     "data": {
      "text/plain": [
       "0    6465831\n",
       "1      17693\n",
       "Name: labor_day, dtype: int64"
      ]
     },
     "execution_count": 177,
     "metadata": {},
     "output_type": "execute_result"
    }
   ],
   "source": [
    "nyc_crime.labor_day.value_counts()"
   ]
  },
  {
   "cell_type": "code",
   "execution_count": 178,
   "metadata": {},
   "outputs": [],
   "source": [
    "nyc_crime = nyc_crime.drop(columns = ['labor_day06', 'labor_day07', 'labor_day08', 'labor_day09', 'labor_day10', 'labor_day11', 'labor_day12', 'labor_day13', 'labor_day14', 'labor_day15', 'labor_day16', 'labor_day17', 'labor_day18'])"
   ]
  },
  {
   "cell_type": "code",
   "execution_count": 179,
   "metadata": {},
   "outputs": [],
   "source": [
    "#Thanksgiving\n",
    "thanksgiving06 = (nyc_crime.start_month == 11) & (nyc_crime.start_day == 23) & (nyc_crime.start_year == 2006)\n",
    "thanksgiving07 = (nyc_crime.start_month == 11) & (nyc_crime.start_day == 22) & (nyc_crime.start_year == 2007)\n",
    "thanksgiving08 = (nyc_crime.start_month == 11) & (nyc_crime.start_day == 27) & (nyc_crime.start_year == 2008)\n",
    "thanksgiving09 = (nyc_crime.start_month == 11) & (nyc_crime.start_day == 26) & (nyc_crime.start_year == 2009)\n",
    "thanksgiving10 = (nyc_crime.start_month == 11) & (nyc_crime.start_day == 25) & (nyc_crime.start_year == 2010)\n",
    "thanksgiving11 = (nyc_crime.start_month == 11) & (nyc_crime.start_day == 24) & (nyc_crime.start_year == 2011)\n",
    "thanksgiving12 = (nyc_crime.start_month == 11) & (nyc_crime.start_day == 22) & (nyc_crime.start_year == 2012)\n",
    "thanksgiving13 = (nyc_crime.start_month == 11) & (nyc_crime.start_day == 28) & (nyc_crime.start_year == 2013)\n",
    "thanksgiving14 = (nyc_crime.start_month == 11) & (nyc_crime.start_day == 27) & (nyc_crime.start_year == 2014)\n",
    "thanksgiving15 = (nyc_crime.start_month == 11) & (nyc_crime.start_day == 26) & (nyc_crime.start_year == 2015)\n",
    "thanksgiving16 = (nyc_crime.start_month == 11) & (nyc_crime.start_day == 24) & (nyc_crime.start_year == 2016)\n",
    "thanksgiving17 = (nyc_crime.start_month == 11) & (nyc_crime.start_day == 23) & (nyc_crime.start_year == 2017)\n",
    "thanksgiving18 = (nyc_crime.start_month == 11) & (nyc_crime.start_day == 22) & (nyc_crime.start_year == 2018)"
   ]
  },
  {
   "cell_type": "code",
   "execution_count": 180,
   "metadata": {},
   "outputs": [],
   "source": [
    "nyc_crime['thanksgiving06'] = thanksgiving06.astype(int)\n",
    "nyc_crime['thanksgiving07'] = thanksgiving07.astype(int)\n",
    "nyc_crime['thanksgiving08'] = thanksgiving08.astype(int)\n",
    "nyc_crime['thanksgiving09'] = thanksgiving09.astype(int)\n",
    "nyc_crime['thanksgiving10'] = thanksgiving10.astype(int)\n",
    "nyc_crime['thanksgiving11'] = thanksgiving11.astype(int)\n",
    "nyc_crime['thanksgiving12'] = thanksgiving12.astype(int)\n",
    "nyc_crime['thanksgiving13'] = thanksgiving13.astype(int)\n",
    "nyc_crime['thanksgiving14'] = thanksgiving14.astype(int)\n",
    "nyc_crime['thanksgiving15'] = thanksgiving15.astype(int)\n",
    "nyc_crime['thanksgiving16'] = thanksgiving16.astype(int)\n",
    "nyc_crime['thanksgiving17'] = thanksgiving17.astype(int)\n",
    "nyc_crime['thanksgiving18'] = thanksgiving18.astype(int)"
   ]
  },
  {
   "cell_type": "code",
   "execution_count": 181,
   "metadata": {},
   "outputs": [],
   "source": [
    "thanksgiving = (nyc_crime.thanksgiving06 == 1) | (nyc_crime.thanksgiving07 == 1) | (nyc_crime.thanksgiving08 == 1) | (nyc_crime.thanksgiving09 == 1) | (nyc_crime.thanksgiving10 == 1) | (nyc_crime.thanksgiving11 == 1) | (nyc_crime.thanksgiving12 == 1) | (nyc_crime.thanksgiving13 == 1) | (nyc_crime.thanksgiving14 == 1) | (nyc_crime.thanksgiving15 == 1) | (nyc_crime.thanksgiving16 == 1) | (nyc_crime.thanksgiving17 == 1) | (nyc_crime.thanksgiving18 == 1)"
   ]
  },
  {
   "cell_type": "code",
   "execution_count": 182,
   "metadata": {},
   "outputs": [],
   "source": [
    "nyc_crime['thanksgiving'] = thanksgiving.astype(int)"
   ]
  },
  {
   "cell_type": "code",
   "execution_count": 183,
   "metadata": {
    "scrolled": true
   },
   "outputs": [
    {
     "data": {
      "text/plain": [
       "0    6471842\n",
       "1      11682\n",
       "Name: thanksgiving, dtype: int64"
      ]
     },
     "execution_count": 183,
     "metadata": {},
     "output_type": "execute_result"
    }
   ],
   "source": [
    "nyc_crime.thanksgiving.value_counts()"
   ]
  },
  {
   "cell_type": "code",
   "execution_count": 184,
   "metadata": {},
   "outputs": [],
   "source": [
    "nyc_crime = nyc_crime.drop(columns = ['thanksgiving06', 'thanksgiving07', 'thanksgiving08', 'thanksgiving09', 'thanksgiving10', 'thanksgiving11', 'thanksgiving12', 'thanksgiving13', 'thanksgiving14', 'thanksgiving15', 'thanksgiving16', 'thanksgiving17', 'thanksgiving18'])"
   ]
  },
  {
   "cell_type": "markdown",
   "metadata": {},
   "source": [
    "The next part drops cases outside of the stated year range of the dataset, that is, less than 2006"
   ]
  },
  {
   "cell_type": "markdown",
   "metadata": {},
   "source": [
    "The following code creates a boolean series for years to keep by identifying the years before 2006, and then using this series to create a new column for years to keep.  The cases with a value of zero for the 'years_to_keep' variable are dropped."
   ]
  },
  {
   "cell_type": "code",
   "execution_count": 185,
   "metadata": {},
   "outputs": [],
   "source": [
    "years_to_keep = (nyc_crime.start_year > 2005)"
   ]
  },
  {
   "cell_type": "code",
   "execution_count": 186,
   "metadata": {},
   "outputs": [],
   "source": [
    "nyc_crime['years_to_keep'] = years_to_keep.astype(int)"
   ]
  },
  {
   "cell_type": "code",
   "execution_count": 187,
   "metadata": {
    "scrolled": true
   },
   "outputs": [
    {
     "data": {
      "text/plain": [
       "1    6463881\n",
       "0      19643\n",
       "Name: years_to_keep, dtype: int64"
      ]
     },
     "execution_count": 187,
     "metadata": {},
     "output_type": "execute_result"
    }
   ],
   "source": [
    "nyc_crime.years_to_keep.value_counts()"
   ]
  },
  {
   "cell_type": "code",
   "execution_count": 188,
   "metadata": {},
   "outputs": [],
   "source": [
    "nyc_crime.drop(nyc_crime[nyc_crime.years_to_keep == 0].index, inplace=True)"
   ]
  },
  {
   "cell_type": "code",
   "execution_count": 189,
   "metadata": {
    "scrolled": false
   },
   "outputs": [
    {
     "data": {
      "text/plain": [
       "1    6463881\n",
       "Name: years_to_keep, dtype: int64"
      ]
     },
     "execution_count": 189,
     "metadata": {},
     "output_type": "execute_result"
    }
   ],
   "source": [
    "nyc_crime['years_to_keep'].value_counts()"
   ]
  },
  {
   "cell_type": "markdown",
   "metadata": {},
   "source": [
    "The 'years_to_keep' column is dropped from the DataFrame, as it is no longer needed."
   ]
  },
  {
   "cell_type": "code",
   "execution_count": 190,
   "metadata": {},
   "outputs": [],
   "source": [
    "nyc_crime = nyc_crime.drop(columns = ['years_to_keep'])"
   ]
  },
  {
   "cell_type": "markdown",
   "metadata": {},
   "source": [
    "Value counts are examined for the 'start_year' variable to make sure all cases before 2006 are dropped."
   ]
  },
  {
   "cell_type": "code",
   "execution_count": 191,
   "metadata": {},
   "outputs": [
    {
     "data": {
      "text/plain": [
       "2007.0    535094\n",
       "2008.0    528715\n",
       "2006.0    512620\n",
       "2009.0    511044\n",
       "2010.0    510070\n",
       "2012.0    504652\n",
       "2011.0    498586\n",
       "2013.0    495704\n",
       "2014.0    491842\n",
       "2015.0    478333\n",
       "2016.0    477599\n",
       "2017.0    466664\n",
       "2018.0    452958\n",
       "Name: start_year, dtype: int64"
      ]
     },
     "execution_count": 191,
     "metadata": {},
     "output_type": "execute_result"
    }
   ],
   "source": [
    "nyc_crime['start_year'].value_counts()"
   ]
  },
  {
   "cell_type": "markdown",
   "metadata": {},
   "source": [
    "The next section recodes unclear values to 'unknown' for the suspect and victim age group, race, and sex variables. First, the value counts are run for each variable. Then, a cleaned version of the variable is created by mapping unusual values to 'unknown'. And finally value counts are called on the cleaned version of the variable to ensure all unusual values have been mapped to 'unknown'."
   ]
  },
  {
   "cell_type": "code",
   "execution_count": 192,
   "metadata": {
    "scrolled": false
   },
   "outputs": [
    {
     "data": {
      "text/plain": [
       "unknown    4560650\n",
       "25-44       795100\n",
       "UNKNOWN     394066\n",
       "18-24       318148\n",
       "45-64       283254\n",
       "<18          89875\n",
       "65+          22629\n",
       "2018            10\n",
       "2017             8\n",
       "2016             8\n",
       "926              4\n",
       "-972             4\n",
       "940              4\n",
       "-969             4\n",
       "-2               4\n",
       "-974             3\n",
       "2015             3\n",
       "1017             3\n",
       "-979             3\n",
       "1018             3\n",
       "931              3\n",
       "935              3\n",
       "936              2\n",
       "938              2\n",
       "-1               2\n",
       "-970             2\n",
       "-960             2\n",
       "937              2\n",
       "-948             2\n",
       "-962             2\n",
       "928              2\n",
       "1016             2\n",
       "-971             2\n",
       "-975             2\n",
       "945              2\n",
       "922              2\n",
       "1007             2\n",
       "-978             2\n",
       "-976             2\n",
       "952              2\n",
       "-980             1\n",
       "-49              1\n",
       "927              1\n",
       "708              1\n",
       "-42              1\n",
       "-54              1\n",
       "946              1\n",
       "924              1\n",
       "1014             1\n",
       "-935             1\n",
       "-968             1\n",
       "-963             1\n",
       "914              1\n",
       "955              1\n",
       "923              1\n",
       "709              1\n",
       "-965             1\n",
       "-72              1\n",
       "948              1\n",
       "324              1\n",
       "933              1\n",
       "-955             1\n",
       "920              1\n",
       "925              1\n",
       "-981             1\n",
       "-63              1\n",
       "809              1\n",
       "711              1\n",
       "966              1\n",
       "814              1\n",
       "1053             1\n",
       "1932             1\n",
       "327              1\n",
       "954              1\n",
       "-941             1\n",
       "944              1\n",
       "808              1\n",
       "-973             1\n",
       "972              1\n",
       "-67              1\n",
       "1933             1\n",
       "-985             1\n",
       "1012             1\n",
       "999              1\n",
       "-80              1\n",
       "949              1\n",
       "309              1\n",
       "915              1\n",
       "942              1\n",
       "1967             1\n",
       "934              1\n",
       "-83              1\n",
       "810              1\n",
       "-953             1\n",
       "-65              1\n",
       "-939             1\n",
       "Name: SUSP_AGE_GROUP, dtype: int64"
      ]
     },
     "execution_count": 192,
     "metadata": {},
     "output_type": "execute_result"
    }
   ],
   "source": [
    "nyc_crime['SUSP_AGE_GROUP'].value_counts()"
   ]
  },
  {
   "cell_type": "code",
   "execution_count": 193,
   "metadata": {},
   "outputs": [],
   "source": [
    "nyc_crime['SUSP_AGE_GROUP_cleaned'] = nyc_crime['SUSP_AGE_GROUP'].map({'<18': '<18', '18-24': '18-24', \n",
    "                                                                     '25-44': '25-44', '45-64': '45-64', \n",
    "                                                                     '65+': '65+', 'unknown': 'unknown', \n",
    "                                                                     'UNKNOWN': 'unknown', '2018': 'unknown', '2016': 'unknown', '2017': 'unknown', '-969': 'unknown', '-2': 'unknown', '940': 'unknown', '-972': 'unknown', '926': 'unknown', '-974': 'unknown', '1018': 'unknown', '935': 'unknown', '931': 'unknown', '1017': 'unknown', '-979': 'unknown', '2015': 'unknown', '-978': 'unknown', '-960': 'unknown', '-970': 'unknown', '937': 'unknown', '936': 'unknown', '945': 'unknown', '928': 'unknown', '-976': 'unknown', '1007': 'unknown', '-948': 'unknown', '1016': 'unknown', '-1': 'unknown', '-975': 'unknown', '-971': 'unknown', '-962': 'unknown', '922': 'unknown', '952': 'unknown', '-963': 'unknown', '933': 'unknown', '920': 'unknown', '1014': 'unknown', '1932': 'unknown', '809': 'unknown', '1967': 'unknown', '966': 'unknown', '925': 'unknown', '-935': 'unknown', '954': 'unknown', '914': 'unknown', '915': 'unknown', '324': 'unknown', '327': 'unknown', '944': 'unknown', '708': 'unknown', '808': 'unknown', '-941': 'unknown', '955': 'unknown', '-49': 'unknown', '709': 'unknown', '-985': 'unknown', '-54': 'unknown', '934': 'unknown', '814': 'unknown', '1053': 'unknown', '-968': 'unknown', '-953': 'unknown', '-939': 'unknown', '946': 'unknown', '924': 'unknown', '-83': 'unknown', '938': 'unknown', '972': 'unknown', '948': 'unknown', '-42': 'unknown', '949': 'unknown', '-973': 'unknown', '-63': 'unknown', '810': 'unknown', '-981': 'unknown', '-80': 'unknown', '927': 'unknown', '-955': 'unknown', '-65': 'unknown', '-67': 'unknown', '-980': 'unknown', '942': 'unknown', '923': 'unknown', '309': 'unknown', '1933': 'unknown', '999': 'unknown', '-72': 'unknown', '711': 'unknown', '-965': 'unknown', '1012': 'unknown'})"
   ]
  },
  {
   "cell_type": "code",
   "execution_count": 194,
   "metadata": {
    "scrolled": false
   },
   "outputs": [
    {
     "data": {
      "text/plain": [
       "unknown    4954875\n",
       "25-44       795100\n",
       "18-24       318148\n",
       "45-64       283254\n",
       "<18          89875\n",
       "65+          22629\n",
       "Name: SUSP_AGE_GROUP_cleaned, dtype: int64"
      ]
     },
     "execution_count": 194,
     "metadata": {},
     "output_type": "execute_result"
    }
   ],
   "source": [
    "nyc_crime['SUSP_AGE_GROUP_cleaned'].value_counts()"
   ]
  },
  {
   "cell_type": "code",
   "execution_count": 195,
   "metadata": {
    "scrolled": true
   },
   "outputs": [
    {
     "data": {
      "text/plain": [
       "unknown                           3200949\n",
       "BLACK                             1219872\n",
       "UNKNOWN                            843699\n",
       "WHITE HISPANIC                     555594\n",
       "WHITE                              364297\n",
       "BLACK HISPANIC                     167533\n",
       "ASIAN / PACIFIC ISLANDER           101781\n",
       "AMERICAN INDIAN/ALASKAN NATIVE      10146\n",
       "OTHER                                  10\n",
       "Name: SUSP_RACE, dtype: int64"
      ]
     },
     "execution_count": 195,
     "metadata": {},
     "output_type": "execute_result"
    }
   ],
   "source": [
    "nyc_crime['SUSP_RACE'].value_counts()"
   ]
  },
  {
   "cell_type": "code",
   "execution_count": 196,
   "metadata": {},
   "outputs": [],
   "source": [
    "nyc_crime['SUSP_RACE_cleaned'] = nyc_crime['SUSP_RACE'].map({'BLACK': 'BLACK', 'WHITE HISPANIC': 'WHITE HISPANIC', \n",
    "                                              'BLACK HISPANIC': 'BLACK HISPANIC', 'WHITE': 'WHITE',\n",
    "                                              'ASIAN / PACIFIC ISLANDER': 'ASIAN / PACIFIC ISLANDER', \n",
    "                                              'unknown': 'unknown','UNKNOWN': 'unknown', \n",
    "                                              'AMERICAN INDIAN/ALASKAN NATIVE': 'AMERICAN INDIAN/ALASKAN NATIVE'})"
   ]
  },
  {
   "cell_type": "markdown",
   "metadata": {},
   "source": [
    "After discovering that only 15.8% of cannabis crimes have their suspect's race reported, I wanted to see what percentage of non-cannabis crimes have their suspect's race reported. As can be seen below, 38.2% of non-cannabis crimes have their suspect's race reported. This is a large difference, and warrants a hypothesis test in a later section of this project to see if the difference is due to random chance."
   ]
  },
  {
   "cell_type": "code",
   "execution_count": 197,
   "metadata": {
    "scrolled": true
   },
   "outputs": [
    {
     "data": {
      "text/plain": [
       "unknown                           0.625732\n",
       "BLACK                             0.188722\n",
       "WHITE HISPANIC                    0.085954\n",
       "WHITE                             0.056359\n",
       "BLACK HISPANIC                    0.025918\n",
       "ASIAN / PACIFIC ISLANDER          0.015746\n",
       "AMERICAN INDIAN/ALASKAN NATIVE    0.001570\n",
       "Name: SUSP_RACE_cleaned, dtype: float64"
      ]
     },
     "execution_count": 197,
     "metadata": {},
     "output_type": "execute_result"
    }
   ],
   "source": [
    "nyc_crime['SUSP_RACE_cleaned'].value_counts(normalize=True)"
   ]
  },
  {
   "cell_type": "code",
   "execution_count": 198,
   "metadata": {
    "scrolled": true
   },
   "outputs": [
    {
     "data": {
      "text/plain": [
       "unknown    3332467\n",
       "M          1986164\n",
       "F           638854\n",
       "U           506396\n",
       "Name: SUSP_SEX, dtype: int64"
      ]
     },
     "execution_count": 198,
     "metadata": {},
     "output_type": "execute_result"
    }
   ],
   "source": [
    "nyc_crime['SUSP_SEX'].value_counts()"
   ]
  },
  {
   "cell_type": "code",
   "execution_count": 199,
   "metadata": {},
   "outputs": [],
   "source": [
    "nyc_crime['SUSP_SEX_cleaned'] = nyc_crime['SUSP_SEX'].map({'M': 'M', 'F': 'F', 'U': 'unknown', \n",
    "                                                         'unknown': 'unknown'})"
   ]
  },
  {
   "cell_type": "code",
   "execution_count": 200,
   "metadata": {
    "scrolled": true
   },
   "outputs": [
    {
     "data": {
      "text/plain": [
       "unknown    3838863\n",
       "M          1986164\n",
       "F           638854\n",
       "Name: SUSP_SEX_cleaned, dtype: int64"
      ]
     },
     "execution_count": 200,
     "metadata": {},
     "output_type": "execute_result"
    }
   ],
   "source": [
    "nyc_crime['SUSP_SEX_cleaned'].value_counts()"
   ]
  },
  {
   "cell_type": "code",
   "execution_count": 201,
   "metadata": {
    "scrolled": true
   },
   "outputs": [
    {
     "data": {
      "text/plain": [
       "25-44      2097471\n",
       "unknown    1630034\n",
       "45-64      1090644\n",
       "18-24       663763\n",
       "UNKNOWN     458670\n",
       "<18         303729\n",
       "65+         219184\n",
       "929             10\n",
       "946              8\n",
       "-1               8\n",
       "937              8\n",
       "938              8\n",
       "922              7\n",
       "936              7\n",
       "-962             6\n",
       "-2               5\n",
       "927              5\n",
       "808              5\n",
       "-970             5\n",
       "947              4\n",
       "932              4\n",
       "962              4\n",
       "942              4\n",
       "812              4\n",
       "-972             4\n",
       "924              4\n",
       "-964             4\n",
       "931              4\n",
       "-973             4\n",
       "-974             4\n",
       "-978             4\n",
       "930              4\n",
       "948              4\n",
       "-48              3\n",
       "711              3\n",
       "934              3\n",
       "-950             3\n",
       "949              3\n",
       "933              3\n",
       "809              3\n",
       "-32              3\n",
       "-966             3\n",
       "940              3\n",
       "939              3\n",
       "960              3\n",
       "810              3\n",
       "-956             3\n",
       "-980             3\n",
       "958              3\n",
       "-72              3\n",
       "954              3\n",
       "970              3\n",
       "926              3\n",
       "928              3\n",
       "950              3\n",
       "-955             3\n",
       "951              3\n",
       "-948             2\n",
       "943              2\n",
       "-982             2\n",
       "-49              2\n",
       "508              2\n",
       "957              2\n",
       "-934             2\n",
       "935              2\n",
       "956              2\n",
       "980              2\n",
       "914              2\n",
       "-73              2\n",
       "-940             2\n",
       "-954             2\n",
       "811              2\n",
       "-968             2\n",
       "-40              2\n",
       "-3               2\n",
       "959              2\n",
       "-959             2\n",
       "945              2\n",
       "-952             2\n",
       "-957             2\n",
       "953              2\n",
       "964              2\n",
       "-55              2\n",
       "-61              2\n",
       "-984             2\n",
       "-943             2\n",
       "944              2\n",
       "925              2\n",
       "-958             2\n",
       "-63              2\n",
       "-976             2\n",
       "913              2\n",
       "941              2\n",
       "918              2\n",
       "-939             2\n",
       "-60              2\n",
       "955              2\n",
       "-975             2\n",
       "-971             2\n",
       "923              2\n",
       "151              2\n",
       "-5               1\n",
       "-932             1\n",
       "979              1\n",
       "-969             1\n",
       "917              1\n",
       "-39              1\n",
       "-884             1\n",
       "324              1\n",
       "806              1\n",
       "1014             1\n",
       "311              1\n",
       "-915             1\n",
       "623              1\n",
       "-967             1\n",
       "343              1\n",
       "912              1\n",
       "214              1\n",
       "908              1\n",
       "709              1\n",
       "-923             1\n",
       "-931             1\n",
       "-51              1\n",
       "965              1\n",
       "-947             1\n",
       "172              1\n",
       "-4               1\n",
       "738              1\n",
       "838              1\n",
       "359              1\n",
       "-52              1\n",
       "152              1\n",
       "188              1\n",
       "334              1\n",
       "-983             1\n",
       "-938             1\n",
       "-67              1\n",
       "1004             1\n",
       "972              1\n",
       "-981             1\n",
       "260              1\n",
       "981              1\n",
       "-70              1\n",
       "-936             1\n",
       "-45              1\n",
       "-76              1\n",
       "509              1\n",
       "185              1\n",
       "-946             1\n",
       "-945             1\n",
       "-37              1\n",
       "952              1\n",
       "160              1\n",
       "-942             1\n",
       "901              1\n",
       "-929             1\n",
       "-78              1\n",
       "961              1\n",
       "-59              1\n",
       "-81              1\n",
       "-53              1\n",
       "-36              1\n",
       "920              1\n",
       "-65              1\n",
       "342              1\n",
       "-953             1\n",
       "-75              1\n",
       "1017             1\n",
       "-85              1\n",
       "-47              1\n",
       "507              1\n",
       "-43              1\n",
       "-961             1\n",
       "-902             1\n",
       "309              1\n",
       "158              1\n",
       "977              1\n",
       "-937             1\n",
       "340              1\n",
       "-7               1\n",
       "910              1\n",
       "707              1\n",
       "999              1\n",
       "909              1\n",
       "895              1\n",
       "1012             1\n",
       "154              1\n",
       "-985             1\n",
       "911              1\n",
       "Name: VIC_AGE_GROUP, dtype: int64"
      ]
     },
     "execution_count": 201,
     "metadata": {},
     "output_type": "execute_result"
    }
   ],
   "source": [
    "nyc_crime['VIC_AGE_GROUP'].value_counts()"
   ]
  },
  {
   "cell_type": "code",
   "execution_count": 202,
   "metadata": {},
   "outputs": [],
   "source": [
    "nyc_crime['VIC_AGE_GROUP_cleaned'] = nyc_crime['VIC_AGE_GROUP'].map({'UNKNOWN': 'unknown', 'unknown': 'unknown', \n",
    "                                                                   '<18': '<18', '18-24': '18-24', \n",
    "                                                                   '25-44': '25-44', '45-64': '45-64', \n",
    "                                                                   '65+': '65+', '929': 'unknown', '1004': 'unknown', '946': 'unknown', '938': 'unknown', '-1': 'unknown', '937': 'unknown', '922': 'unknown', '936': 'unknown', '-962': 'unknown', '927': 'unknown', '-970': 'unknown', '-2': 'unknown', '808': 'unknown', '924': 'unknown', '-974': 'unknown', '947': 'unknown', '812': 'unknown', '962': 'unknown', '-973': 'unknown', '932': 'unknown', '-964': 'unknown', '942': 'unknown', '931': 'unknown', '-972': 'unknown', '930': 'unknown', '-978': 'unknown', '948': 'unknown', '949': 'unknown', '-955': 'unknown', '934': 'unknown', '-966': 'unknown', '940': 'unknown', '958': 'unknown', '926': 'unknown', '-48': 'unknown', '939': 'unknown', '950': 'unknown', '933': 'unknown', '810': 'unknown', '-956': 'unknown', '809': 'unknown', '-72': 'unknown', '951': 'unknown', '960': 'unknown', '954': 'unknown', '970': 'unknown', '-980': 'unknown', '-32': 'unknown', '-950': 'unknown', '928': 'unknown', '711': 'unknown', '-948': 'unknown', '955': 'unknown', '925': 'unknown', '151': 'unknown', '913': 'unknown', '-940': 'unknown', '-957': 'unknown', '941': 'unknown', '-984': 'unknown', '-60': 'unknown', '964': 'unknown', '-3': 'unknown', '-934': 'unknown', '-959': 'unknown', '944': 'unknown', '914': 'unknown', '-975': 'unknown', '-61': 'unknown', '-982': 'unknown', '-976': 'unknown', '-73': 'unknown', '943': 'unknown', '-40': 'unknown', '959': 'unknown', '811': 'unknown', '945': 'unknown', '953': 'unknown', '-49': 'unknown', '923': 'unknown', '956': 'unknown', '957': 'unknown', '-954': 'unknown', '935': 'unknown', '-952': 'unknown', '-958': 'unknown', '-971': 'unknown', '-943': 'unknown', '-55': 'unknown', '508': 'unknown', '-939': 'unknown', '980': 'unknown', '-63': 'unknown', '918': 'unknown', '-968': 'unknown', '160': 'unknown', '1014': 'unknown', '172': 'unknown', '901': 'unknown', '999': 'unknown', '-961': 'unknown', '509': 'unknown', '158': 'unknown', '-953': 'unknown', '917': 'unknown', '-929': 'unknown', '910': 'unknown', '-47': 'unknown', '895': 'unknown', '965': 'unknown', '-967': 'unknown', '-945': 'unknown', '981': 'unknown', '-7': 'unknown', '-70': 'unknown', '-937': 'unknown', '972': 'unknown', '977': 'unknown', '-43': 'unknown', '-85': 'unknown', '-923': 'unknown', '188': 'unknown', '912': 'unknown', '324': 'unknown', '214': 'unknown', '838': 'unknown', '1017': 'unknown', '-938': 'unknown', '-4': 'unknown', '359': 'unknown', '952': 'unknown', '-915': 'unknown', '979': 'unknown', '738': 'unknown', '334': 'unknown', '342': 'unknown', '-946': 'unknown', '343': 'unknown', '-59': 'unknown', '-81': 'unknown', '-884': 'unknown', '1012': 'unknown', '-936': 'unknown', '-969': 'unknown', '507': 'unknown', '-52': 'unknown', '-981': 'unknown', '-37': 'unknown', '154': 'unknown', '260': 'unknown', '-51': 'unknown', '-5': 'unknown', '309': 'unknown', '-983': 'unknown', '707': 'unknown', '-932': 'unknown', '-39': 'unknown', '-67': 'unknown', '-902': 'unknown', '-75': 'unknown', '-76': 'unknown', '623': 'unknown', '806': 'unknown', '-78': 'unknown', '961': 'unknown', '-53': 'unknown', '340': 'unknown', '-947': 'unknown', '-36': 'unknown', '920': 'unknown', '-931': 'unknown', '-65': 'unknown', '908': 'unknown', '185': 'unknown', '-942': 'unknown', '709': 'unknown', '-985': 'unknown', '-45': 'unknown', '152': 'unknown', '909': 'unknown', '311': 'unknown', '911': 'unknown'})"
   ]
  },
  {
   "cell_type": "code",
   "execution_count": 203,
   "metadata": {
    "scrolled": false
   },
   "outputs": [
    {
     "data": {
      "text/plain": [
       "25-44      2097471\n",
       "unknown    2089090\n",
       "45-64      1090644\n",
       "18-24       663763\n",
       "<18         303729\n",
       "65+         219184\n",
       "Name: VIC_AGE_GROUP_cleaned, dtype: int64"
      ]
     },
     "execution_count": 203,
     "metadata": {},
     "output_type": "execute_result"
    }
   ],
   "source": [
    "nyc_crime['VIC_AGE_GROUP_cleaned'].value_counts()"
   ]
  },
  {
   "cell_type": "code",
   "execution_count": 204,
   "metadata": {
    "scrolled": false
   },
   "outputs": [
    {
     "data": {
      "text/plain": [
       "UNKNOWN                           2177590\n",
       "BLACK                             1534485\n",
       "WHITE                             1121857\n",
       "WHITE HISPANIC                    1029257\n",
       "ASIAN / PACIFIC ISLANDER           358158\n",
       "BLACK HISPANIC                     212930\n",
       "AMERICAN INDIAN/ALASKAN NATIVE      29270\n",
       "unknown                               305\n",
       "OTHER                                  29\n",
       "Name: VIC_RACE, dtype: int64"
      ]
     },
     "execution_count": 204,
     "metadata": {},
     "output_type": "execute_result"
    }
   ],
   "source": [
    "nyc_crime['VIC_RACE'].value_counts()"
   ]
  },
  {
   "cell_type": "code",
   "execution_count": 205,
   "metadata": {},
   "outputs": [],
   "source": [
    "nyc_crime['VIC_RACE_cleaned'] = nyc_crime['VIC_RACE'].map({'UNKNOWN': 'unknown', 'BLACK': 'BLACK', 'WHITE HISPANIC': 'WHITE HISPANIC',\n",
    "                                            'WHITE': 'WHITE', 'BLACK HISPANIC': 'BLACK HISPANIC', \n",
    "                                            'ASIAN / PACIFIC ISLANDER': 'ASIAN / PACIFIC ISLANDER', \n",
    "                                            'AMERICAN INDIAN/ALASKAN NATIVE': 'AMERICAN INDIAN/ALASKAN NATIVE', \n",
    "                                            'unknown': 'unknown', 'OTHER': 'unknown'})"
   ]
  },
  {
   "cell_type": "code",
   "execution_count": 206,
   "metadata": {},
   "outputs": [
    {
     "data": {
      "text/plain": [
       "unknown                           2177924\n",
       "BLACK                             1534485\n",
       "WHITE                             1121857\n",
       "WHITE HISPANIC                    1029257\n",
       "ASIAN / PACIFIC ISLANDER           358158\n",
       "BLACK HISPANIC                     212930\n",
       "AMERICAN INDIAN/ALASKAN NATIVE      29270\n",
       "Name: VIC_RACE_cleaned, dtype: int64"
      ]
     },
     "execution_count": 206,
     "metadata": {},
     "output_type": "execute_result"
    }
   ],
   "source": [
    "nyc_crime['VIC_RACE_cleaned'].value_counts()"
   ]
  },
  {
   "cell_type": "code",
   "execution_count": 207,
   "metadata": {
    "scrolled": true
   },
   "outputs": [
    {
     "data": {
      "text/plain": [
       "F          2522209\n",
       "M          2107583\n",
       "E          1064241\n",
       "D           769540\n",
       "unknown        304\n",
       "U                4\n",
       "Name: VIC_SEX, dtype: int64"
      ]
     },
     "execution_count": 207,
     "metadata": {},
     "output_type": "execute_result"
    }
   ],
   "source": [
    "nyc_crime['VIC_SEX'].value_counts()"
   ]
  },
  {
   "cell_type": "code",
   "execution_count": 208,
   "metadata": {},
   "outputs": [],
   "source": [
    "nyc_crime['VIC_SEX_cleaned'] = nyc_crime['VIC_SEX'].map({'E': 'unknown', 'M': 'M', 'D': 'unknown', 'F': 'F', \n",
    "                                                      'unknown': 'unknown', 'U': 'unknown'})"
   ]
  },
  {
   "cell_type": "code",
   "execution_count": 209,
   "metadata": {
    "scrolled": true
   },
   "outputs": [
    {
     "data": {
      "text/plain": [
       "F          2522209\n",
       "M          2107583\n",
       "unknown    1834089\n",
       "Name: VIC_SEX_cleaned, dtype: int64"
      ]
     },
     "execution_count": 209,
     "metadata": {},
     "output_type": "execute_result"
    }
   ],
   "source": [
    "nyc_crime['VIC_SEX_cleaned'].value_counts()"
   ]
  },
  {
   "cell_type": "markdown",
   "metadata": {},
   "source": [
    "The old uncleaned suspect and victim age group, race, and sex variables are dropped from the DataFrame as they are not needed. The 'JURISDICTION_CODE' variable is also dropped as it had numerical codes that were not labelled, and therefore meaningless. Also, a jurisdiction code variable with text labels also exists, so the numerical code isn't needed."
   ]
  },
  {
   "cell_type": "code",
   "execution_count": 210,
   "metadata": {},
   "outputs": [],
   "source": [
    "nyc_crime = nyc_crime.drop(columns=['SUSP_AGE_GROUP', 'SUSP_RACE', 'SUSP_SEX', 'VIC_AGE_GROUP', 'VIC_RACE', 'VIC_SEX', 'JURISDICTION_CODE'])"
   ]
  },
  {
   "cell_type": "markdown",
   "metadata": {},
   "source": [
    "The next set of cells creates a feature labelling crimes as cannabis crimes or non-cannabis crimes, and the type of cannabis crime as well. This needs to be done before the sampling or the filtering, so it carries throughout without repetitive work."
   ]
  },
  {
   "cell_type": "code",
   "execution_count": 211,
   "metadata": {},
   "outputs": [],
   "source": [
    "cannabis_crime = (nyc_crime.PD_CD == 566.0) | (nyc_crime.PD_CD == 567.0) | (nyc_crime.PD_CD == 568.0) | (nyc_crime.PD_CD == 569.0) | (nyc_crime.PD_CD == 570.0)"
   ]
  },
  {
   "cell_type": "code",
   "execution_count": 212,
   "metadata": {},
   "outputs": [],
   "source": [
    "nyc_crime['cannabis_crime'] = cannabis_crime.astype(int)"
   ]
  },
  {
   "cell_type": "code",
   "execution_count": 213,
   "metadata": {},
   "outputs": [
    {
     "data": {
      "text/plain": [
       "0    6243575\n",
       "1     220306\n",
       "Name: cannabis_crime, dtype: int64"
      ]
     },
     "execution_count": 213,
     "metadata": {},
     "output_type": "execute_result"
    }
   ],
   "source": [
    "nyc_crime['cannabis_crime'].value_counts()"
   ]
  },
  {
   "cell_type": "code",
   "execution_count": 214,
   "metadata": {},
   "outputs": [],
   "source": [
    "cann_poss = (nyc_crime.PD_CD == 566.0) | (nyc_crime.PD_CD == 567.0) | (nyc_crime.PD_CD == 568.0)"
   ]
  },
  {
   "cell_type": "code",
   "execution_count": 215,
   "metadata": {},
   "outputs": [],
   "source": [
    "nyc_crime['possession'] = cann_poss.astype(int)"
   ]
  },
  {
   "cell_type": "code",
   "execution_count": 216,
   "metadata": {},
   "outputs": [],
   "source": [
    "cann_sales = (nyc_crime.PD_CD == 569.0) | (nyc_crime.PD_CD == 570.0)"
   ]
  },
  {
   "cell_type": "code",
   "execution_count": 217,
   "metadata": {},
   "outputs": [],
   "source": [
    "nyc_crime['sales'] = cann_sales.astype(int)"
   ]
  },
  {
   "cell_type": "code",
   "execution_count": 218,
   "metadata": {},
   "outputs": [],
   "source": [
    "misdemeanor = nyc_crime.LAW_CAT_CD == 'MISDEMEANOR'"
   ]
  },
  {
   "cell_type": "code",
   "execution_count": 219,
   "metadata": {},
   "outputs": [],
   "source": [
    "nyc_crime['misdemeanor'] = misdemeanor.astype(int)"
   ]
  },
  {
   "cell_type": "code",
   "execution_count": 220,
   "metadata": {},
   "outputs": [],
   "source": [
    "violation = nyc_crime.LAW_CAT_CD == 'VIOLATION'"
   ]
  },
  {
   "cell_type": "code",
   "execution_count": 221,
   "metadata": {},
   "outputs": [],
   "source": [
    "nyc_crime['violation'] = violation.astype(int)"
   ]
  },
  {
   "cell_type": "code",
   "execution_count": 222,
   "metadata": {},
   "outputs": [],
   "source": [
    "felony = nyc_crime.LAW_CAT_CD == 'FELONY'"
   ]
  },
  {
   "cell_type": "code",
   "execution_count": 223,
   "metadata": {},
   "outputs": [],
   "source": [
    "nyc_crime['felony'] = felony.astype(int)"
   ]
  },
  {
   "cell_type": "code",
   "execution_count": 224,
   "metadata": {},
   "outputs": [],
   "source": [
    "misd_poss = (nyc_crime.misdemeanor == 1) & (nyc_crime.possession == 1)"
   ]
  },
  {
   "cell_type": "code",
   "execution_count": 225,
   "metadata": {},
   "outputs": [],
   "source": [
    "nyc_crime['misd_poss'] = misd_poss.astype(int)"
   ]
  },
  {
   "cell_type": "code",
   "execution_count": 226,
   "metadata": {},
   "outputs": [
    {
     "data": {
      "text/plain": [
       "0    6266655\n",
       "1     197226\n",
       "Name: misd_poss, dtype: int64"
      ]
     },
     "execution_count": 226,
     "metadata": {},
     "output_type": "execute_result"
    }
   ],
   "source": [
    "nyc_crime['misd_poss'].value_counts()"
   ]
  },
  {
   "cell_type": "code",
   "execution_count": 227,
   "metadata": {},
   "outputs": [],
   "source": [
    "viol_poss = (nyc_crime.violation == 1) & (nyc_crime.possession == 1)"
   ]
  },
  {
   "cell_type": "code",
   "execution_count": 228,
   "metadata": {},
   "outputs": [],
   "source": [
    "nyc_crime['viol_poss'] = viol_poss.astype(int)"
   ]
  },
  {
   "cell_type": "code",
   "execution_count": 229,
   "metadata": {},
   "outputs": [
    {
     "data": {
      "text/plain": [
       "0    6457097\n",
       "1       6784\n",
       "Name: viol_poss, dtype: int64"
      ]
     },
     "execution_count": 229,
     "metadata": {},
     "output_type": "execute_result"
    }
   ],
   "source": [
    "nyc_crime['viol_poss'].value_counts()"
   ]
  },
  {
   "cell_type": "code",
   "execution_count": 230,
   "metadata": {},
   "outputs": [],
   "source": [
    "felony_poss = (nyc_crime.felony == 1) & (nyc_crime.possession == 1)"
   ]
  },
  {
   "cell_type": "code",
   "execution_count": 231,
   "metadata": {},
   "outputs": [],
   "source": [
    "nyc_crime['felony_poss'] = felony_poss.astype(int)"
   ]
  },
  {
   "cell_type": "code",
   "execution_count": 232,
   "metadata": {},
   "outputs": [
    {
     "data": {
      "text/plain": [
       "0    6460126\n",
       "1       3755\n",
       "Name: felony_poss, dtype: int64"
      ]
     },
     "execution_count": 232,
     "metadata": {},
     "output_type": "execute_result"
    }
   ],
   "source": [
    "nyc_crime['felony_poss'].value_counts()"
   ]
  },
  {
   "cell_type": "code",
   "execution_count": 233,
   "metadata": {
    "scrolled": true
   },
   "outputs": [],
   "source": [
    "misd_sales = (nyc_crime.misdemeanor == 1) & (nyc_crime.sales == 1)"
   ]
  },
  {
   "cell_type": "code",
   "execution_count": 234,
   "metadata": {},
   "outputs": [],
   "source": [
    "nyc_crime['misd_sales'] = misd_sales.astype(int)"
   ]
  },
  {
   "cell_type": "code",
   "execution_count": 235,
   "metadata": {},
   "outputs": [
    {
     "data": {
      "text/plain": [
       "0    6452455\n",
       "1      11426\n",
       "Name: misd_sales, dtype: int64"
      ]
     },
     "execution_count": 235,
     "metadata": {},
     "output_type": "execute_result"
    }
   ],
   "source": [
    "nyc_crime['misd_sales'].value_counts()"
   ]
  },
  {
   "cell_type": "code",
   "execution_count": 236,
   "metadata": {},
   "outputs": [],
   "source": [
    "felony_sales = (nyc_crime.felony == 1) & (nyc_crime.sales == 1)"
   ]
  },
  {
   "cell_type": "code",
   "execution_count": 237,
   "metadata": {},
   "outputs": [],
   "source": [
    "nyc_crime['felony_sales'] = felony_sales.astype(int)"
   ]
  },
  {
   "cell_type": "code",
   "execution_count": 238,
   "metadata": {
    "scrolled": true
   },
   "outputs": [
    {
     "data": {
      "text/plain": [
       "0    6462766\n",
       "1       1115\n",
       "Name: felony_sales, dtype: int64"
      ]
     },
     "execution_count": 238,
     "metadata": {},
     "output_type": "execute_result"
    }
   ],
   "source": [
    "nyc_crime['felony_sales'].value_counts()"
   ]
  },
  {
   "cell_type": "code",
   "execution_count": 239,
   "metadata": {},
   "outputs": [],
   "source": [
    "nyc_crime = nyc_crime.drop(columns=['possession', 'sales', 'misdemeanor', 'violation', 'felony'])"
   ]
  },
  {
   "cell_type": "markdown",
   "metadata": {},
   "source": [
    "In order to conduct hypothesis testing between cannabis crimes and non-cannabis crimes for just those cases with the suspect's race reported, a subsetted DataFrame of nyc_crime is created, called \"nyc_crime_race_reported\"."
   ]
  },
  {
   "cell_type": "code",
   "execution_count": 240,
   "metadata": {},
   "outputs": [],
   "source": [
    "nyc_crime_race_reported = nyc_crime[nyc_crime.SUSP_RACE_cleaned != 'unknown']"
   ]
  },
  {
   "cell_type": "code",
   "execution_count": 241,
   "metadata": {},
   "outputs": [
    {
     "data": {
      "text/plain": [
       "(2419233, 129)"
      ]
     },
     "execution_count": 241,
     "metadata": {},
     "output_type": "execute_result"
    }
   ],
   "source": [
    "nyc_crime_race_reported.shape"
   ]
  },
  {
   "cell_type": "code",
   "execution_count": 242,
   "metadata": {},
   "outputs": [
    {
     "data": {
      "text/plain": [
       "(6463881, 129)"
      ]
     },
     "execution_count": 242,
     "metadata": {},
     "output_type": "execute_result"
    }
   ],
   "source": [
    "nyc_crime.shape"
   ]
  },
  {
   "cell_type": "markdown",
   "metadata": {},
   "source": [
    "The next several code cells sample a DataFrame of NYC crimes generally, for hypothesis testing in section 8. Even though it is large, a 10% sample is taken. The entire cleaned DataFrame is 6,463,881 records, so 646,388 records are sampled."
   ]
  },
  {
   "cell_type": "code",
   "execution_count": 243,
   "metadata": {},
   "outputs": [],
   "source": [
    "nyc_crime_sample = nyc_crime.sample(n=646388, random_state=42, axis=0)"
   ]
  },
  {
   "cell_type": "code",
   "execution_count": 244,
   "metadata": {},
   "outputs": [
    {
     "data": {
      "text/plain": [
       "(646388, 129)"
      ]
     },
     "execution_count": 244,
     "metadata": {},
     "output_type": "execute_result"
    }
   ],
   "source": [
    "nyc_crime_sample.shape"
   ]
  },
  {
   "cell_type": "markdown",
   "metadata": {},
   "source": [
    "Next, PD_CD and LAW_CAT_CD distributions are compared between all non-cannabis crimes and the sample of non-cannabis crimes. This is done to ensure that certain PD_CD and LAW_CAT_CD are not randomly over-represented in the sample."
   ]
  },
  {
   "cell_type": "code",
   "execution_count": 245,
   "metadata": {
    "scrolled": true
   },
   "outputs": [
    {
     "data": {
      "text/plain": [
       "101.0      8.701800e-02\n",
       "638.0      7.911238e-02\n",
       "639.0      5.252232e-02\n",
       "333.0      4.664937e-02\n",
       "637.0      4.514888e-02\n",
       "338.0      4.312440e-02\n",
       "254.0      3.567671e-02\n",
       "321.0      3.291877e-02\n",
       "109.0      3.101914e-02\n",
       "567.0      3.051201e-02\n",
       "259.0      2.832014e-02\n",
       "438.0      2.011098e-02\n",
       "258.0      1.873116e-02\n",
       "511.0      1.818629e-02\n",
       "397.0      1.679270e-02\n",
       "441.0      1.624164e-02\n",
       "339.0      1.542773e-02\n",
       "221.0      1.441518e-02\n",
       "113.0      1.412572e-02\n",
       "905.0      1.370183e-02\n",
       "782.0      1.314798e-02\n",
       "198.0      1.199403e-02\n",
       "205.0      1.053113e-02\n",
       "739.0      9.983940e-03\n",
       "421.0      9.730841e-03\n",
       "916.0      8.836178e-03\n",
       "729.0      8.484222e-03\n",
       "793.0      7.995506e-03\n",
       "419.0      7.915214e-03\n",
       "223.0      7.614002e-03\n",
       "405.0      7.316502e-03\n",
       "267.0      7.292523e-03\n",
       "349.0      7.271483e-03\n",
       "269.0      6.760335e-03\n",
       "357.0      6.264812e-03\n",
       "749.0      6.242380e-03\n",
       "343.0      5.963290e-03\n",
       "175.0      5.494068e-03\n",
       "439.0      5.419500e-03\n",
       "386.0      5.148919e-03\n",
       "750.0      5.059499e-03\n",
       "759.0      4.690062e-03\n",
       "213.0      4.617505e-03\n",
       "503.0      3.911427e-03\n",
       "106.0      3.545393e-03\n",
       "490.0      3.520486e-03\n",
       "117.0      3.517082e-03\n",
       "718.0      3.440967e-03\n",
       "705.0      3.223760e-03\n",
       "114.0      3.218190e-03\n",
       "748.0      3.194830e-03\n",
       "922.0      3.160795e-03\n",
       "105.0      3.139600e-03\n",
       "388.0      3.053119e-03\n",
       "681.0      2.980717e-03\n",
       "433.0      2.973136e-03\n",
       "403.0      2.966948e-03\n",
       "462.0      2.910326e-03\n",
       "415.0      2.700545e-03\n",
       "224.0      2.676411e-03\n",
       "707.0      2.574614e-03\n",
       "457.0      2.481636e-03\n",
       "211.0      2.282684e-03\n",
       "412.0      2.219255e-03\n",
       "478.0      2.167119e-03\n",
       "760.0      2.098894e-03\n",
       "500.0      2.082804e-03\n",
       "399.0      1.973118e-03\n",
       "792.0      1.950531e-03\n",
       "115.0      1.945426e-03\n",
       "878.0      1.896693e-03\n",
       "569.0      1.767669e-03\n",
       "157.0      1.745391e-03\n",
       "313.0      1.696349e-03\n",
       "384.0      1.655971e-03\n",
       "661.0      1.644368e-03\n",
       "263.0      1.624256e-03\n",
       "451.0      1.605073e-03\n",
       "301.0      1.578618e-03\n",
       "417.0      1.563612e-03\n",
       "404.0      1.537776e-03\n",
       "424.0      1.443405e-03\n",
       "401.0      1.427935e-03\n",
       "494.0      1.413083e-03\n",
       "389.0      1.383070e-03\n",
       "407.0      1.367599e-03\n",
       "203.0      1.336968e-03\n",
       "422.0      1.289628e-03\n",
       "305.0      1.249249e-03\n",
       "256.0      1.223568e-03\n",
       "398.0      1.198815e-03\n",
       "406.0      1.189069e-03\n",
       "425.0      1.124866e-03\n",
       "649.0      1.116976e-03\n",
       "461.0      1.110478e-03\n",
       "402.0      1.073813e-03\n",
       "303.0      1.059580e-03\n",
       "566.0      1.049524e-03\n",
       "307.0      1.046740e-03\n",
       "521.0      1.010538e-03\n",
       "411.0      1.004195e-03\n",
       "443.0      9.959961e-04\n",
       "410.0      9.921284e-04\n",
       "231.0      9.876419e-04\n",
       "382.0      9.851667e-04\n",
       "418.0      9.375173e-04\n",
       "420.0      9.096702e-04\n",
       "273.0      8.842985e-04\n",
       "847.0      8.671261e-04\n",
       "725.0      8.334002e-04\n",
       "264.0      8.265932e-04\n",
       "214.0      8.210238e-04\n",
       "268.0      8.101944e-04\n",
       "515.0      8.074097e-04\n",
       "416.0      7.744573e-04\n",
       "unknown    7.599150e-04\n",
       "640.0      6.967950e-04\n",
       "510.0      6.825621e-04\n",
       "723.0      6.810150e-04\n",
       "168.0      6.641521e-04\n",
       "409.0      6.506927e-04\n",
       "501.0      6.474438e-04\n",
       "779.0      6.448139e-04\n",
       "390.0      6.265586e-04\n",
       "475.0      6.169668e-04\n",
       "179.0      6.021150e-04\n",
       "170.0      5.923686e-04\n",
       "809.0      5.855615e-04\n",
       "568.0      5.809203e-04\n",
       "430.0      5.793733e-04\n",
       "233.0      5.717927e-04\n",
       "361.0      5.519904e-04\n",
       "414.0      5.425533e-04\n",
       "408.0      5.406968e-04\n",
       "209.0      5.117668e-04\n",
       "413.0      5.032580e-04\n",
       "367.0      5.014016e-04\n",
       "466.0      5.003186e-04\n",
       "177.0      4.936663e-04\n",
       "243.0      4.854669e-04\n",
       "437.0      4.774222e-04\n",
       "377.0      4.416851e-04\n",
       "512.0      4.302369e-04\n",
       "204.0      4.215734e-04\n",
       "708.0      4.192528e-04\n",
       "335.0      4.118269e-04\n",
       "396.0      4.070310e-04\n",
       "347.0      4.040916e-04\n",
       "201.0      3.787198e-04\n",
       "153.0      3.737693e-04\n",
       "508.0      3.658793e-04\n",
       "493.0      3.550499e-04\n",
       "505.0      3.333910e-04\n",
       "380.0      3.299875e-04\n",
       "366.0      3.163734e-04\n",
       "489.0      3.135887e-04\n",
       "181.0      3.098758e-04\n",
       "392.0      3.095663e-04\n",
       "159.0      3.087928e-04\n",
       "544.0      3.064722e-04\n",
       "199.0      3.036875e-04\n",
       "432.0      2.984275e-04\n",
       "744.0      2.930128e-04\n",
       "502.0      2.879075e-04\n",
       "391.0      2.845040e-04\n",
       "155.0      2.797081e-04\n",
       "507.0      2.674864e-04\n",
       "277.0      2.674864e-04\n",
       "241.0      2.571211e-04\n",
       "244.0      2.544911e-04\n",
       "848.0      2.414958e-04\n",
       "197.0      2.390205e-04\n",
       "426.0      2.178258e-04\n",
       "428.0      2.148864e-04\n",
       "683.0      2.130299e-04\n",
       "596.0      1.995705e-04\n",
       "442.0      1.960123e-04\n",
       "191.0      1.913711e-04\n",
       "731.0      1.910617e-04\n",
       "455.0      1.910617e-04\n",
       "183.0      1.771382e-04\n",
       "665.0      1.768288e-04\n",
       "570.0      1.724970e-04\n",
       "802.0      1.687840e-04\n",
       "375.0      1.666182e-04\n",
       "643.0      1.638335e-04\n",
       "730.0      1.596564e-04\n",
       "271.0      1.588829e-04\n",
       "110.0      1.568717e-04\n",
       "625.0      1.530041e-04\n",
       "383.0      1.492911e-04\n",
       "514.0      1.474346e-04\n",
       "379.0      1.465064e-04\n",
       "111.0      1.444952e-04\n",
       "193.0      1.420199e-04\n",
       "112.0      1.417105e-04\n",
       "918.0      1.410917e-04\n",
       "234.0      1.396994e-04\n",
       "644.0      1.376882e-04\n",
       "724.0      1.372241e-04\n",
       "907.0      1.345941e-04\n",
       "652.0      1.307264e-04\n",
       "435.0      1.299529e-04\n",
       "761.0      1.099958e-04\n",
       "509.0      1.098411e-04\n",
       "764.0      1.047358e-04\n",
       "450.0      1.042717e-04\n",
       "727.0      9.684584e-05\n",
       "394.0      9.622702e-05\n",
       "395.0      9.545349e-05\n",
       "781.0      9.158584e-05\n",
       "360.0      9.065761e-05\n",
       "788.0      8.880114e-05\n",
       "808.0      8.555232e-05\n",
       "565.0      8.539761e-05\n",
       "266.0      8.493349e-05\n",
       "647.0      8.152997e-05\n",
       "772.0      8.075644e-05\n",
       "363.0      7.781703e-05\n",
       "341.0      7.750762e-05\n",
       "519.0      7.688879e-05\n",
       "520.0      7.596056e-05\n",
       "703.0      7.534173e-05\n",
       "387.0      7.286644e-05\n",
       "164.0      6.729703e-05\n",
       "548.0      6.652350e-05\n",
       "479.0      6.605938e-05\n",
       "695.0      6.544056e-05\n",
       "477.0      6.389350e-05\n",
       "464.0      6.358409e-05\n",
       "858.0      6.002586e-05\n",
       "185.0      5.987115e-05\n",
       "879.0      5.956174e-05\n",
       "108.0      5.693174e-05\n",
       "812.0      5.600351e-05\n",
       "659.0      5.600351e-05\n",
       "799.0      5.522998e-05\n",
       "696.0      5.136233e-05\n",
       "434.0      5.058880e-05\n",
       "329.0      5.027939e-05\n",
       "174.0      4.826822e-05\n",
       "350.0      4.703057e-05\n",
       "431.0      4.594763e-05\n",
       "770.0      4.563822e-05\n",
       "180.0      4.548351e-05\n",
       "826.0      4.486469e-05\n",
       "762.0      4.424586e-05\n",
       "166.0      4.053292e-05\n",
       "371.0      4.022351e-05\n",
       "789.0      4.006881e-05\n",
       "104.0      3.944998e-05\n",
       "524.0      3.944998e-05\n",
       "817.0      3.898587e-05\n",
       "447.0      3.852175e-05\n",
       "498.0      3.836704e-05\n",
       "351.0      3.759351e-05\n",
       "633.0      3.743881e-05\n",
       "610.0      3.635587e-05\n",
       "344.0      3.573704e-05\n",
       "385.0      3.511822e-05\n",
       "849.0      3.388057e-05\n",
       "365.0      3.372587e-05\n",
       "853.0      3.341646e-05\n",
       "711.0      3.341646e-05\n",
       "862.0      3.341646e-05\n",
       "393.0      3.202410e-05\n",
       "818.0      3.186940e-05\n",
       "594.0      3.171469e-05\n",
       "187.0      3.125058e-05\n",
       "531.0      3.047705e-05\n",
       "261.0      2.954881e-05\n",
       "742.0      2.954881e-05\n",
       "563.0      2.892999e-05\n",
       "331.0      2.877528e-05\n",
       "899.0      2.831116e-05\n",
       "323.0      2.645469e-05\n",
       "719.0      2.629999e-05\n",
       "195.0      2.552646e-05\n",
       "688.0      2.444352e-05\n",
       "672.0      2.413411e-05\n",
       "645.0      2.413411e-05\n",
       "880.0      2.336058e-05\n",
       "125.0      2.336058e-05\n",
       "874.0      2.320587e-05\n",
       "841.0      2.305117e-05\n",
       "491.0      2.274176e-05\n",
       "844.0      2.196823e-05\n",
       "176.0      2.196823e-05\n",
       "674.0      2.119470e-05\n",
       "423.0      2.057587e-05\n",
       "701.0      1.825529e-05\n",
       "293.0      1.825529e-05\n",
       "829.0      1.794587e-05\n",
       "766.0      1.670823e-05\n",
       "576.0      1.655352e-05\n",
       "706.0      1.593470e-05\n",
       "687.0      1.547058e-05\n",
       "663.0      1.469705e-05\n",
       "537.0      1.454235e-05\n",
       "746.0      1.454235e-05\n",
       "591.0      1.376882e-05\n",
       "122.0      1.299529e-05\n",
       "557.0      1.284058e-05\n",
       "754.0      1.237647e-05\n",
       "445.0      1.067470e-05\n",
       "698.0      1.052000e-05\n",
       "327.0      1.052000e-05\n",
       "586.0      1.036529e-05\n",
       "605.0      1.021058e-05\n",
       "595.0      1.005588e-05\n",
       "721.0      9.591761e-06\n",
       "107.0      9.282349e-06\n",
       "373.0      9.282349e-06\n",
       "904.0      8.818232e-06\n",
       "877.0      8.508820e-06\n",
       "890.0      8.354114e-06\n",
       "888.0      8.199408e-06\n",
       "641.0      8.199408e-06\n",
       "662.0      8.044703e-06\n",
       "627.0      7.889997e-06\n",
       "532.0      7.889997e-06\n",
       "297.0      7.889997e-06\n",
       "780.0      7.425879e-06\n",
       "429.0      7.271173e-06\n",
       "291.0      7.271173e-06\n",
       "529.0      6.961762e-06\n",
       "553.0      6.807056e-06\n",
       "103.0      6.652350e-06\n",
       "887.0      6.342939e-06\n",
       "811.0      6.342939e-06\n",
       "265.0      6.188233e-06\n",
       "186.0      6.033527e-06\n",
       "892.0      5.878821e-06\n",
       "585.0      5.724115e-06\n",
       "803.0      5.414704e-06\n",
       "587.0      5.414704e-06\n",
       "876.0      5.414704e-06\n",
       "533.0      5.414704e-06\n",
       "889.0      5.259998e-06\n",
       "289.0      5.259998e-06\n",
       "248.0      5.105292e-06\n",
       "102.0      4.950586e-06\n",
       "669.0      4.795880e-06\n",
       "775.0      4.795880e-06\n",
       "381.0      4.795880e-06\n",
       "843.0      4.331763e-06\n",
       "697.0      4.331763e-06\n",
       "593.0      4.022351e-06\n",
       "530.0      4.022351e-06\n",
       "285.0      4.022351e-06\n",
       "345.0      3.867645e-06\n",
       "283.0      3.558234e-06\n",
       "604.0      3.558234e-06\n",
       "275.0      3.403528e-06\n",
       "872.0      3.248822e-06\n",
       "619.0      3.248822e-06\n",
       "756.0      3.094116e-06\n",
       "797.0      3.094116e-06\n",
       "815.0      3.094116e-06\n",
       "476.0      3.094116e-06\n",
       "588.0      2.939411e-06\n",
       "584.0      2.939411e-06\n",
       "691.0      2.784705e-06\n",
       "342.0      2.784705e-06\n",
       "864.0      2.629999e-06\n",
       "664.0      2.629999e-06\n",
       "281.0      2.629999e-06\n",
       "602.0      2.475293e-06\n",
       "121.0      2.475293e-06\n",
       "846.0      2.475293e-06\n",
       "299.0      2.475293e-06\n",
       "733.0      2.320587e-06\n",
       "436.0      2.320587e-06\n",
       "969.0      2.165881e-06\n",
       "715.0      2.165881e-06\n",
       "648.0      2.011176e-06\n",
       "784.0      2.011176e-06\n",
       "821.0      1.856470e-06\n",
       "468.0      1.701764e-06\n",
       "822.0      1.547058e-06\n",
       "840.0      1.547058e-06\n",
       "827.0      1.547058e-06\n",
       "618.0      1.547058e-06\n",
       "866.0      1.547058e-06\n",
       "845.0      1.392352e-06\n",
       "868.0      1.392352e-06\n",
       "561.0      1.237647e-06\n",
       "143.0      1.082941e-06\n",
       "798.0      9.282349e-07\n",
       "693.0      9.282349e-07\n",
       "513.0      9.282349e-07\n",
       "355.0      7.735291e-07\n",
       "737.0      7.735291e-07\n",
       "178.0      7.735291e-07\n",
       "574.0      7.735291e-07\n",
       "119.0      6.188233e-07\n",
       "786.0      6.188233e-07\n",
       "427.0      6.188233e-07\n",
       "813.0      6.188233e-07\n",
       "814.0      6.188233e-07\n",
       "523.0      6.188233e-07\n",
       "783.0      4.641175e-07\n",
       "785.0      4.641175e-07\n",
       "861.0      4.641175e-07\n",
       "685.0      4.641175e-07\n",
       "162.0      4.641175e-07\n",
       "796.0      4.641175e-07\n",
       "589.0      4.641175e-07\n",
       "694.0      4.641175e-07\n",
       "689.0      4.641175e-07\n",
       "622.0      4.641175e-07\n",
       "646.0      4.641175e-07\n",
       "860.0      3.094116e-07\n",
       "614.0      3.094116e-07\n",
       "787.0      3.094116e-07\n",
       "820.0      3.094116e-07\n",
       "836.0      3.094116e-07\n",
       "184.0      3.094116e-07\n",
       "522.0      1.547058e-07\n",
       "819.0      1.547058e-07\n",
       "148.0      1.547058e-07\n",
       "667.0      1.547058e-07\n",
       "839.0      1.547058e-07\n",
       "146.0      1.547058e-07\n",
       "678.0      1.547058e-07\n",
       "885.0      1.547058e-07\n",
       "975.0      1.547058e-07\n",
       "Name: PD_CD, dtype: float64"
      ]
     },
     "execution_count": 245,
     "metadata": {},
     "output_type": "execute_result"
    }
   ],
   "source": [
    "nyc_crime.PD_CD.value_counts(normalize=True)"
   ]
  },
  {
   "cell_type": "code",
   "execution_count": 246,
   "metadata": {
    "scrolled": true
   },
   "outputs": [
    {
     "data": {
      "text/plain": [
       "101.0      0.086747\n",
       "638.0      0.079031\n",
       "639.0      0.052560\n",
       "333.0      0.046811\n",
       "637.0      0.045239\n",
       "338.0      0.043112\n",
       "254.0      0.035476\n",
       "321.0      0.033276\n",
       "109.0      0.030994\n",
       "567.0      0.030720\n",
       "259.0      0.028099\n",
       "438.0      0.020322\n",
       "511.0      0.018385\n",
       "258.0      0.018353\n",
       "397.0      0.017038\n",
       "441.0      0.016453\n",
       "339.0      0.015458\n",
       "221.0      0.014368\n",
       "113.0      0.014207\n",
       "905.0      0.013637\n",
       "782.0      0.013261\n",
       "198.0      0.011816\n",
       "205.0      0.010648\n",
       "739.0      0.009886\n",
       "421.0      0.009731\n",
       "916.0      0.008739\n",
       "729.0      0.008486\n",
       "419.0      0.007997\n",
       "793.0      0.007704\n",
       "223.0      0.007522\n",
       "405.0      0.007468\n",
       "267.0      0.007321\n",
       "349.0      0.007256\n",
       "269.0      0.006716\n",
       "357.0      0.006241\n",
       "749.0      0.006174\n",
       "343.0      0.005935\n",
       "175.0      0.005622\n",
       "439.0      0.005353\n",
       "386.0      0.005087\n",
       "750.0      0.005079\n",
       "759.0      0.004678\n",
       "213.0      0.004544\n",
       "503.0      0.003869\n",
       "106.0      0.003583\n",
       "117.0      0.003546\n",
       "718.0      0.003458\n",
       "490.0      0.003451\n",
       "705.0      0.003283\n",
       "114.0      0.003229\n",
       "105.0      0.003209\n",
       "922.0      0.003192\n",
       "748.0      0.003173\n",
       "388.0      0.003037\n",
       "681.0      0.002956\n",
       "403.0      0.002932\n",
       "462.0      0.002904\n",
       "433.0      0.002820\n",
       "415.0      0.002726\n",
       "224.0      0.002574\n",
       "707.0      0.002557\n",
       "457.0      0.002395\n",
       "211.0      0.002268\n",
       "478.0      0.002200\n",
       "412.0      0.002184\n",
       "760.0      0.002132\n",
       "500.0      0.002047\n",
       "399.0      0.001921\n",
       "878.0      0.001918\n",
       "792.0      0.001917\n",
       "115.0      0.001898\n",
       "157.0      0.001869\n",
       "569.0      0.001835\n",
       "384.0      0.001717\n",
       "661.0      0.001691\n",
       "263.0      0.001665\n",
       "313.0      0.001657\n",
       "451.0      0.001646\n",
       "417.0      0.001572\n",
       "301.0      0.001549\n",
       "404.0      0.001504\n",
       "494.0      0.001481\n",
       "424.0      0.001439\n",
       "401.0      0.001434\n",
       "203.0      0.001388\n",
       "389.0      0.001386\n",
       "407.0      0.001320\n",
       "305.0      0.001244\n",
       "422.0      0.001239\n",
       "256.0      0.001193\n",
       "398.0      0.001166\n",
       "425.0      0.001157\n",
       "406.0      0.001145\n",
       "649.0      0.001136\n",
       "461.0      0.001108\n",
       "303.0      0.001108\n",
       "566.0      0.001100\n",
       "402.0      0.001078\n",
       "382.0      0.001047\n",
       "411.0      0.001033\n",
       "307.0      0.001032\n",
       "410.0      0.001010\n",
       "443.0      0.000998\n",
       "521.0      0.000984\n",
       "231.0      0.000967\n",
       "418.0      0.000962\n",
       "420.0      0.000924\n",
       "847.0      0.000908\n",
       "273.0      0.000885\n",
       "214.0      0.000873\n",
       "264.0      0.000866\n",
       "725.0      0.000845\n",
       "268.0      0.000843\n",
       "515.0      0.000809\n",
       "unknown    0.000761\n",
       "416.0      0.000749\n",
       "640.0      0.000705\n",
       "501.0      0.000676\n",
       "723.0      0.000665\n",
       "168.0      0.000665\n",
       "779.0      0.000645\n",
       "510.0      0.000633\n",
       "390.0      0.000623\n",
       "409.0      0.000622\n",
       "179.0      0.000620\n",
       "170.0      0.000608\n",
       "475.0      0.000585\n",
       "568.0      0.000582\n",
       "430.0      0.000582\n",
       "209.0      0.000563\n",
       "233.0      0.000558\n",
       "809.0      0.000549\n",
       "361.0      0.000538\n",
       "414.0      0.000538\n",
       "408.0      0.000534\n",
       "243.0      0.000526\n",
       "466.0      0.000500\n",
       "177.0      0.000495\n",
       "437.0      0.000486\n",
       "413.0      0.000483\n",
       "367.0      0.000467\n",
       "512.0      0.000441\n",
       "708.0      0.000421\n",
       "335.0      0.000408\n",
       "396.0      0.000407\n",
       "377.0      0.000398\n",
       "201.0      0.000396\n",
       "347.0      0.000394\n",
       "204.0      0.000390\n",
       "153.0      0.000384\n",
       "508.0      0.000367\n",
       "493.0      0.000362\n",
       "505.0      0.000345\n",
       "489.0      0.000331\n",
       "181.0      0.000317\n",
       "366.0      0.000317\n",
       "392.0      0.000317\n",
       "380.0      0.000311\n",
       "744.0      0.000311\n",
       "544.0      0.000309\n",
       "502.0      0.000305\n",
       "848.0      0.000295\n",
       "432.0      0.000292\n",
       "159.0      0.000286\n",
       "199.0      0.000274\n",
       "391.0      0.000263\n",
       "426.0      0.000258\n",
       "244.0      0.000257\n",
       "155.0      0.000249\n",
       "507.0      0.000246\n",
       "277.0      0.000241\n",
       "241.0      0.000237\n",
       "197.0      0.000235\n",
       "375.0      0.000204\n",
       "428.0      0.000204\n",
       "455.0      0.000203\n",
       "683.0      0.000200\n",
       "596.0      0.000195\n",
       "191.0      0.000193\n",
       "570.0      0.000190\n",
       "183.0      0.000189\n",
       "665.0      0.000186\n",
       "731.0      0.000172\n",
       "643.0      0.000170\n",
       "802.0      0.000170\n",
       "442.0      0.000169\n",
       "514.0      0.000159\n",
       "918.0      0.000159\n",
       "379.0      0.000158\n",
       "907.0      0.000153\n",
       "271.0      0.000153\n",
       "110.0      0.000153\n",
       "112.0      0.000144\n",
       "730.0      0.000144\n",
       "193.0      0.000141\n",
       "625.0      0.000141\n",
       "111.0      0.000141\n",
       "644.0      0.000135\n",
       "724.0      0.000133\n",
       "383.0      0.000133\n",
       "435.0      0.000130\n",
       "234.0      0.000124\n",
       "764.0      0.000118\n",
       "509.0      0.000114\n",
       "761.0      0.000114\n",
       "652.0      0.000110\n",
       "360.0      0.000105\n",
       "727.0      0.000099\n",
       "450.0      0.000096\n",
       "808.0      0.000093\n",
       "565.0      0.000091\n",
       "266.0      0.000088\n",
       "395.0      0.000087\n",
       "647.0      0.000087\n",
       "703.0      0.000085\n",
       "519.0      0.000085\n",
       "781.0      0.000085\n",
       "394.0      0.000085\n",
       "341.0      0.000079\n",
       "387.0      0.000077\n",
       "788.0      0.000074\n",
       "520.0      0.000073\n",
       "659.0      0.000071\n",
       "164.0      0.000071\n",
       "772.0      0.000070\n",
       "363.0      0.000068\n",
       "479.0      0.000065\n",
       "548.0      0.000063\n",
       "695.0      0.000063\n",
       "799.0      0.000057\n",
       "180.0      0.000057\n",
       "879.0      0.000056\n",
       "464.0      0.000054\n",
       "385.0      0.000053\n",
       "477.0      0.000053\n",
       "696.0      0.000053\n",
       "185.0      0.000051\n",
       "350.0      0.000051\n",
       "329.0      0.000050\n",
       "858.0      0.000048\n",
       "393.0      0.000046\n",
       "812.0      0.000045\n",
       "853.0      0.000045\n",
       "431.0      0.000045\n",
       "434.0      0.000043\n",
       "108.0      0.000043\n",
       "174.0      0.000043\n",
       "531.0      0.000042\n",
       "789.0      0.000042\n",
       "371.0      0.000042\n",
       "351.0      0.000042\n",
       "770.0      0.000042\n",
       "365.0      0.000040\n",
       "742.0      0.000040\n",
       "826.0      0.000040\n",
       "498.0      0.000040\n",
       "817.0      0.000039\n",
       "166.0      0.000039\n",
       "187.0      0.000037\n",
       "818.0      0.000036\n",
       "261.0      0.000036\n",
       "344.0      0.000036\n",
       "849.0      0.000036\n",
       "633.0      0.000036\n",
       "762.0      0.000036\n",
       "524.0      0.000034\n",
       "104.0      0.000034\n",
       "610.0      0.000032\n",
       "594.0      0.000032\n",
       "447.0      0.000032\n",
       "862.0      0.000031\n",
       "899.0      0.000031\n",
       "719.0      0.000031\n",
       "563.0      0.000029\n",
       "711.0      0.000028\n",
       "423.0      0.000028\n",
       "331.0      0.000028\n",
       "874.0      0.000026\n",
       "645.0      0.000025\n",
       "844.0      0.000025\n",
       "841.0      0.000025\n",
       "880.0      0.000025\n",
       "176.0      0.000025\n",
       "672.0      0.000023\n",
       "491.0      0.000023\n",
       "323.0      0.000022\n",
       "688.0      0.000022\n",
       "721.0      0.000020\n",
       "195.0      0.000019\n",
       "293.0      0.000019\n",
       "674.0      0.000019\n",
       "125.0      0.000019\n",
       "687.0      0.000017\n",
       "576.0      0.000015\n",
       "591.0      0.000015\n",
       "754.0      0.000014\n",
       "537.0      0.000014\n",
       "663.0      0.000014\n",
       "429.0      0.000014\n",
       "746.0      0.000012\n",
       "327.0      0.000012\n",
       "698.0      0.000012\n",
       "445.0      0.000012\n",
       "289.0      0.000012\n",
       "803.0      0.000011\n",
       "904.0      0.000011\n",
       "107.0      0.000011\n",
       "605.0      0.000011\n",
       "641.0      0.000011\n",
       "291.0      0.000009\n",
       "877.0      0.000009\n",
       "102.0      0.000009\n",
       "766.0      0.000009\n",
       "811.0      0.000009\n",
       "557.0      0.000009\n",
       "780.0      0.000009\n",
       "122.0      0.000009\n",
       "586.0      0.000009\n",
       "373.0      0.000009\n",
       "627.0      0.000009\n",
       "595.0      0.000008\n",
       "829.0      0.000008\n",
       "888.0      0.000008\n",
       "889.0      0.000008\n",
       "533.0      0.000008\n",
       "697.0      0.000008\n",
       "529.0      0.000008\n",
       "701.0      0.000008\n",
       "843.0      0.000008\n",
       "890.0      0.000006\n",
       "275.0      0.000006\n",
       "876.0      0.000006\n",
       "121.0      0.000006\n",
       "706.0      0.000006\n",
       "840.0      0.000005\n",
       "588.0      0.000005\n",
       "186.0      0.000005\n",
       "532.0      0.000005\n",
       "604.0      0.000005\n",
       "553.0      0.000005\n",
       "664.0      0.000005\n",
       "584.0      0.000005\n",
       "381.0      0.000005\n",
       "593.0      0.000005\n",
       "299.0      0.000005\n",
       "248.0      0.000005\n",
       "892.0      0.000005\n",
       "662.0      0.000005\n",
       "587.0      0.000005\n",
       "786.0      0.000003\n",
       "775.0      0.000003\n",
       "887.0      0.000003\n",
       "619.0      0.000003\n",
       "797.0      0.000003\n",
       "846.0      0.000003\n",
       "530.0      0.000003\n",
       "602.0      0.000003\n",
       "342.0      0.000003\n",
       "669.0      0.000003\n",
       "821.0      0.000003\n",
       "297.0      0.000003\n",
       "281.0      0.000003\n",
       "864.0      0.000003\n",
       "265.0      0.000003\n",
       "693.0      0.000003\n",
       "119.0      0.000002\n",
       "103.0      0.000002\n",
       "436.0      0.000002\n",
       "184.0      0.000002\n",
       "872.0      0.000002\n",
       "715.0      0.000002\n",
       "737.0      0.000002\n",
       "756.0      0.000002\n",
       "969.0      0.000002\n",
       "784.0      0.000002\n",
       "787.0      0.000002\n",
       "813.0      0.000002\n",
       "815.0      0.000002\n",
       "820.0      0.000002\n",
       "822.0      0.000002\n",
       "827.0      0.000002\n",
       "285.0      0.000002\n",
       "283.0      0.000002\n",
       "691.0      0.000002\n",
       "836.0      0.000002\n",
       "845.0      0.000002\n",
       "585.0      0.000002\n",
       "589.0      0.000002\n",
       "861.0      0.000002\n",
       "476.0      0.000002\n",
       "Name: PD_CD, dtype: float64"
      ]
     },
     "execution_count": 246,
     "metadata": {},
     "output_type": "execute_result"
    }
   ],
   "source": [
    "nyc_crime_sample.PD_CD.value_counts(normalize=True)"
   ]
  },
  {
   "cell_type": "code",
   "execution_count": 247,
   "metadata": {
    "scrolled": true
   },
   "outputs": [
    {
     "data": {
      "text/plain": [
       "MISDEMEANOR    0.567246\n",
       "FELONY         0.306389\n",
       "VIOLATION      0.126365\n",
       "Name: LAW_CAT_CD, dtype: float64"
      ]
     },
     "execution_count": 247,
     "metadata": {},
     "output_type": "execute_result"
    }
   ],
   "source": [
    "nyc_crime.LAW_CAT_CD.value_counts(normalize=True)"
   ]
  },
  {
   "cell_type": "code",
   "execution_count": 248,
   "metadata": {
    "scrolled": true
   },
   "outputs": [
    {
     "data": {
      "text/plain": [
       "MISDEMEANOR    0.567405\n",
       "FELONY         0.306183\n",
       "VIOLATION      0.126412\n",
       "Name: LAW_CAT_CD, dtype: float64"
      ]
     },
     "execution_count": 248,
     "metadata": {},
     "output_type": "execute_result"
    }
   ],
   "source": [
    "nyc_crime_sample.LAW_CAT_CD.value_counts(normalize=True)"
   ]
  },
  {
   "cell_type": "code",
   "execution_count": 249,
   "metadata": {},
   "outputs": [
    {
     "data": {
      "text/plain": [
       "(2419233, 129)"
      ]
     },
     "execution_count": 249,
     "metadata": {},
     "output_type": "execute_result"
    }
   ],
   "source": [
    "nyc_crime_race_reported.shape"
   ]
  },
  {
   "cell_type": "markdown",
   "metadata": {},
   "source": [
    "The next several code cells sample a DataFrame of NYC crimes with suspect race reported. Even though it is large, a 10% sample is taken. The entire cleaned DataFrame is 2,419,233 records, so 241,923 records are sampled."
   ]
  },
  {
   "cell_type": "code",
   "execution_count": 250,
   "metadata": {},
   "outputs": [],
   "source": [
    "nyc_crime_race_reported_sample = nyc_crime_race_reported.sample(n=241923, random_state=42, axis=0)"
   ]
  },
  {
   "cell_type": "code",
   "execution_count": 251,
   "metadata": {
    "scrolled": true
   },
   "outputs": [
    {
     "data": {
      "text/plain": [
       "(241923, 129)"
      ]
     },
     "execution_count": 251,
     "metadata": {},
     "output_type": "execute_result"
    }
   ],
   "source": [
    "nyc_crime_race_reported_sample.shape"
   ]
  },
  {
   "cell_type": "markdown",
   "metadata": {},
   "source": [
    "Next, PD_CD and LAW_CAT_CD distributions are compared between all non-cannabis crimes and the sample of non-cannabis crimes. This is done to ensure that certain PD_CD and LAW_CAT_CD are not randomly over-represented in the sample."
   ]
  },
  {
   "cell_type": "code",
   "execution_count": 252,
   "metadata": {
    "scrolled": true
   },
   "outputs": [
    {
     "data": {
      "text/plain": [
       "638.0      1.621072e-01\n",
       "101.0      1.299065e-01\n",
       "637.0      9.886853e-02\n",
       "639.0      9.608376e-02\n",
       "333.0      4.528501e-02\n",
       "109.0      4.201786e-02\n",
       "397.0      2.944694e-02\n",
       "259.0      2.457804e-02\n",
       "113.0      2.246952e-02\n",
       "198.0      2.215661e-02\n",
       "338.0      2.198713e-02\n",
       "749.0      1.291566e-02\n",
       "567.0      1.268708e-02\n",
       "386.0      1.008460e-02\n",
       "511.0      9.167782e-03\n",
       "419.0      8.655636e-03\n",
       "254.0      8.461773e-03\n",
       "905.0      7.976495e-03\n",
       "175.0      7.600756e-03\n",
       "339.0      7.138626e-03\n",
       "269.0      6.936083e-03\n",
       "782.0      6.889374e-03\n",
       "438.0      6.410296e-03\n",
       "114.0      6.259009e-03\n",
       "748.0      6.096147e-03\n",
       "729.0      6.045718e-03\n",
       "388.0      5.870869e-03\n",
       "105.0      5.757197e-03\n",
       "205.0      5.146673e-03\n",
       "793.0      4.769694e-03\n",
       "221.0      4.511347e-03\n",
       "433.0      4.086832e-03\n",
       "462.0      3.843780e-03\n",
       "399.0      3.698280e-03\n",
       "916.0      3.435386e-03\n",
       "681.0      3.365943e-03\n",
       "878.0      3.355196e-03\n",
       "321.0      3.316754e-03\n",
       "157.0      3.272938e-03\n",
       "223.0      3.170840e-03\n",
       "267.0      2.993511e-03\n",
       "478.0      2.976977e-03\n",
       "759.0      2.922827e-03\n",
       "384.0      2.893066e-03\n",
       "404.0      2.824862e-03\n",
       "389.0      2.812875e-03\n",
       "106.0      2.711603e-03\n",
       "117.0      2.626452e-03\n",
       "750.0      2.526007e-03\n",
       "258.0      2.391667e-03\n",
       "503.0      2.251540e-03\n",
       "417.0      2.208551e-03\n",
       "922.0      2.126707e-03\n",
       "661.0      2.108933e-03\n",
       "398.0      2.045690e-03\n",
       "313.0      2.028742e-03\n",
       "415.0      2.013861e-03\n",
       "439.0      1.929951e-03\n",
       "707.0      1.857614e-03\n",
       "407.0      1.786930e-03\n",
       "343.0      1.731127e-03\n",
       "382.0      1.712526e-03\n",
       "213.0      1.679458e-03\n",
       "461.0      1.669537e-03\n",
       "441.0      1.646803e-03\n",
       "405.0      1.633576e-03\n",
       "412.0      1.543051e-03\n",
       "115.0      1.477328e-03\n",
       "705.0      1.458313e-03\n",
       "490.0      1.449220e-03\n",
       "203.0      1.372749e-03\n",
       "unknown    1.362829e-03\n",
       "307.0      1.300412e-03\n",
       "390.0      1.274371e-03\n",
       "421.0      1.264864e-03\n",
       "792.0      1.250396e-03\n",
       "211.0      1.199554e-03\n",
       "168.0      1.152431e-03\n",
       "361.0      1.129697e-03\n",
       "500.0      1.091255e-03\n",
       "739.0      1.054466e-03\n",
       "640.0      1.053226e-03\n",
       "273.0      1.044959e-03\n",
       "760.0      1.021811e-03\n",
       "414.0      1.008171e-03\n",
       "403.0      1.006931e-03\n",
       "494.0      9.858496e-04\n",
       "396.0      9.077257e-04\n",
       "170.0      8.428291e-04\n",
       "437.0      8.415890e-04\n",
       "367.0      8.300151e-04\n",
       "179.0      8.089341e-04\n",
       "847.0      8.006670e-04\n",
       "177.0      7.932266e-04\n",
       "569.0      7.754524e-04\n",
       "649.0      7.494111e-04\n",
       "377.0      7.308101e-04\n",
       "725.0      6.981552e-04\n",
       "153.0      6.200312e-04\n",
       "424.0      6.192045e-04\n",
       "380.0      6.138309e-04\n",
       "159.0      5.762157e-04\n",
       "410.0      5.675352e-04\n",
       "779.0      5.654685e-04\n",
       "199.0      5.646418e-04\n",
       "392.0      5.609216e-04\n",
       "521.0      5.559613e-04\n",
       "303.0      5.476942e-04\n",
       "708.0      5.456275e-04\n",
       "201.0      5.381871e-04\n",
       "413.0      5.336402e-04\n",
       "391.0      5.199995e-04\n",
       "366.0      5.154526e-04\n",
       "475.0      5.055321e-04\n",
       "566.0      5.005719e-04\n",
       "406.0      4.964383e-04\n",
       "411.0      4.885846e-04\n",
       "466.0      4.852778e-04\n",
       "155.0      4.654368e-04\n",
       "723.0      4.327818e-04\n",
       "191.0      4.228613e-04\n",
       "209.0      4.067405e-04\n",
       "301.0      3.897930e-04\n",
       "501.0      3.873128e-04\n",
       "489.0      3.827659e-04\n",
       "510.0      3.823526e-04\n",
       "197.0      3.811125e-04\n",
       "181.0      3.724321e-04\n",
       "718.0      3.645784e-04\n",
       "409.0      3.641650e-04\n",
       "568.0      3.534178e-04\n",
       "443.0      3.509377e-04\n",
       "349.0      3.401905e-04\n",
       "256.0      3.389504e-04\n",
       "268.0      3.385370e-04\n",
       "515.0      3.261364e-04\n",
       "357.0      3.211762e-04\n",
       "193.0      3.203495e-04\n",
       "383.0      3.178693e-04\n",
       "379.0      2.967883e-04\n",
       "224.0      2.951349e-04\n",
       "596.0      2.831476e-04\n",
       "204.0      2.781873e-04\n",
       "544.0      2.666134e-04\n",
       "305.0      2.595864e-04\n",
       "508.0      2.583463e-04\n",
       "231.0      2.525594e-04\n",
       "408.0      2.455324e-04\n",
       "416.0      2.451190e-04\n",
       "512.0      2.438789e-04\n",
       "375.0      2.302383e-04\n",
       "422.0      2.161842e-04\n",
       "183.0      2.145308e-04\n",
       "112.0      2.116373e-04\n",
       "493.0      2.112240e-04\n",
       "394.0      2.037836e-04\n",
       "505.0      2.029569e-04\n",
       "401.0      2.025435e-04\n",
       "848.0      2.025435e-04\n",
       "665.0      1.967566e-04\n",
       "360.0      1.798091e-04\n",
       "402.0      1.736087e-04\n",
       "110.0      1.723687e-04\n",
       "802.0      1.624482e-04\n",
       "243.0      1.620348e-04\n",
       "395.0      1.616215e-04\n",
       "263.0      1.529410e-04\n",
       "387.0      1.450873e-04\n",
       "451.0      1.368202e-04\n",
       "507.0      1.297932e-04\n",
       "744.0      1.293798e-04\n",
       "683.0      1.268997e-04\n",
       "363.0      1.264864e-04\n",
       "347.0      1.240062e-04\n",
       "809.0      1.219395e-04\n",
       "426.0      1.202861e-04\n",
       "108.0      1.194593e-04\n",
       "625.0      1.178059e-04\n",
       "425.0      1.169792e-04\n",
       "277.0      1.161525e-04\n",
       "430.0      1.157392e-04\n",
       "241.0      1.066454e-04\n",
       "457.0      1.058187e-04\n",
       "164.0      1.049920e-04\n",
       "918.0      1.041652e-04\n",
       "111.0      1.037519e-04\n",
       "214.0      1.020985e-04\n",
       "418.0      1.012718e-04\n",
       "432.0      1.000317e-04\n",
       "703.0      9.961835e-05\n",
       "502.0      9.713823e-05\n",
       "233.0      9.631152e-05\n",
       "271.0      9.052456e-05\n",
       "185.0      8.804443e-05\n",
       "371.0      8.473760e-05\n",
       "570.0      8.349754e-05\n",
       "724.0      8.225748e-05\n",
       "477.0      7.895064e-05\n",
       "565.0      7.729723e-05\n",
       "514.0      7.647052e-05\n",
       "335.0      7.647052e-05\n",
       "727.0      6.944350e-05\n",
       "907.0      6.861679e-05\n",
       "643.0      6.861679e-05\n",
       "174.0      6.655002e-05\n",
       "695.0      6.530996e-05\n",
       "393.0      6.530996e-05\n",
       "166.0      6.282983e-05\n",
       "633.0      6.241648e-05\n",
       "365.0      6.241648e-05\n",
       "385.0      6.158977e-05\n",
       "479.0      5.993635e-05\n",
       "764.0      5.952300e-05\n",
       "696.0      5.910964e-05\n",
       "464.0      5.869629e-05\n",
       "762.0      5.828294e-05\n",
       "509.0      5.704287e-05\n",
       "817.0      5.580281e-05\n",
       "548.0      5.414939e-05\n",
       "652.0      5.249598e-05\n",
       "808.0      5.125591e-05\n",
       "711.0      5.001585e-05\n",
       "520.0      5.001585e-05\n",
       "180.0      5.001585e-05\n",
       "799.0      4.918914e-05\n",
       "772.0      4.877579e-05\n",
       "420.0      4.836244e-05\n",
       "264.0      4.670902e-05\n",
       "644.0      4.505560e-05\n",
       "266.0      4.340219e-05\n",
       "344.0      4.340219e-05\n",
       "195.0      4.133541e-05\n",
       "442.0      4.092206e-05\n",
       "594.0      3.926864e-05\n",
       "812.0      3.885529e-05\n",
       "858.0      3.844194e-05\n",
       "187.0      3.802858e-05\n",
       "761.0      3.596181e-05\n",
       "770.0      3.554846e-05\n",
       "519.0      3.472175e-05\n",
       "742.0      3.472175e-05\n",
       "688.0      3.182827e-05\n",
       "455.0      3.182827e-05\n",
       "176.0      3.017485e-05\n",
       "428.0      3.017485e-05\n",
       "329.0      2.976150e-05\n",
       "244.0      2.645467e-05\n",
       "435.0      2.604131e-05\n",
       "879.0      2.604131e-05\n",
       "701.0      2.521460e-05\n",
       "104.0      2.480125e-05\n",
       "788.0      2.438789e-05\n",
       "730.0      2.356119e-05\n",
       "781.0      2.356119e-05\n",
       "659.0      2.314783e-05\n",
       "844.0      2.190777e-05\n",
       "450.0      2.149442e-05\n",
       "531.0      2.108106e-05\n",
       "563.0      2.066771e-05\n",
       "818.0      1.984100e-05\n",
       "698.0      1.942765e-05\n",
       "877.0      1.860094e-05\n",
       "373.0      1.860094e-05\n",
       "674.0      1.860094e-05\n",
       "647.0      1.777423e-05\n",
       "841.0      1.694752e-05\n",
       "125.0      1.612081e-05\n",
       "731.0      1.612081e-05\n",
       "434.0      1.488075e-05\n",
       "719.0      1.488075e-05\n",
       "789.0      1.446740e-05\n",
       "849.0      1.446740e-05\n",
       "103.0      1.364069e-05\n",
       "862.0      1.364069e-05\n",
       "591.0      1.322733e-05\n",
       "687.0      1.322733e-05\n",
       "586.0      1.322733e-05\n",
       "663.0      1.322733e-05\n",
       "899.0      1.322733e-05\n",
       "706.0      1.322733e-05\n",
       "610.0      1.322733e-05\n",
       "641.0      1.281398e-05\n",
       "293.0      1.157392e-05\n",
       "766.0      1.157392e-05\n",
       "524.0      1.157392e-05\n",
       "876.0      1.116056e-05\n",
       "107.0      1.074721e-05\n",
       "672.0      1.074721e-05\n",
       "853.0      9.920500e-06\n",
       "186.0      9.507145e-06\n",
       "721.0      9.093791e-06\n",
       "627.0      9.093791e-06\n",
       "746.0      8.680437e-06\n",
       "234.0      8.267083e-06\n",
       "381.0      8.267083e-06\n",
       "662.0      8.267083e-06\n",
       "447.0      8.267083e-06\n",
       "595.0      7.853729e-06\n",
       "491.0      7.440375e-06\n",
       "248.0      6.613666e-06\n",
       "341.0      6.613666e-06\n",
       "498.0      6.613666e-06\n",
       "331.0      6.200312e-06\n",
       "102.0      6.200312e-06\n",
       "697.0      6.200312e-06\n",
       "826.0      6.200312e-06\n",
       "350.0      6.200312e-06\n",
       "537.0      5.786958e-06\n",
       "261.0      5.786958e-06\n",
       "811.0      5.373604e-06\n",
       "756.0      5.373604e-06\n",
       "645.0      5.373604e-06\n",
       "351.0      4.960250e-06\n",
       "691.0      4.960250e-06\n",
       "888.0      4.546896e-06\n",
       "904.0      4.546896e-06\n",
       "285.0      4.546896e-06\n",
       "291.0      4.546896e-06\n",
       "587.0      4.546896e-06\n",
       "780.0      4.133541e-06\n",
       "619.0      4.133541e-06\n",
       "874.0      4.133541e-06\n",
       "532.0      3.720187e-06\n",
       "431.0      3.720187e-06\n",
       "323.0      3.720187e-06\n",
       "669.0      3.720187e-06\n",
       "289.0      3.306833e-06\n",
       "557.0      3.306833e-06\n",
       "880.0      2.893479e-06\n",
       "122.0      2.893479e-06\n",
       "423.0      2.893479e-06\n",
       "265.0      2.893479e-06\n",
       "821.0      2.893479e-06\n",
       "593.0      2.893479e-06\n",
       "576.0      2.893479e-06\n",
       "585.0      2.893479e-06\n",
       "815.0      2.480125e-06\n",
       "843.0      2.480125e-06\n",
       "476.0      2.480125e-06\n",
       "872.0      2.480125e-06\n",
       "283.0      2.480125e-06\n",
       "553.0      2.480125e-06\n",
       "754.0      2.480125e-06\n",
       "281.0      2.480125e-06\n",
       "889.0      2.066771e-06\n",
       "529.0      2.066771e-06\n",
       "605.0      2.066771e-06\n",
       "533.0      2.066771e-06\n",
       "648.0      2.066771e-06\n",
       "445.0      2.066771e-06\n",
       "588.0      2.066771e-06\n",
       "864.0      2.066771e-06\n",
       "297.0      2.066771e-06\n",
       "584.0      1.653417e-06\n",
       "429.0      1.653417e-06\n",
       "775.0      1.653417e-06\n",
       "693.0      1.653417e-06\n",
       "143.0      1.653417e-06\n",
       "890.0      1.653417e-06\n",
       "892.0      1.653417e-06\n",
       "664.0      1.653417e-06\n",
       "178.0      1.653417e-06\n",
       "846.0      1.240062e-06\n",
       "861.0      1.240062e-06\n",
       "162.0      1.240062e-06\n",
       "733.0      1.240062e-06\n",
       "345.0      1.240062e-06\n",
       "845.0      1.240062e-06\n",
       "468.0      1.240062e-06\n",
       "803.0      1.240062e-06\n",
       "813.0      1.240062e-06\n",
       "523.0      1.240062e-06\n",
       "299.0      1.240062e-06\n",
       "715.0      8.267083e-07\n",
       "887.0      8.267083e-07\n",
       "561.0      8.267083e-07\n",
       "969.0      8.267083e-07\n",
       "829.0      8.267083e-07\n",
       "798.0      8.267083e-07\n",
       "275.0      8.267083e-07\n",
       "827.0      8.267083e-07\n",
       "737.0      8.267083e-07\n",
       "530.0      8.267083e-07\n",
       "783.0      8.267083e-07\n",
       "342.0      8.267083e-07\n",
       "355.0      4.133541e-07\n",
       "618.0      4.133541e-07\n",
       "860.0      4.133541e-07\n",
       "840.0      4.133541e-07\n",
       "184.0      4.133541e-07\n",
       "622.0      4.133541e-07\n",
       "787.0      4.133541e-07\n",
       "975.0      4.133541e-07\n",
       "786.0      4.133541e-07\n",
       "784.0      4.133541e-07\n",
       "646.0      4.133541e-07\n",
       "685.0      4.133541e-07\n",
       "785.0      4.133541e-07\n",
       "822.0      4.133541e-07\n",
       "119.0      4.133541e-07\n",
       "121.0      4.133541e-07\n",
       "797.0      4.133541e-07\n",
       "436.0      4.133541e-07\n",
       "689.0      4.133541e-07\n",
       "146.0      4.133541e-07\n",
       "820.0      4.133541e-07\n",
       "694.0      4.133541e-07\n",
       "604.0      4.133541e-07\n",
       "Name: PD_CD, dtype: float64"
      ]
     },
     "execution_count": 252,
     "metadata": {},
     "output_type": "execute_result"
    }
   ],
   "source": [
    "nyc_crime_race_reported.PD_CD.value_counts(normalize=True)"
   ]
  },
  {
   "cell_type": "code",
   "execution_count": 253,
   "metadata": {
    "scrolled": true
   },
   "outputs": [
    {
     "data": {
      "text/plain": [
       "638.0      0.161733\n",
       "101.0      0.130165\n",
       "637.0      0.097779\n",
       "639.0      0.095820\n",
       "333.0      0.045068\n",
       "109.0      0.041893\n",
       "397.0      0.029352\n",
       "259.0      0.024714\n",
       "198.0      0.022524\n",
       "338.0      0.022197\n",
       "113.0      0.022148\n",
       "749.0      0.013434\n",
       "567.0      0.012909\n",
       "386.0      0.010152\n",
       "511.0      0.009247\n",
       "254.0      0.008519\n",
       "419.0      0.008499\n",
       "905.0      0.007957\n",
       "175.0      0.007672\n",
       "339.0      0.007072\n",
       "269.0      0.006899\n",
       "782.0      0.006820\n",
       "438.0      0.006568\n",
       "114.0      0.006300\n",
       "748.0      0.006159\n",
       "729.0      0.006130\n",
       "388.0      0.005741\n",
       "105.0      0.005663\n",
       "205.0      0.005088\n",
       "793.0      0.004741\n",
       "221.0      0.004522\n",
       "433.0      0.004018\n",
       "462.0      0.003774\n",
       "399.0      0.003766\n",
       "878.0      0.003555\n",
       "916.0      0.003406\n",
       "321.0      0.003315\n",
       "157.0      0.003303\n",
       "681.0      0.003266\n",
       "223.0      0.003150\n",
       "384.0      0.003042\n",
       "478.0      0.003001\n",
       "267.0      0.003001\n",
       "759.0      0.002968\n",
       "106.0      0.002922\n",
       "404.0      0.002836\n",
       "389.0      0.002728\n",
       "750.0      0.002550\n",
       "117.0      0.002513\n",
       "258.0      0.002484\n",
       "503.0      0.002397\n",
       "922.0      0.002273\n",
       "417.0      0.002141\n",
       "661.0      0.002137\n",
       "313.0      0.002121\n",
       "415.0      0.002001\n",
       "439.0      0.001972\n",
       "398.0      0.001914\n",
       "707.0      0.001815\n",
       "382.0      0.001798\n",
       "405.0      0.001782\n",
       "343.0      0.001765\n",
       "407.0      0.001699\n",
       "441.0      0.001678\n",
       "213.0      0.001670\n",
       "461.0      0.001575\n",
       "115.0      0.001500\n",
       "705.0      0.001472\n",
       "412.0      0.001472\n",
       "490.0      0.001438\n",
       "203.0      0.001376\n",
       "307.0      0.001352\n",
       "unknown    0.001327\n",
       "792.0      0.001257\n",
       "390.0      0.001240\n",
       "500.0      0.001203\n",
       "211.0      0.001199\n",
       "168.0      0.001174\n",
       "640.0      0.001174\n",
       "421.0      0.001149\n",
       "739.0      0.001145\n",
       "494.0      0.001116\n",
       "414.0      0.001058\n",
       "361.0      0.001033\n",
       "403.0      0.001025\n",
       "273.0      0.001021\n",
       "760.0      0.000951\n",
       "437.0      0.000889\n",
       "396.0      0.000868\n",
       "170.0      0.000868\n",
       "367.0      0.000852\n",
       "847.0      0.000827\n",
       "177.0      0.000806\n",
       "377.0      0.000781\n",
       "179.0      0.000752\n",
       "725.0      0.000732\n",
       "649.0      0.000723\n",
       "569.0      0.000694\n",
       "159.0      0.000628\n",
       "201.0      0.000616\n",
       "380.0      0.000612\n",
       "779.0      0.000608\n",
       "410.0      0.000575\n",
       "199.0      0.000570\n",
       "411.0      0.000558\n",
       "424.0      0.000558\n",
       "153.0      0.000554\n",
       "303.0      0.000550\n",
       "708.0      0.000546\n",
       "155.0      0.000537\n",
       "466.0      0.000525\n",
       "566.0      0.000525\n",
       "521.0      0.000517\n",
       "392.0      0.000517\n",
       "475.0      0.000513\n",
       "366.0      0.000504\n",
       "413.0      0.000475\n",
       "501.0      0.000442\n",
       "391.0      0.000438\n",
       "191.0      0.000430\n",
       "723.0      0.000417\n",
       "510.0      0.000413\n",
       "406.0      0.000409\n",
       "197.0      0.000409\n",
       "443.0      0.000393\n",
       "568.0      0.000389\n",
       "181.0      0.000376\n",
       "718.0      0.000364\n",
       "209.0      0.000360\n",
       "409.0      0.000355\n",
       "489.0      0.000351\n",
       "357.0      0.000347\n",
       "193.0      0.000347\n",
       "301.0      0.000347\n",
       "349.0      0.000339\n",
       "268.0      0.000339\n",
       "231.0      0.000327\n",
       "256.0      0.000322\n",
       "515.0      0.000318\n",
       "379.0      0.000314\n",
       "596.0      0.000306\n",
       "383.0      0.000306\n",
       "508.0      0.000289\n",
       "544.0      0.000281\n",
       "224.0      0.000281\n",
       "375.0      0.000277\n",
       "204.0      0.000265\n",
       "512.0      0.000252\n",
       "505.0      0.000236\n",
       "422.0      0.000231\n",
       "416.0      0.000219\n",
       "408.0      0.000215\n",
       "802.0      0.000215\n",
       "665.0      0.000215\n",
       "493.0      0.000211\n",
       "183.0      0.000211\n",
       "395.0      0.000203\n",
       "401.0      0.000203\n",
       "305.0      0.000198\n",
       "848.0      0.000194\n",
       "360.0      0.000178\n",
       "394.0      0.000178\n",
       "110.0      0.000165\n",
       "507.0      0.000161\n",
       "263.0      0.000153\n",
       "243.0      0.000153\n",
       "387.0      0.000149\n",
       "402.0      0.000149\n",
       "430.0      0.000136\n",
       "426.0      0.000132\n",
       "683.0      0.000124\n",
       "112.0      0.000124\n",
       "108.0      0.000124\n",
       "277.0      0.000120\n",
       "425.0      0.000120\n",
       "451.0      0.000120\n",
       "363.0      0.000116\n",
       "271.0      0.000116\n",
       "625.0      0.000116\n",
       "502.0      0.000116\n",
       "241.0      0.000112\n",
       "809.0      0.000112\n",
       "457.0      0.000107\n",
       "185.0      0.000103\n",
       "214.0      0.000103\n",
       "347.0      0.000099\n",
       "570.0      0.000099\n",
       "418.0      0.000099\n",
       "727.0      0.000095\n",
       "918.0      0.000095\n",
       "703.0      0.000095\n",
       "643.0      0.000095\n",
       "744.0      0.000087\n",
       "695.0      0.000083\n",
       "111.0      0.000083\n",
       "164.0      0.000083\n",
       "514.0      0.000074\n",
       "565.0      0.000074\n",
       "335.0      0.000070\n",
       "393.0      0.000070\n",
       "724.0      0.000066\n",
       "817.0      0.000066\n",
       "432.0      0.000066\n",
       "365.0      0.000066\n",
       "652.0      0.000066\n",
       "477.0      0.000066\n",
       "385.0      0.000062\n",
       "520.0      0.000062\n",
       "762.0      0.000062\n",
       "764.0      0.000062\n",
       "633.0      0.000062\n",
       "509.0      0.000062\n",
       "464.0      0.000062\n",
       "907.0      0.000058\n",
       "233.0      0.000058\n",
       "799.0      0.000058\n",
       "711.0      0.000058\n",
       "479.0      0.000058\n",
       "166.0      0.000058\n",
       "174.0      0.000054\n",
       "266.0      0.000050\n",
       "701.0      0.000050\n",
       "644.0      0.000050\n",
       "808.0      0.000050\n",
       "442.0      0.000045\n",
       "519.0      0.000045\n",
       "548.0      0.000045\n",
       "812.0      0.000041\n",
       "772.0      0.000041\n",
       "420.0      0.000041\n",
       "264.0      0.000041\n",
       "696.0      0.000041\n",
       "788.0      0.000037\n",
       "344.0      0.000037\n",
       "187.0      0.000037\n",
       "531.0      0.000037\n",
       "730.0      0.000037\n",
       "761.0      0.000037\n",
       "698.0      0.000037\n",
       "770.0      0.000037\n",
       "195.0      0.000037\n",
       "428.0      0.000033\n",
       "858.0      0.000033\n",
       "371.0      0.000033\n",
       "742.0      0.000029\n",
       "688.0      0.000029\n",
       "455.0      0.000029\n",
       "674.0      0.000029\n",
       "435.0      0.000029\n",
       "293.0      0.000029\n",
       "563.0      0.000029\n",
       "841.0      0.000029\n",
       "180.0      0.000025\n",
       "329.0      0.000025\n",
       "844.0      0.000021\n",
       "899.0      0.000021\n",
       "719.0      0.000021\n",
       "450.0      0.000021\n",
       "862.0      0.000021\n",
       "594.0      0.000021\n",
       "781.0      0.000021\n",
       "586.0      0.000021\n",
       "434.0      0.000021\n",
       "647.0      0.000021\n",
       "879.0      0.000017\n",
       "877.0      0.000017\n",
       "104.0      0.000017\n",
       "610.0      0.000017\n",
       "373.0      0.000017\n",
       "595.0      0.000017\n",
       "186.0      0.000017\n",
       "849.0      0.000017\n",
       "818.0      0.000017\n",
       "103.0      0.000012\n",
       "789.0      0.000012\n",
       "498.0      0.000012\n",
       "107.0      0.000012\n",
       "659.0      0.000012\n",
       "122.0      0.000012\n",
       "248.0      0.000012\n",
       "381.0      0.000012\n",
       "721.0      0.000012\n",
       "687.0      0.000012\n",
       "876.0      0.000012\n",
       "746.0      0.000008\n",
       "766.0      0.000008\n",
       "125.0      0.000008\n",
       "669.0      0.000008\n",
       "715.0      0.000008\n",
       "524.0      0.000008\n",
       "706.0      0.000008\n",
       "593.0      0.000008\n",
       "591.0      0.000008\n",
       "585.0      0.000008\n",
       "874.0      0.000008\n",
       "662.0      0.000008\n",
       "663.0      0.000008\n",
       "529.0      0.000008\n",
       "537.0      0.000008\n",
       "672.0      0.000008\n",
       "491.0      0.000008\n",
       "244.0      0.000008\n",
       "447.0      0.000008\n",
       "627.0      0.000008\n",
       "872.0      0.000004\n",
       "845.0      0.000004\n",
       "557.0      0.000004\n",
       "798.0      0.000004\n",
       "811.0      0.000004\n",
       "523.0      0.000004\n",
       "815.0      0.000004\n",
       "121.0      0.000004\n",
       "436.0      0.000004\n",
       "605.0      0.000004\n",
       "342.0      0.000004\n",
       "351.0      0.000004\n",
       "350.0      0.000004\n",
       "234.0      0.000004\n",
       "731.0      0.000004\n",
       "890.0      0.000004\n",
       "697.0      0.000004\n",
       "888.0      0.000004\n",
       "265.0      0.000004\n",
       "285.0      0.000004\n",
       "289.0      0.000004\n",
       "291.0      0.000004\n",
       "754.0      0.000004\n",
       "756.0      0.000004\n",
       "429.0      0.000004\n",
       "176.0      0.000004\n",
       "323.0      0.000004\n",
       "331.0      0.000004\n",
       "645.0      0.000004\n",
       "341.0      0.000004\n",
       "431.0      0.000004\n",
       "Name: PD_CD, dtype: float64"
      ]
     },
     "execution_count": 253,
     "metadata": {},
     "output_type": "execute_result"
    }
   ],
   "source": [
    "nyc_crime_race_reported_sample.PD_CD.value_counts(normalize=True)"
   ]
  },
  {
   "cell_type": "code",
   "execution_count": 254,
   "metadata": {
    "scrolled": true
   },
   "outputs": [
    {
     "data": {
      "text/plain": [
       "MISDEMEANOR    0.486125\n",
       "VIOLATION      0.262454\n",
       "FELONY         0.251421\n",
       "Name: LAW_CAT_CD, dtype: float64"
      ]
     },
     "execution_count": 254,
     "metadata": {},
     "output_type": "execute_result"
    }
   ],
   "source": [
    "nyc_crime_race_reported.LAW_CAT_CD.value_counts(normalize=True)"
   ]
  },
  {
   "cell_type": "code",
   "execution_count": 255,
   "metadata": {},
   "outputs": [
    {
     "data": {
      "text/plain": [
       "MISDEMEANOR    0.487143\n",
       "VIOLATION      0.261071\n",
       "FELONY         0.251787\n",
       "Name: LAW_CAT_CD, dtype: float64"
      ]
     },
     "execution_count": 255,
     "metadata": {},
     "output_type": "execute_result"
    }
   ],
   "source": [
    "nyc_crime_race_reported_sample.LAW_CAT_CD.value_counts(normalize=True)"
   ]
  },
  {
   "cell_type": "markdown",
   "metadata": {},
   "source": [
    "The next couple cells of code csv export one DataFrame of the sample of all crimes, and then another DataFrame for only the sample of cases where the suspect's race was reported."
   ]
  },
  {
   "cell_type": "code",
   "execution_count": 256,
   "metadata": {},
   "outputs": [],
   "source": [
    "nyc_crime_sample.to_csv('nyc_crime_sample_HT.csv')"
   ]
  },
  {
   "cell_type": "code",
   "execution_count": 257,
   "metadata": {},
   "outputs": [],
   "source": [
    "nyc_crime_race_reported_sample.to_csv('nyc_crime_race_reported_sample_HT.csv')"
   ]
  },
  {
   "cell_type": "code",
   "execution_count": null,
   "metadata": {},
   "outputs": [],
   "source": []
  }
 ],
 "metadata": {
  "kernelspec": {
   "display_name": "Python 3",
   "language": "python",
   "name": "python3"
  },
  "language_info": {
   "codemirror_mode": {
    "name": "ipython",
    "version": 3
   },
   "file_extension": ".py",
   "mimetype": "text/x-python",
   "name": "python",
   "nbconvert_exporter": "python",
   "pygments_lexer": "ipython3",
   "version": "3.7.3"
  }
 },
 "nbformat": 4,
 "nbformat_minor": 2
}
