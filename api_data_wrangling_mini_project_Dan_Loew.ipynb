{
 "cells": [
  {
   "cell_type": "markdown",
   "metadata": {},
   "source": [
    "This exercise will require you to pull some data from the Quandl API. Qaundl is currently the most widely used aggregator of financial market data."
   ]
  },
  {
   "cell_type": "markdown",
   "metadata": {},
   "source": [
    "As a first step, you will need to register a free account on the http://www.quandl.com website."
   ]
  },
  {
   "cell_type": "markdown",
   "metadata": {},
   "source": [
    "After you register, you will be provided with a unique API key, that you should store:"
   ]
  },
  {
   "cell_type": "code",
   "execution_count": 1,
   "metadata": {},
   "outputs": [],
   "source": [
    "# Store the API key as a string - according to PEP8, constants are always named in all upper case\n",
    "API_KEY = ''"
   ]
  },
  {
   "cell_type": "markdown",
   "metadata": {},
   "source": [
    "Qaundl has a large number of data sources, but, unfortunately, most of them require a Premium subscription. Still, there are also a good number of free datasets."
   ]
  },
  {
   "cell_type": "markdown",
   "metadata": {},
   "source": [
    "For this mini project, we will focus on equities data from the Frankfurt Stock Exhange (FSE), which is available for free. We'll try and analyze the stock prices of a company called Carl Zeiss Meditec, which manufactures tools for eye examinations, as well as medical lasers for laser eye surgery: https://www.zeiss.com/meditec/int/home.html. The company is listed under the stock ticker AFX_X."
   ]
  },
  {
   "cell_type": "markdown",
   "metadata": {},
   "source": [
    "You can find the detailed Quandl API instructions here: https://docs.quandl.com/docs/time-series"
   ]
  },
  {
   "cell_type": "markdown",
   "metadata": {},
   "source": [
    "While there is a dedicated Python package for connecting to the Quandl API, we would prefer that you use the *requests* package, which can be easily downloaded using *pip* or *conda*. You can find the documentation for the package here: http://docs.python-requests.org/en/master/ "
   ]
  },
  {
   "cell_type": "markdown",
   "metadata": {},
   "source": [
    "Finally, apart from the *requests* package, you are encouraged to not use any third party Python packages, such as *pandas*, and instead focus on what's available in the Python Standard Library (the *collections* module might come in handy: https://pymotw.com/3/collections/ ).\n",
    "Also, since you won't have access to DataFrames, you are encouraged to us Python's native data structures - preferably dictionaries, though some questions can also be answered using lists.\n",
    "You can read more on these data structures here: https://docs.python.org/3/tutorial/datastructures.html"
   ]
  },
  {
   "cell_type": "markdown",
   "metadata": {},
   "source": [
    "Keep in mind that the JSON responses you will be getting from the API map almost one-to-one to Python's dictionaries. Unfortunately, they can be very nested, so make sure you read up on indexing dictionaries in the documentation provided above."
   ]
  },
  {
   "cell_type": "code",
   "execution_count": 1,
   "metadata": {},
   "outputs": [],
   "source": [
    "# First, import the relevant modules\n",
    "import requests\n",
    "import json"
   ]
  },
  {
   "cell_type": "code",
   "execution_count": 2,
   "metadata": {},
   "outputs": [
    {
     "name": "stdout",
     "output_type": "stream",
     "text": [
      "{'dataset_data': {'limit': None, 'transform': None, 'column_index': None, 'column_names': ['Date', 'Open', 'High', 'Low', 'Close', 'Change', 'Traded Volume', 'Turnover', 'Last Price of the Day', 'Daily Traded Units', 'Daily Turnover'], 'start_date': '2017-01-01', 'end_date': '2017-01-02', 'frequency': 'daily', 'data': [['2017-01-02', 34.99, 35.94, 34.99, 35.8, None, 44700.0, 1590561.0, None, None, None]], 'collapse': None, 'order': None}}\n"
     ]
    }
   ],
   "source": [
    "# Now, call the Quandl API and pull out a small sample of the data (only one day) to get a glimpse\n",
    "# into the JSON structure that will be returned\n",
    "url = 'https://www.quandl.com/api/v3/datasets/FSE/AFX_X/data.json?start_date=2017-01-01&end_date=2017-01-02&api_key='\n",
    "sample = requests.get(url)\n",
    "json_data = sample.json()\n",
    "print(json_data)"
   ]
  },
  {
   "cell_type": "code",
   "execution_count": 3,
   "metadata": {},
   "outputs": [
    {
     "name": "stdout",
     "output_type": "stream",
     "text": [
      "<class 'dict'>\n"
     ]
    }
   ],
   "source": [
    "print(type(json_data))"
   ]
  },
  {
   "cell_type": "code",
   "execution_count": 7,
   "metadata": {},
   "outputs": [
    {
     "name": "stdout",
     "output_type": "stream",
     "text": [
      "{'limit': None, 'transform': None, 'column_index': None, 'column_names': ['Date', 'Open', 'High', 'Low', 'Close', 'Change', 'Traded Volume', 'Turnover', 'Last Price of the Day', 'Daily Traded Units', 'Daily Turnover'], 'start_date': '2017-01-01', 'end_date': '2017-01-02', 'frequency': 'daily', 'data': [['2017-01-02', 34.99, 35.94, 34.99, 35.8, None, 44700.0, 1590561.0, None, None, None]], 'collapse': None, 'order': None}\n",
      "<class 'dict'>\n",
      "<class 'dict'>\n"
     ]
    }
   ],
   "source": [
    "# Inspect the JSON structure of the object you created, and take note of how nested it is,\n",
    "# as well as the overall structure\n",
    "dataset_data = json_data['dataset_data']\n",
    "print(dataset_data)\n",
    "print(type(json_data))\n",
    "print(type(dataset_data))"
   ]
  },
  {
   "cell_type": "markdown",
   "metadata": {},
   "source": [
    "These are your tasks for this mini project:\n",
    "\n",
    "1. Collect data from the Franfurt Stock Exchange, for the ticker AFX_X, for the whole year 2017 (keep in mind that the date format is YYYY-MM-DD).\n",
    "2. Convert the returned JSON object into a Python dictionary.\n",
    "3. Calculate what the highest and lowest opening prices were for the stock in this period.\n",
    "4. What was the largest change in any one day (based on High and Low price)?\n",
    "5. What was the largest change between any two days (based on Closing Price)?\n",
    "6. What was the average daily trading volume during this year?\n",
    "7. (Optional) What was the median trading volume during this year. (Note: you may need to implement your own function for calculating the median.)"
   ]
  },
  {
   "cell_type": "code",
   "execution_count": 8,
   "metadata": {},
   "outputs": [],
   "source": [
    "#1. Collect data from the Franfurt Stock Exchange, for the ticker AFX_X, for the whole year 2017 \n",
    "#(keep in mind that the date format is YYYY-MM-DD).\n",
    "url = 'https://www.quandl.com/api/v3/datasets/FSE/AFX_X/data.json?start_date=2017-01-01&end_date=2017-12-31&api_key=xMvWSb3ZFBcTK_6L9pZp'\n",
    "full = requests.get(url)"
   ]
  },
  {
   "cell_type": "code",
   "execution_count": null,
   "metadata": {},
   "outputs": [],
   "source": [
    "#2. Convert the returned JSON object into a Python dictionary."
   ]
  },
  {
   "cell_type": "code",
   "execution_count": 13,
   "metadata": {},
   "outputs": [
    {
     "name": "stdout",
     "output_type": "stream",
     "text": [
      "<class 'dict'>\n"
     ]
    }
   ],
   "source": [
    "json_data_full = full.json()\n",
    "print(type(json_data_full))"
   ]
  },
  {
   "cell_type": "code",
   "execution_count": 19,
   "metadata": {
    "scrolled": true
   },
   "outputs": [
    {
     "name": "stdout",
     "output_type": "stream",
     "text": [
      "<class 'dict'>\n"
     ]
    }
   ],
   "source": [
    "dataset_data_full = json_data_full['dataset_data']\n",
    "print(type(dataset_data_full))"
   ]
  },
  {
   "cell_type": "code",
   "execution_count": 41,
   "metadata": {},
   "outputs": [],
   "source": [
    "# 3. Calculate what the highest and lowest opening prices were for the stock in this period.\n",
    "afx_data = dataset_data_full['data']\n",
    "opening = [x[1] for x in afx_data if x[1] != None]\n",
    "sorted_opening = sorted(opening, reverse=True)"
   ]
  },
  {
   "cell_type": "code",
   "execution_count": 42,
   "metadata": {
    "collapsed": true
   },
   "outputs": [
    {
     "name": "stdout",
     "output_type": "stream",
     "text": [
      "[53.11, 52.73, 52.7, 52.64, 52.37, 52.29, 52.28, 51.88, 51.76, 51.65, 51.5, 51.45, 51.21, 51.16, 51.05, 50.89, 50.8, 49.64, 49.52, 49.5, 49.13, 49.11, 49.09, 48.8, 48.64, 48.4, 48.4, 48.38, 47.98, 47.8, 47.65, 47.46, 47.31, 47.3, 47.29, 47.25, 47.23, 47.12, 47.09, 47.03, 47.03, 47.01, 46.95, 46.9, 46.8, 46.77, 46.68, 46.57, 46.53, 46.52, 46.5, 46.48, 46.42, 46.34, 46.29, 46.2, 46.19, 46.16, 46.12, 46.01, 46.01, 45.97, 45.88, 45.85, 45.83, 45.81, 45.8, 45.74, 45.73, 45.72, 45.66, 45.64, 45.61, 45.61, 45.6, 45.58, 45.57, 45.5, 45.5, 45.5, 45.48, 45.36, 45.34, 45.31, 45.29, 45.26, 45.25, 45.24, 45.22, 45.2, 45.18, 45.16, 45.16, 45.15, 45.13, 45.09, 45.08, 45.07, 45.06, 45.06, 45.05, 45.01, 45.01, 45.0, 44.94, 44.94, 44.91, 44.9, 44.9, 44.8, 44.8, 44.79, 44.7, 44.67, 44.67, 44.64, 44.51, 44.29, 44.16, 44.0, 43.92, 43.74, 43.67, 43.58, 43.5, 43.5, 43.4, 43.21, 43.0, 43.0, 43.0, 42.82, 42.81, 42.72, 42.7, 42.66, 42.65, 42.64, 42.54, 42.53, 42.52, 42.5, 42.5, 42.49, 42.46, 42.42, 42.4, 42.38, 42.35, 42.35, 42.3, 42.3, 42.29, 42.29, 42.28, 42.24, 42.2, 42.17, 42.16, 42.12, 42.11, 42.06, 42.02, 42.01, 42.0, 42.0, 42.0, 41.97, 41.94, 41.93, 41.89, 41.88, 41.88, 41.86, 41.83, 41.8, 41.73, 41.71, 41.62, 41.61, 41.53, 41.51, 41.5, 41.48, 41.47, 41.46, 41.4, 41.4, 41.4, 41.38, 41.3, 41.26, 41.25, 41.2, 41.19, 41.13, 41.12, 41.1, 40.96, 40.9, 40.38, 40.15, 40.02, 39.77, 39.77, 39.75, 39.72, 39.6, 39.5, 39.39, 39.25, 39.01, 38.95, 38.94, 38.85, 38.81, 38.8, 38.8, 38.73, 38.5, 38.25, 37.37, 36.65, 36.2, 36.06, 36.02, 35.98, 35.95, 35.9, 35.56, 35.48, 35.38, 35.38, 35.29, 35.24, 35.07, 35.06, 35.04, 35.04, 35.02, 34.99, 34.98, 34.95, 34.91, 34.85, 34.83, 34.8, 34.75, 34.54, 34.42, 34.04, 34.0]\n"
     ]
    }
   ],
   "source": [
    "print(sorted_opening)"
   ]
  },
  {
   "cell_type": "code",
   "execution_count": 43,
   "metadata": {},
   "outputs": [
    {
     "name": "stdout",
     "output_type": "stream",
     "text": [
      "The highest opening price for the AFX stock in 2017 was: 53.11\n",
      "The lowest opening price for the AFX stock in 2017 was: 34.0\n"
     ]
    }
   ],
   "source": [
    "print(\"The highest opening price for the AFX stock in 2017 was: \" + str(sorted_opening[0]))\n",
    "print(\"The lowest opening price for the AFX stock in 2017 was: \" + str(sorted_opening[-1]))"
   ]
  },
  {
   "cell_type": "code",
   "execution_count": 73,
   "metadata": {},
   "outputs": [],
   "source": [
    "#4. What was the largest change in any one day (based on High and Low price)?\n",
    "one_day_change = [(x[2] - x[3]) for x in afx_data if (x[2] != None) and (x[3] !=None)]"
   ]
  },
  {
   "cell_type": "code",
   "execution_count": 74,
   "metadata": {},
   "outputs": [],
   "source": [
    "one_day_change = sorted(one_day_change, reverse=True)"
   ]
  },
  {
   "cell_type": "code",
   "execution_count": 81,
   "metadata": {
    "scrolled": true
   },
   "outputs": [
    {
     "name": "stdout",
     "output_type": "stream",
     "text": [
      "The largest change in the AFX stock's price was: 2.81\n"
     ]
    }
   ],
   "source": [
    "print(\"The largest change in the AFX stock's price was: \" + str(round(one_day_change[0],2)))"
   ]
  },
  {
   "cell_type": "code",
   "execution_count": 82,
   "metadata": {},
   "outputs": [],
   "source": [
    "#5. What was the largest change between any two days (based on Closing Price)?\n",
    "btwn_day_change = [(afx_data[i][4] - afx_data[i-1][4]) for i in range(len(afx_data)) if (afx_data[i][4] != None) and (afx_data[i-1][4] != None)]"
   ]
  },
  {
   "cell_type": "code",
   "execution_count": 83,
   "metadata": {},
   "outputs": [],
   "source": [
    "btwn_day_change = sorted(btwn_day_change, reverse=True)"
   ]
  },
  {
   "cell_type": "code",
   "execution_count": 86,
   "metadata": {},
   "outputs": [
    {
     "name": "stdout",
     "output_type": "stream",
     "text": [
      "The largest change in the AFX stock's price between any two days is: 15.96\n"
     ]
    }
   ],
   "source": [
    "print(\"The largest change in the AFX stock's price between any two days is: \" + str(round(btwn_day_change[0],2)))"
   ]
  },
  {
   "cell_type": "code",
   "execution_count": 94,
   "metadata": {},
   "outputs": [],
   "source": [
    "#6. What was the average daily trading volume during this year?\n",
    "trading_volume = [x[6] for x in afx_data if x[6] !=None]"
   ]
  },
  {
   "cell_type": "code",
   "execution_count": 95,
   "metadata": {},
   "outputs": [],
   "source": [
    "avg_trading_volume = sum(trading_volume)/len(trading_volume)"
   ]
  },
  {
   "cell_type": "code",
   "execution_count": 97,
   "metadata": {},
   "outputs": [
    {
     "name": "stdout",
     "output_type": "stream",
     "text": [
      "The average trading volume for the AFX stock in 2017 was: 89124.34\n"
     ]
    }
   ],
   "source": [
    "print('The average trading volume for the AFX stock in 2017 was: ' + str(round(avg_trading_volume,2)))"
   ]
  },
  {
   "cell_type": "code",
   "execution_count": 101,
   "metadata": {},
   "outputs": [],
   "source": [
    "#7. (Optional) What was the median trading volume during this year. (Note: you may need to implement your own function for calculating the median.)\n",
    "def median(trading_volume):\n",
    "    if len(trading_volume) < 1:\n",
    "        return None\n",
    "    elif len(trading_volume) % 2 == 1:\n",
    "        return sorted(trading_volume)[int(len(trading_volume)/2)]\n",
    "    else:\n",
    "        return float(sorted(trading_volume)[int(len(trading_volume)/2)] + sorted(trading_volume)[int(len(trading_volume)/2)-1])/2"
   ]
  },
  {
   "cell_type": "code",
   "execution_count": 104,
   "metadata": {},
   "outputs": [
    {
     "name": "stdout",
     "output_type": "stream",
     "text": [
      "The median trading volume for the AFX stock in 2017 was: 76286.0\n"
     ]
    }
   ],
   "source": [
    "print('The median trading volume for the AFX stock in 2017 was: ' + str(median(trading_volume)))"
   ]
  }
 ],
 "metadata": {
  "kernelspec": {
   "display_name": "Python 3",
   "language": "python",
   "name": "python3"
  },
  "language_info": {
   "codemirror_mode": {
    "name": "ipython",
    "version": 3
   },
   "file_extension": ".py",
   "mimetype": "text/x-python",
   "name": "python",
   "nbconvert_exporter": "python",
   "pygments_lexer": "ipython3",
   "version": "3.7.3"
  }
 },
 "nbformat": 4,
 "nbformat_minor": 2
}
